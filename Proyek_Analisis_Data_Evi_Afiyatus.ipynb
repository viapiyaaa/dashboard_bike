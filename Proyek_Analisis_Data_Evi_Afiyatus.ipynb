{
  "cells": [
    {
      "cell_type": "markdown",
      "metadata": {
        "id": "H9wADwK78DCz"
      },
      "source": [
        "# Proyek Analisis Data: Bike Sharing Dataset\n",
        "- **Nama:** Evi Afiyatus Solihah\n",
        "- **Email:** eviafiyatuss@gmail.com\n",
        "- **ID Dicoding:** MC299D5X1752\n"
      ]
    },
    {
      "cell_type": "markdown",
      "metadata": {
        "id": "eE0raob58DC0"
      },
      "source": [
        "## Menentukan Pertanyaan Bisnis"
      ]
    },
    {
      "cell_type": "markdown",
      "metadata": {
        "id": "GmQeQ5YF8DC0"
      },
      "source": [
        "- Bagaimana distribusi jumlah peminjaman sepeda pada hari kerja, akhir pekan, dan hari libur?\n",
        "- Bagaimana pola peminjaman berdasarkan kategori waktu (jam), dan apakah frekuensi peminjaman selalu berbanding lurus dengan total jumlah peminjaman di setiap kategori waktu?"
      ]
    },
    {
      "cell_type": "markdown",
      "metadata": {
        "id": "H-z4QGlO8DC1"
      },
      "source": [
        "## Import Semua Packages/Library yang Digunakan"
      ]
    },
    {
      "cell_type": "code",
      "execution_count": 80,
      "metadata": {
        "id": "FVYwaObI8DC1"
      },
      "outputs": [],
      "source": [
        "import pandas as pd\n",
        "import matplotlib.pyplot as plt\n",
        "import seaborn as sns"
      ]
    },
    {
      "cell_type": "markdown",
      "metadata": {
        "id": "h_Sh51Xy8DC1"
      },
      "source": [
        "## Data Wrangling"
      ]
    },
    {
      "cell_type": "markdown",
      "metadata": {
        "id": "sXU2GBYu8DC1"
      },
      "source": [
        "### Gathering Data"
      ]
    },
    {
      "cell_type": "markdown",
      "source": [
        "Gathering dataset day.csv"
      ],
      "metadata": {
        "id": "8KLlBSPEZJam"
      }
    },
    {
      "cell_type": "code",
      "execution_count": 81,
      "metadata": {
        "id": "zjCBk1BI8DC1",
        "colab": {
          "base_uri": "https://localhost:8080/",
          "height": 312
        },
        "outputId": "9da87be7-cb7f-48b5-9fcf-e7f286aba12d"
      },
      "outputs": [
        {
          "output_type": "execute_result",
          "data": {
            "text/plain": [
              "   instant      dteday  season  yr  mnth  holiday  weekday  workingday  \\\n",
              "0        1  2011-01-01       1   0     1        0        6           0   \n",
              "1        2  2011-01-02       1   0     1        0        0           0   \n",
              "2        3  2011-01-03       1   0     1        0        1           1   \n",
              "3        4  2011-01-04       1   0     1        0        2           1   \n",
              "4        5  2011-01-05       1   0     1        0        3           1   \n",
              "\n",
              "   weathersit      temp     atemp       hum  windspeed  casual  registered  \\\n",
              "0           2  0.344167  0.363625  0.805833   0.160446     331         654   \n",
              "1           2  0.363478  0.353739  0.696087   0.248539     131         670   \n",
              "2           1  0.196364  0.189405  0.437273   0.248309     120        1229   \n",
              "3           1  0.200000  0.212122  0.590435   0.160296     108        1454   \n",
              "4           1  0.226957  0.229270  0.436957   0.186900      82        1518   \n",
              "\n",
              "    cnt  \n",
              "0   985  \n",
              "1   801  \n",
              "2  1349  \n",
              "3  1562  \n",
              "4  1600  "
            ],
            "text/html": [
              "\n",
              "  <div id=\"df-b52d72c0-2bd3-440a-8200-79beb60304d4\" class=\"colab-df-container\">\n",
              "    <div>\n",
              "<style scoped>\n",
              "    .dataframe tbody tr th:only-of-type {\n",
              "        vertical-align: middle;\n",
              "    }\n",
              "\n",
              "    .dataframe tbody tr th {\n",
              "        vertical-align: top;\n",
              "    }\n",
              "\n",
              "    .dataframe thead th {\n",
              "        text-align: right;\n",
              "    }\n",
              "</style>\n",
              "<table border=\"1\" class=\"dataframe\">\n",
              "  <thead>\n",
              "    <tr style=\"text-align: right;\">\n",
              "      <th></th>\n",
              "      <th>instant</th>\n",
              "      <th>dteday</th>\n",
              "      <th>season</th>\n",
              "      <th>yr</th>\n",
              "      <th>mnth</th>\n",
              "      <th>holiday</th>\n",
              "      <th>weekday</th>\n",
              "      <th>workingday</th>\n",
              "      <th>weathersit</th>\n",
              "      <th>temp</th>\n",
              "      <th>atemp</th>\n",
              "      <th>hum</th>\n",
              "      <th>windspeed</th>\n",
              "      <th>casual</th>\n",
              "      <th>registered</th>\n",
              "      <th>cnt</th>\n",
              "    </tr>\n",
              "  </thead>\n",
              "  <tbody>\n",
              "    <tr>\n",
              "      <th>0</th>\n",
              "      <td>1</td>\n",
              "      <td>2011-01-01</td>\n",
              "      <td>1</td>\n",
              "      <td>0</td>\n",
              "      <td>1</td>\n",
              "      <td>0</td>\n",
              "      <td>6</td>\n",
              "      <td>0</td>\n",
              "      <td>2</td>\n",
              "      <td>0.344167</td>\n",
              "      <td>0.363625</td>\n",
              "      <td>0.805833</td>\n",
              "      <td>0.160446</td>\n",
              "      <td>331</td>\n",
              "      <td>654</td>\n",
              "      <td>985</td>\n",
              "    </tr>\n",
              "    <tr>\n",
              "      <th>1</th>\n",
              "      <td>2</td>\n",
              "      <td>2011-01-02</td>\n",
              "      <td>1</td>\n",
              "      <td>0</td>\n",
              "      <td>1</td>\n",
              "      <td>0</td>\n",
              "      <td>0</td>\n",
              "      <td>0</td>\n",
              "      <td>2</td>\n",
              "      <td>0.363478</td>\n",
              "      <td>0.353739</td>\n",
              "      <td>0.696087</td>\n",
              "      <td>0.248539</td>\n",
              "      <td>131</td>\n",
              "      <td>670</td>\n",
              "      <td>801</td>\n",
              "    </tr>\n",
              "    <tr>\n",
              "      <th>2</th>\n",
              "      <td>3</td>\n",
              "      <td>2011-01-03</td>\n",
              "      <td>1</td>\n",
              "      <td>0</td>\n",
              "      <td>1</td>\n",
              "      <td>0</td>\n",
              "      <td>1</td>\n",
              "      <td>1</td>\n",
              "      <td>1</td>\n",
              "      <td>0.196364</td>\n",
              "      <td>0.189405</td>\n",
              "      <td>0.437273</td>\n",
              "      <td>0.248309</td>\n",
              "      <td>120</td>\n",
              "      <td>1229</td>\n",
              "      <td>1349</td>\n",
              "    </tr>\n",
              "    <tr>\n",
              "      <th>3</th>\n",
              "      <td>4</td>\n",
              "      <td>2011-01-04</td>\n",
              "      <td>1</td>\n",
              "      <td>0</td>\n",
              "      <td>1</td>\n",
              "      <td>0</td>\n",
              "      <td>2</td>\n",
              "      <td>1</td>\n",
              "      <td>1</td>\n",
              "      <td>0.200000</td>\n",
              "      <td>0.212122</td>\n",
              "      <td>0.590435</td>\n",
              "      <td>0.160296</td>\n",
              "      <td>108</td>\n",
              "      <td>1454</td>\n",
              "      <td>1562</td>\n",
              "    </tr>\n",
              "    <tr>\n",
              "      <th>4</th>\n",
              "      <td>5</td>\n",
              "      <td>2011-01-05</td>\n",
              "      <td>1</td>\n",
              "      <td>0</td>\n",
              "      <td>1</td>\n",
              "      <td>0</td>\n",
              "      <td>3</td>\n",
              "      <td>1</td>\n",
              "      <td>1</td>\n",
              "      <td>0.226957</td>\n",
              "      <td>0.229270</td>\n",
              "      <td>0.436957</td>\n",
              "      <td>0.186900</td>\n",
              "      <td>82</td>\n",
              "      <td>1518</td>\n",
              "      <td>1600</td>\n",
              "    </tr>\n",
              "  </tbody>\n",
              "</table>\n",
              "</div>\n",
              "    <div class=\"colab-df-buttons\">\n",
              "\n",
              "  <div class=\"colab-df-container\">\n",
              "    <button class=\"colab-df-convert\" onclick=\"convertToInteractive('df-b52d72c0-2bd3-440a-8200-79beb60304d4')\"\n",
              "            title=\"Convert this dataframe to an interactive table.\"\n",
              "            style=\"display:none;\">\n",
              "\n",
              "  <svg xmlns=\"http://www.w3.org/2000/svg\" height=\"24px\" viewBox=\"0 -960 960 960\">\n",
              "    <path d=\"M120-120v-720h720v720H120Zm60-500h600v-160H180v160Zm220 220h160v-160H400v160Zm0 220h160v-160H400v160ZM180-400h160v-160H180v160Zm440 0h160v-160H620v160ZM180-180h160v-160H180v160Zm440 0h160v-160H620v160Z\"/>\n",
              "  </svg>\n",
              "    </button>\n",
              "\n",
              "  <style>\n",
              "    .colab-df-container {\n",
              "      display:flex;\n",
              "      gap: 12px;\n",
              "    }\n",
              "\n",
              "    .colab-df-convert {\n",
              "      background-color: #E8F0FE;\n",
              "      border: none;\n",
              "      border-radius: 50%;\n",
              "      cursor: pointer;\n",
              "      display: none;\n",
              "      fill: #1967D2;\n",
              "      height: 32px;\n",
              "      padding: 0 0 0 0;\n",
              "      width: 32px;\n",
              "    }\n",
              "\n",
              "    .colab-df-convert:hover {\n",
              "      background-color: #E2EBFA;\n",
              "      box-shadow: 0px 1px 2px rgba(60, 64, 67, 0.3), 0px 1px 3px 1px rgba(60, 64, 67, 0.15);\n",
              "      fill: #174EA6;\n",
              "    }\n",
              "\n",
              "    .colab-df-buttons div {\n",
              "      margin-bottom: 4px;\n",
              "    }\n",
              "\n",
              "    [theme=dark] .colab-df-convert {\n",
              "      background-color: #3B4455;\n",
              "      fill: #D2E3FC;\n",
              "    }\n",
              "\n",
              "    [theme=dark] .colab-df-convert:hover {\n",
              "      background-color: #434B5C;\n",
              "      box-shadow: 0px 1px 3px 1px rgba(0, 0, 0, 0.15);\n",
              "      filter: drop-shadow(0px 1px 2px rgba(0, 0, 0, 0.3));\n",
              "      fill: #FFFFFF;\n",
              "    }\n",
              "  </style>\n",
              "\n",
              "    <script>\n",
              "      const buttonEl =\n",
              "        document.querySelector('#df-b52d72c0-2bd3-440a-8200-79beb60304d4 button.colab-df-convert');\n",
              "      buttonEl.style.display =\n",
              "        google.colab.kernel.accessAllowed ? 'block' : 'none';\n",
              "\n",
              "      async function convertToInteractive(key) {\n",
              "        const element = document.querySelector('#df-b52d72c0-2bd3-440a-8200-79beb60304d4');\n",
              "        const dataTable =\n",
              "          await google.colab.kernel.invokeFunction('convertToInteractive',\n",
              "                                                    [key], {});\n",
              "        if (!dataTable) return;\n",
              "\n",
              "        const docLinkHtml = 'Like what you see? Visit the ' +\n",
              "          '<a target=\"_blank\" href=https://colab.research.google.com/notebooks/data_table.ipynb>data table notebook</a>'\n",
              "          + ' to learn more about interactive tables.';\n",
              "        element.innerHTML = '';\n",
              "        dataTable['output_type'] = 'display_data';\n",
              "        await google.colab.output.renderOutput(dataTable, element);\n",
              "        const docLink = document.createElement('div');\n",
              "        docLink.innerHTML = docLinkHtml;\n",
              "        element.appendChild(docLink);\n",
              "      }\n",
              "    </script>\n",
              "  </div>\n",
              "\n",
              "\n",
              "<div id=\"df-f82231f7-7b16-4300-b26a-07b106d49d7c\">\n",
              "  <button class=\"colab-df-quickchart\" onclick=\"quickchart('df-f82231f7-7b16-4300-b26a-07b106d49d7c')\"\n",
              "            title=\"Suggest charts\"\n",
              "            style=\"display:none;\">\n",
              "\n",
              "<svg xmlns=\"http://www.w3.org/2000/svg\" height=\"24px\"viewBox=\"0 0 24 24\"\n",
              "     width=\"24px\">\n",
              "    <g>\n",
              "        <path d=\"M19 3H5c-1.1 0-2 .9-2 2v14c0 1.1.9 2 2 2h14c1.1 0 2-.9 2-2V5c0-1.1-.9-2-2-2zM9 17H7v-7h2v7zm4 0h-2V7h2v10zm4 0h-2v-4h2v4z\"/>\n",
              "    </g>\n",
              "</svg>\n",
              "  </button>\n",
              "\n",
              "<style>\n",
              "  .colab-df-quickchart {\n",
              "      --bg-color: #E8F0FE;\n",
              "      --fill-color: #1967D2;\n",
              "      --hover-bg-color: #E2EBFA;\n",
              "      --hover-fill-color: #174EA6;\n",
              "      --disabled-fill-color: #AAA;\n",
              "      --disabled-bg-color: #DDD;\n",
              "  }\n",
              "\n",
              "  [theme=dark] .colab-df-quickchart {\n",
              "      --bg-color: #3B4455;\n",
              "      --fill-color: #D2E3FC;\n",
              "      --hover-bg-color: #434B5C;\n",
              "      --hover-fill-color: #FFFFFF;\n",
              "      --disabled-bg-color: #3B4455;\n",
              "      --disabled-fill-color: #666;\n",
              "  }\n",
              "\n",
              "  .colab-df-quickchart {\n",
              "    background-color: var(--bg-color);\n",
              "    border: none;\n",
              "    border-radius: 50%;\n",
              "    cursor: pointer;\n",
              "    display: none;\n",
              "    fill: var(--fill-color);\n",
              "    height: 32px;\n",
              "    padding: 0;\n",
              "    width: 32px;\n",
              "  }\n",
              "\n",
              "  .colab-df-quickchart:hover {\n",
              "    background-color: var(--hover-bg-color);\n",
              "    box-shadow: 0 1px 2px rgba(60, 64, 67, 0.3), 0 1px 3px 1px rgba(60, 64, 67, 0.15);\n",
              "    fill: var(--button-hover-fill-color);\n",
              "  }\n",
              "\n",
              "  .colab-df-quickchart-complete:disabled,\n",
              "  .colab-df-quickchart-complete:disabled:hover {\n",
              "    background-color: var(--disabled-bg-color);\n",
              "    fill: var(--disabled-fill-color);\n",
              "    box-shadow: none;\n",
              "  }\n",
              "\n",
              "  .colab-df-spinner {\n",
              "    border: 2px solid var(--fill-color);\n",
              "    border-color: transparent;\n",
              "    border-bottom-color: var(--fill-color);\n",
              "    animation:\n",
              "      spin 1s steps(1) infinite;\n",
              "  }\n",
              "\n",
              "  @keyframes spin {\n",
              "    0% {\n",
              "      border-color: transparent;\n",
              "      border-bottom-color: var(--fill-color);\n",
              "      border-left-color: var(--fill-color);\n",
              "    }\n",
              "    20% {\n",
              "      border-color: transparent;\n",
              "      border-left-color: var(--fill-color);\n",
              "      border-top-color: var(--fill-color);\n",
              "    }\n",
              "    30% {\n",
              "      border-color: transparent;\n",
              "      border-left-color: var(--fill-color);\n",
              "      border-top-color: var(--fill-color);\n",
              "      border-right-color: var(--fill-color);\n",
              "    }\n",
              "    40% {\n",
              "      border-color: transparent;\n",
              "      border-right-color: var(--fill-color);\n",
              "      border-top-color: var(--fill-color);\n",
              "    }\n",
              "    60% {\n",
              "      border-color: transparent;\n",
              "      border-right-color: var(--fill-color);\n",
              "    }\n",
              "    80% {\n",
              "      border-color: transparent;\n",
              "      border-right-color: var(--fill-color);\n",
              "      border-bottom-color: var(--fill-color);\n",
              "    }\n",
              "    90% {\n",
              "      border-color: transparent;\n",
              "      border-bottom-color: var(--fill-color);\n",
              "    }\n",
              "  }\n",
              "</style>\n",
              "\n",
              "  <script>\n",
              "    async function quickchart(key) {\n",
              "      const quickchartButtonEl =\n",
              "        document.querySelector('#' + key + ' button');\n",
              "      quickchartButtonEl.disabled = true;  // To prevent multiple clicks.\n",
              "      quickchartButtonEl.classList.add('colab-df-spinner');\n",
              "      try {\n",
              "        const charts = await google.colab.kernel.invokeFunction(\n",
              "            'suggestCharts', [key], {});\n",
              "      } catch (error) {\n",
              "        console.error('Error during call to suggestCharts:', error);\n",
              "      }\n",
              "      quickchartButtonEl.classList.remove('colab-df-spinner');\n",
              "      quickchartButtonEl.classList.add('colab-df-quickchart-complete');\n",
              "    }\n",
              "    (() => {\n",
              "      let quickchartButtonEl =\n",
              "        document.querySelector('#df-f82231f7-7b16-4300-b26a-07b106d49d7c button');\n",
              "      quickchartButtonEl.style.display =\n",
              "        google.colab.kernel.accessAllowed ? 'block' : 'none';\n",
              "    })();\n",
              "  </script>\n",
              "</div>\n",
              "\n",
              "    </div>\n",
              "  </div>\n"
            ],
            "application/vnd.google.colaboratory.intrinsic+json": {
              "type": "dataframe",
              "variable_name": "day_df",
              "summary": "{\n  \"name\": \"day_df\",\n  \"rows\": 731,\n  \"fields\": [\n    {\n      \"column\": \"instant\",\n      \"properties\": {\n        \"dtype\": \"number\",\n        \"std\": 211,\n        \"min\": 1,\n        \"max\": 731,\n        \"num_unique_values\": 731,\n        \"samples\": [\n          704,\n          34,\n          301\n        ],\n        \"semantic_type\": \"\",\n        \"description\": \"\"\n      }\n    },\n    {\n      \"column\": \"dteday\",\n      \"properties\": {\n        \"dtype\": \"object\",\n        \"num_unique_values\": 731,\n        \"samples\": [\n          \"2012-12-04\",\n          \"2011-02-03\",\n          \"2011-10-28\"\n        ],\n        \"semantic_type\": \"\",\n        \"description\": \"\"\n      }\n    },\n    {\n      \"column\": \"season\",\n      \"properties\": {\n        \"dtype\": \"number\",\n        \"std\": 1,\n        \"min\": 1,\n        \"max\": 4,\n        \"num_unique_values\": 4,\n        \"samples\": [\n          2,\n          4,\n          1\n        ],\n        \"semantic_type\": \"\",\n        \"description\": \"\"\n      }\n    },\n    {\n      \"column\": \"yr\",\n      \"properties\": {\n        \"dtype\": \"number\",\n        \"std\": 0,\n        \"min\": 0,\n        \"max\": 1,\n        \"num_unique_values\": 2,\n        \"samples\": [\n          1,\n          0\n        ],\n        \"semantic_type\": \"\",\n        \"description\": \"\"\n      }\n    },\n    {\n      \"column\": \"mnth\",\n      \"properties\": {\n        \"dtype\": \"number\",\n        \"std\": 3,\n        \"min\": 1,\n        \"max\": 12,\n        \"num_unique_values\": 12,\n        \"samples\": [\n          11,\n          10\n        ],\n        \"semantic_type\": \"\",\n        \"description\": \"\"\n      }\n    },\n    {\n      \"column\": \"holiday\",\n      \"properties\": {\n        \"dtype\": \"number\",\n        \"std\": 0,\n        \"min\": 0,\n        \"max\": 1,\n        \"num_unique_values\": 2,\n        \"samples\": [\n          1,\n          0\n        ],\n        \"semantic_type\": \"\",\n        \"description\": \"\"\n      }\n    },\n    {\n      \"column\": \"weekday\",\n      \"properties\": {\n        \"dtype\": \"number\",\n        \"std\": 2,\n        \"min\": 0,\n        \"max\": 6,\n        \"num_unique_values\": 7,\n        \"samples\": [\n          6,\n          0\n        ],\n        \"semantic_type\": \"\",\n        \"description\": \"\"\n      }\n    },\n    {\n      \"column\": \"workingday\",\n      \"properties\": {\n        \"dtype\": \"number\",\n        \"std\": 0,\n        \"min\": 0,\n        \"max\": 1,\n        \"num_unique_values\": 2,\n        \"samples\": [\n          1,\n          0\n        ],\n        \"semantic_type\": \"\",\n        \"description\": \"\"\n      }\n    },\n    {\n      \"column\": \"weathersit\",\n      \"properties\": {\n        \"dtype\": \"number\",\n        \"std\": 0,\n        \"min\": 1,\n        \"max\": 3,\n        \"num_unique_values\": 3,\n        \"samples\": [\n          2,\n          1\n        ],\n        \"semantic_type\": \"\",\n        \"description\": \"\"\n      }\n    },\n    {\n      \"column\": \"temp\",\n      \"properties\": {\n        \"dtype\": \"number\",\n        \"std\": 0.18305099611148867,\n        \"min\": 0.0591304,\n        \"max\": 0.861667,\n        \"num_unique_values\": 499,\n        \"samples\": [\n          0.544167,\n          0.430435\n        ],\n        \"semantic_type\": \"\",\n        \"description\": \"\"\n      }\n    },\n    {\n      \"column\": \"atemp\",\n      \"properties\": {\n        \"dtype\": \"number\",\n        \"std\": 0.16296117838631127,\n        \"min\": 0.0790696,\n        \"max\": 0.840896,\n        \"num_unique_values\": 690,\n        \"samples\": [\n          0.463375,\n          0.599754\n        ],\n        \"semantic_type\": \"\",\n        \"description\": \"\"\n      }\n    },\n    {\n      \"column\": \"hum\",\n      \"properties\": {\n        \"dtype\": \"number\",\n        \"std\": 0.14242909513835394,\n        \"min\": 0.0,\n        \"max\": 0.9725,\n        \"num_unique_values\": 595,\n        \"samples\": [\n          0.707083,\n          0.718333\n        ],\n        \"semantic_type\": \"\",\n        \"description\": \"\"\n      }\n    },\n    {\n      \"column\": \"windspeed\",\n      \"properties\": {\n        \"dtype\": \"number\",\n        \"std\": 0.07749787068166943,\n        \"min\": 0.0223917,\n        \"max\": 0.507463,\n        \"num_unique_values\": 650,\n        \"samples\": [\n          0.100742,\n          0.139308\n        ],\n        \"semantic_type\": \"\",\n        \"description\": \"\"\n      }\n    },\n    {\n      \"column\": \"casual\",\n      \"properties\": {\n        \"dtype\": \"number\",\n        \"std\": 686,\n        \"min\": 2,\n        \"max\": 3410,\n        \"num_unique_values\": 606,\n        \"samples\": [\n          709,\n          449\n        ],\n        \"semantic_type\": \"\",\n        \"description\": \"\"\n      }\n    },\n    {\n      \"column\": \"registered\",\n      \"properties\": {\n        \"dtype\": \"number\",\n        \"std\": 1560,\n        \"min\": 20,\n        \"max\": 6946,\n        \"num_unique_values\": 679,\n        \"samples\": [\n          4531,\n          2553\n        ],\n        \"semantic_type\": \"\",\n        \"description\": \"\"\n      }\n    },\n    {\n      \"column\": \"cnt\",\n      \"properties\": {\n        \"dtype\": \"number\",\n        \"std\": 1937,\n        \"min\": 22,\n        \"max\": 8714,\n        \"num_unique_values\": 696,\n        \"samples\": [\n          5170,\n          1607\n        ],\n        \"semantic_type\": \"\",\n        \"description\": \"\"\n      }\n    }\n  ]\n}"
            }
          },
          "metadata": {},
          "execution_count": 81
        }
      ],
      "source": [
        "day_df = pd.read_csv(\"https://raw.githubusercontent.com/viapiyaaa/Bike-sharing-dataset/refs/heads/main/Bike-sharing-dataset/day.csv\")\n",
        "day_df.head()"
      ]
    },
    {
      "cell_type": "markdown",
      "source": [
        "Gathering dataset hour.csv"
      ],
      "metadata": {
        "id": "cC1T827WZMtA"
      }
    },
    {
      "cell_type": "code",
      "source": [
        "hour_df = pd.read_csv(\"http://raw.githubusercontent.com/viapiyaaa/Bike-sharing-dataset/refs/heads/main/Bike-sharing-dataset/hour.csv\")\n",
        "hour_df.head()"
      ],
      "metadata": {
        "colab": {
          "base_uri": "https://localhost:8080/",
          "height": 206
        },
        "id": "ZjnAvhl9ZQkH",
        "outputId": "aac1b80d-fc38-4fbc-cb44-ac01decef3fb"
      },
      "execution_count": 82,
      "outputs": [
        {
          "output_type": "execute_result",
          "data": {
            "text/plain": [
              "   instant      dteday  season  yr  mnth  hr  holiday  weekday  workingday  \\\n",
              "0        1  2011-01-01       1   0     1   0        0        6           0   \n",
              "1        2  2011-01-01       1   0     1   1        0        6           0   \n",
              "2        3  2011-01-01       1   0     1   2        0        6           0   \n",
              "3        4  2011-01-01       1   0     1   3        0        6           0   \n",
              "4        5  2011-01-01       1   0     1   4        0        6           0   \n",
              "\n",
              "   weathersit  temp   atemp   hum  windspeed  casual  registered  cnt  \n",
              "0           1  0.24  0.2879  0.81        0.0       3          13   16  \n",
              "1           1  0.22  0.2727  0.80        0.0       8          32   40  \n",
              "2           1  0.22  0.2727  0.80        0.0       5          27   32  \n",
              "3           1  0.24  0.2879  0.75        0.0       3          10   13  \n",
              "4           1  0.24  0.2879  0.75        0.0       0           1    1  "
            ],
            "text/html": [
              "\n",
              "  <div id=\"df-1012e675-2552-4c68-8f8b-fffe04fae1f2\" class=\"colab-df-container\">\n",
              "    <div>\n",
              "<style scoped>\n",
              "    .dataframe tbody tr th:only-of-type {\n",
              "        vertical-align: middle;\n",
              "    }\n",
              "\n",
              "    .dataframe tbody tr th {\n",
              "        vertical-align: top;\n",
              "    }\n",
              "\n",
              "    .dataframe thead th {\n",
              "        text-align: right;\n",
              "    }\n",
              "</style>\n",
              "<table border=\"1\" class=\"dataframe\">\n",
              "  <thead>\n",
              "    <tr style=\"text-align: right;\">\n",
              "      <th></th>\n",
              "      <th>instant</th>\n",
              "      <th>dteday</th>\n",
              "      <th>season</th>\n",
              "      <th>yr</th>\n",
              "      <th>mnth</th>\n",
              "      <th>hr</th>\n",
              "      <th>holiday</th>\n",
              "      <th>weekday</th>\n",
              "      <th>workingday</th>\n",
              "      <th>weathersit</th>\n",
              "      <th>temp</th>\n",
              "      <th>atemp</th>\n",
              "      <th>hum</th>\n",
              "      <th>windspeed</th>\n",
              "      <th>casual</th>\n",
              "      <th>registered</th>\n",
              "      <th>cnt</th>\n",
              "    </tr>\n",
              "  </thead>\n",
              "  <tbody>\n",
              "    <tr>\n",
              "      <th>0</th>\n",
              "      <td>1</td>\n",
              "      <td>2011-01-01</td>\n",
              "      <td>1</td>\n",
              "      <td>0</td>\n",
              "      <td>1</td>\n",
              "      <td>0</td>\n",
              "      <td>0</td>\n",
              "      <td>6</td>\n",
              "      <td>0</td>\n",
              "      <td>1</td>\n",
              "      <td>0.24</td>\n",
              "      <td>0.2879</td>\n",
              "      <td>0.81</td>\n",
              "      <td>0.0</td>\n",
              "      <td>3</td>\n",
              "      <td>13</td>\n",
              "      <td>16</td>\n",
              "    </tr>\n",
              "    <tr>\n",
              "      <th>1</th>\n",
              "      <td>2</td>\n",
              "      <td>2011-01-01</td>\n",
              "      <td>1</td>\n",
              "      <td>0</td>\n",
              "      <td>1</td>\n",
              "      <td>1</td>\n",
              "      <td>0</td>\n",
              "      <td>6</td>\n",
              "      <td>0</td>\n",
              "      <td>1</td>\n",
              "      <td>0.22</td>\n",
              "      <td>0.2727</td>\n",
              "      <td>0.80</td>\n",
              "      <td>0.0</td>\n",
              "      <td>8</td>\n",
              "      <td>32</td>\n",
              "      <td>40</td>\n",
              "    </tr>\n",
              "    <tr>\n",
              "      <th>2</th>\n",
              "      <td>3</td>\n",
              "      <td>2011-01-01</td>\n",
              "      <td>1</td>\n",
              "      <td>0</td>\n",
              "      <td>1</td>\n",
              "      <td>2</td>\n",
              "      <td>0</td>\n",
              "      <td>6</td>\n",
              "      <td>0</td>\n",
              "      <td>1</td>\n",
              "      <td>0.22</td>\n",
              "      <td>0.2727</td>\n",
              "      <td>0.80</td>\n",
              "      <td>0.0</td>\n",
              "      <td>5</td>\n",
              "      <td>27</td>\n",
              "      <td>32</td>\n",
              "    </tr>\n",
              "    <tr>\n",
              "      <th>3</th>\n",
              "      <td>4</td>\n",
              "      <td>2011-01-01</td>\n",
              "      <td>1</td>\n",
              "      <td>0</td>\n",
              "      <td>1</td>\n",
              "      <td>3</td>\n",
              "      <td>0</td>\n",
              "      <td>6</td>\n",
              "      <td>0</td>\n",
              "      <td>1</td>\n",
              "      <td>0.24</td>\n",
              "      <td>0.2879</td>\n",
              "      <td>0.75</td>\n",
              "      <td>0.0</td>\n",
              "      <td>3</td>\n",
              "      <td>10</td>\n",
              "      <td>13</td>\n",
              "    </tr>\n",
              "    <tr>\n",
              "      <th>4</th>\n",
              "      <td>5</td>\n",
              "      <td>2011-01-01</td>\n",
              "      <td>1</td>\n",
              "      <td>0</td>\n",
              "      <td>1</td>\n",
              "      <td>4</td>\n",
              "      <td>0</td>\n",
              "      <td>6</td>\n",
              "      <td>0</td>\n",
              "      <td>1</td>\n",
              "      <td>0.24</td>\n",
              "      <td>0.2879</td>\n",
              "      <td>0.75</td>\n",
              "      <td>0.0</td>\n",
              "      <td>0</td>\n",
              "      <td>1</td>\n",
              "      <td>1</td>\n",
              "    </tr>\n",
              "  </tbody>\n",
              "</table>\n",
              "</div>\n",
              "    <div class=\"colab-df-buttons\">\n",
              "\n",
              "  <div class=\"colab-df-container\">\n",
              "    <button class=\"colab-df-convert\" onclick=\"convertToInteractive('df-1012e675-2552-4c68-8f8b-fffe04fae1f2')\"\n",
              "            title=\"Convert this dataframe to an interactive table.\"\n",
              "            style=\"display:none;\">\n",
              "\n",
              "  <svg xmlns=\"http://www.w3.org/2000/svg\" height=\"24px\" viewBox=\"0 -960 960 960\">\n",
              "    <path d=\"M120-120v-720h720v720H120Zm60-500h600v-160H180v160Zm220 220h160v-160H400v160Zm0 220h160v-160H400v160ZM180-400h160v-160H180v160Zm440 0h160v-160H620v160ZM180-180h160v-160H180v160Zm440 0h160v-160H620v160Z\"/>\n",
              "  </svg>\n",
              "    </button>\n",
              "\n",
              "  <style>\n",
              "    .colab-df-container {\n",
              "      display:flex;\n",
              "      gap: 12px;\n",
              "    }\n",
              "\n",
              "    .colab-df-convert {\n",
              "      background-color: #E8F0FE;\n",
              "      border: none;\n",
              "      border-radius: 50%;\n",
              "      cursor: pointer;\n",
              "      display: none;\n",
              "      fill: #1967D2;\n",
              "      height: 32px;\n",
              "      padding: 0 0 0 0;\n",
              "      width: 32px;\n",
              "    }\n",
              "\n",
              "    .colab-df-convert:hover {\n",
              "      background-color: #E2EBFA;\n",
              "      box-shadow: 0px 1px 2px rgba(60, 64, 67, 0.3), 0px 1px 3px 1px rgba(60, 64, 67, 0.15);\n",
              "      fill: #174EA6;\n",
              "    }\n",
              "\n",
              "    .colab-df-buttons div {\n",
              "      margin-bottom: 4px;\n",
              "    }\n",
              "\n",
              "    [theme=dark] .colab-df-convert {\n",
              "      background-color: #3B4455;\n",
              "      fill: #D2E3FC;\n",
              "    }\n",
              "\n",
              "    [theme=dark] .colab-df-convert:hover {\n",
              "      background-color: #434B5C;\n",
              "      box-shadow: 0px 1px 3px 1px rgba(0, 0, 0, 0.15);\n",
              "      filter: drop-shadow(0px 1px 2px rgba(0, 0, 0, 0.3));\n",
              "      fill: #FFFFFF;\n",
              "    }\n",
              "  </style>\n",
              "\n",
              "    <script>\n",
              "      const buttonEl =\n",
              "        document.querySelector('#df-1012e675-2552-4c68-8f8b-fffe04fae1f2 button.colab-df-convert');\n",
              "      buttonEl.style.display =\n",
              "        google.colab.kernel.accessAllowed ? 'block' : 'none';\n",
              "\n",
              "      async function convertToInteractive(key) {\n",
              "        const element = document.querySelector('#df-1012e675-2552-4c68-8f8b-fffe04fae1f2');\n",
              "        const dataTable =\n",
              "          await google.colab.kernel.invokeFunction('convertToInteractive',\n",
              "                                                    [key], {});\n",
              "        if (!dataTable) return;\n",
              "\n",
              "        const docLinkHtml = 'Like what you see? Visit the ' +\n",
              "          '<a target=\"_blank\" href=https://colab.research.google.com/notebooks/data_table.ipynb>data table notebook</a>'\n",
              "          + ' to learn more about interactive tables.';\n",
              "        element.innerHTML = '';\n",
              "        dataTable['output_type'] = 'display_data';\n",
              "        await google.colab.output.renderOutput(dataTable, element);\n",
              "        const docLink = document.createElement('div');\n",
              "        docLink.innerHTML = docLinkHtml;\n",
              "        element.appendChild(docLink);\n",
              "      }\n",
              "    </script>\n",
              "  </div>\n",
              "\n",
              "\n",
              "<div id=\"df-963f02ae-c768-4ecd-8614-55f260aa3c37\">\n",
              "  <button class=\"colab-df-quickchart\" onclick=\"quickchart('df-963f02ae-c768-4ecd-8614-55f260aa3c37')\"\n",
              "            title=\"Suggest charts\"\n",
              "            style=\"display:none;\">\n",
              "\n",
              "<svg xmlns=\"http://www.w3.org/2000/svg\" height=\"24px\"viewBox=\"0 0 24 24\"\n",
              "     width=\"24px\">\n",
              "    <g>\n",
              "        <path d=\"M19 3H5c-1.1 0-2 .9-2 2v14c0 1.1.9 2 2 2h14c1.1 0 2-.9 2-2V5c0-1.1-.9-2-2-2zM9 17H7v-7h2v7zm4 0h-2V7h2v10zm4 0h-2v-4h2v4z\"/>\n",
              "    </g>\n",
              "</svg>\n",
              "  </button>\n",
              "\n",
              "<style>\n",
              "  .colab-df-quickchart {\n",
              "      --bg-color: #E8F0FE;\n",
              "      --fill-color: #1967D2;\n",
              "      --hover-bg-color: #E2EBFA;\n",
              "      --hover-fill-color: #174EA6;\n",
              "      --disabled-fill-color: #AAA;\n",
              "      --disabled-bg-color: #DDD;\n",
              "  }\n",
              "\n",
              "  [theme=dark] .colab-df-quickchart {\n",
              "      --bg-color: #3B4455;\n",
              "      --fill-color: #D2E3FC;\n",
              "      --hover-bg-color: #434B5C;\n",
              "      --hover-fill-color: #FFFFFF;\n",
              "      --disabled-bg-color: #3B4455;\n",
              "      --disabled-fill-color: #666;\n",
              "  }\n",
              "\n",
              "  .colab-df-quickchart {\n",
              "    background-color: var(--bg-color);\n",
              "    border: none;\n",
              "    border-radius: 50%;\n",
              "    cursor: pointer;\n",
              "    display: none;\n",
              "    fill: var(--fill-color);\n",
              "    height: 32px;\n",
              "    padding: 0;\n",
              "    width: 32px;\n",
              "  }\n",
              "\n",
              "  .colab-df-quickchart:hover {\n",
              "    background-color: var(--hover-bg-color);\n",
              "    box-shadow: 0 1px 2px rgba(60, 64, 67, 0.3), 0 1px 3px 1px rgba(60, 64, 67, 0.15);\n",
              "    fill: var(--button-hover-fill-color);\n",
              "  }\n",
              "\n",
              "  .colab-df-quickchart-complete:disabled,\n",
              "  .colab-df-quickchart-complete:disabled:hover {\n",
              "    background-color: var(--disabled-bg-color);\n",
              "    fill: var(--disabled-fill-color);\n",
              "    box-shadow: none;\n",
              "  }\n",
              "\n",
              "  .colab-df-spinner {\n",
              "    border: 2px solid var(--fill-color);\n",
              "    border-color: transparent;\n",
              "    border-bottom-color: var(--fill-color);\n",
              "    animation:\n",
              "      spin 1s steps(1) infinite;\n",
              "  }\n",
              "\n",
              "  @keyframes spin {\n",
              "    0% {\n",
              "      border-color: transparent;\n",
              "      border-bottom-color: var(--fill-color);\n",
              "      border-left-color: var(--fill-color);\n",
              "    }\n",
              "    20% {\n",
              "      border-color: transparent;\n",
              "      border-left-color: var(--fill-color);\n",
              "      border-top-color: var(--fill-color);\n",
              "    }\n",
              "    30% {\n",
              "      border-color: transparent;\n",
              "      border-left-color: var(--fill-color);\n",
              "      border-top-color: var(--fill-color);\n",
              "      border-right-color: var(--fill-color);\n",
              "    }\n",
              "    40% {\n",
              "      border-color: transparent;\n",
              "      border-right-color: var(--fill-color);\n",
              "      border-top-color: var(--fill-color);\n",
              "    }\n",
              "    60% {\n",
              "      border-color: transparent;\n",
              "      border-right-color: var(--fill-color);\n",
              "    }\n",
              "    80% {\n",
              "      border-color: transparent;\n",
              "      border-right-color: var(--fill-color);\n",
              "      border-bottom-color: var(--fill-color);\n",
              "    }\n",
              "    90% {\n",
              "      border-color: transparent;\n",
              "      border-bottom-color: var(--fill-color);\n",
              "    }\n",
              "  }\n",
              "</style>\n",
              "\n",
              "  <script>\n",
              "    async function quickchart(key) {\n",
              "      const quickchartButtonEl =\n",
              "        document.querySelector('#' + key + ' button');\n",
              "      quickchartButtonEl.disabled = true;  // To prevent multiple clicks.\n",
              "      quickchartButtonEl.classList.add('colab-df-spinner');\n",
              "      try {\n",
              "        const charts = await google.colab.kernel.invokeFunction(\n",
              "            'suggestCharts', [key], {});\n",
              "      } catch (error) {\n",
              "        console.error('Error during call to suggestCharts:', error);\n",
              "      }\n",
              "      quickchartButtonEl.classList.remove('colab-df-spinner');\n",
              "      quickchartButtonEl.classList.add('colab-df-quickchart-complete');\n",
              "    }\n",
              "    (() => {\n",
              "      let quickchartButtonEl =\n",
              "        document.querySelector('#df-963f02ae-c768-4ecd-8614-55f260aa3c37 button');\n",
              "      quickchartButtonEl.style.display =\n",
              "        google.colab.kernel.accessAllowed ? 'block' : 'none';\n",
              "    })();\n",
              "  </script>\n",
              "</div>\n",
              "\n",
              "    </div>\n",
              "  </div>\n"
            ],
            "application/vnd.google.colaboratory.intrinsic+json": {
              "type": "dataframe",
              "variable_name": "hour_df",
              "summary": "{\n  \"name\": \"hour_df\",\n  \"rows\": 17379,\n  \"fields\": [\n    {\n      \"column\": \"instant\",\n      \"properties\": {\n        \"dtype\": \"number\",\n        \"std\": 5017,\n        \"min\": 1,\n        \"max\": 17379,\n        \"num_unique_values\": 17379,\n        \"samples\": [\n          12831,\n          8689,\n          7092\n        ],\n        \"semantic_type\": \"\",\n        \"description\": \"\"\n      }\n    },\n    {\n      \"column\": \"dteday\",\n      \"properties\": {\n        \"dtype\": \"object\",\n        \"num_unique_values\": 731,\n        \"samples\": [\n          \"2012-12-04\",\n          \"2011-02-03\",\n          \"2011-10-28\"\n        ],\n        \"semantic_type\": \"\",\n        \"description\": \"\"\n      }\n    },\n    {\n      \"column\": \"season\",\n      \"properties\": {\n        \"dtype\": \"number\",\n        \"std\": 1,\n        \"min\": 1,\n        \"max\": 4,\n        \"num_unique_values\": 4,\n        \"samples\": [\n          2,\n          4,\n          1\n        ],\n        \"semantic_type\": \"\",\n        \"description\": \"\"\n      }\n    },\n    {\n      \"column\": \"yr\",\n      \"properties\": {\n        \"dtype\": \"number\",\n        \"std\": 0,\n        \"min\": 0,\n        \"max\": 1,\n        \"num_unique_values\": 2,\n        \"samples\": [\n          1,\n          0\n        ],\n        \"semantic_type\": \"\",\n        \"description\": \"\"\n      }\n    },\n    {\n      \"column\": \"mnth\",\n      \"properties\": {\n        \"dtype\": \"number\",\n        \"std\": 3,\n        \"min\": 1,\n        \"max\": 12,\n        \"num_unique_values\": 12,\n        \"samples\": [\n          11,\n          10\n        ],\n        \"semantic_type\": \"\",\n        \"description\": \"\"\n      }\n    },\n    {\n      \"column\": \"hr\",\n      \"properties\": {\n        \"dtype\": \"number\",\n        \"std\": 6,\n        \"min\": 0,\n        \"max\": 23,\n        \"num_unique_values\": 24,\n        \"samples\": [\n          8,\n          16\n        ],\n        \"semantic_type\": \"\",\n        \"description\": \"\"\n      }\n    },\n    {\n      \"column\": \"holiday\",\n      \"properties\": {\n        \"dtype\": \"number\",\n        \"std\": 0,\n        \"min\": 0,\n        \"max\": 1,\n        \"num_unique_values\": 2,\n        \"samples\": [\n          1,\n          0\n        ],\n        \"semantic_type\": \"\",\n        \"description\": \"\"\n      }\n    },\n    {\n      \"column\": \"weekday\",\n      \"properties\": {\n        \"dtype\": \"number\",\n        \"std\": 2,\n        \"min\": 0,\n        \"max\": 6,\n        \"num_unique_values\": 7,\n        \"samples\": [\n          6,\n          0\n        ],\n        \"semantic_type\": \"\",\n        \"description\": \"\"\n      }\n    },\n    {\n      \"column\": \"workingday\",\n      \"properties\": {\n        \"dtype\": \"number\",\n        \"std\": 0,\n        \"min\": 0,\n        \"max\": 1,\n        \"num_unique_values\": 2,\n        \"samples\": [\n          1,\n          0\n        ],\n        \"semantic_type\": \"\",\n        \"description\": \"\"\n      }\n    },\n    {\n      \"column\": \"weathersit\",\n      \"properties\": {\n        \"dtype\": \"number\",\n        \"std\": 0,\n        \"min\": 1,\n        \"max\": 4,\n        \"num_unique_values\": 4,\n        \"samples\": [\n          2,\n          4\n        ],\n        \"semantic_type\": \"\",\n        \"description\": \"\"\n      }\n    },\n    {\n      \"column\": \"temp\",\n      \"properties\": {\n        \"dtype\": \"number\",\n        \"std\": 0.19255612124972407,\n        \"min\": 0.02,\n        \"max\": 1.0,\n        \"num_unique_values\": 50,\n        \"samples\": [\n          0.16,\n          0.82\n        ],\n        \"semantic_type\": \"\",\n        \"description\": \"\"\n      }\n    },\n    {\n      \"column\": \"atemp\",\n      \"properties\": {\n        \"dtype\": \"number\",\n        \"std\": 0.17185021563536587,\n        \"min\": 0.0,\n        \"max\": 1.0,\n        \"num_unique_values\": 65,\n        \"samples\": [\n          0.7879,\n          0.9242\n        ],\n        \"semantic_type\": \"\",\n        \"description\": \"\"\n      }\n    },\n    {\n      \"column\": \"hum\",\n      \"properties\": {\n        \"dtype\": \"number\",\n        \"std\": 0.1929298340629125,\n        \"min\": 0.0,\n        \"max\": 1.0,\n        \"num_unique_values\": 89,\n        \"samples\": [\n          0.29,\n          0.61\n        ],\n        \"semantic_type\": \"\",\n        \"description\": \"\"\n      }\n    },\n    {\n      \"column\": \"windspeed\",\n      \"properties\": {\n        \"dtype\": \"number\",\n        \"std\": 0.12234022857279413,\n        \"min\": 0.0,\n        \"max\": 0.8507,\n        \"num_unique_values\": 30,\n        \"samples\": [\n          0.8507,\n          0.4925\n        ],\n        \"semantic_type\": \"\",\n        \"description\": \"\"\n      }\n    },\n    {\n      \"column\": \"casual\",\n      \"properties\": {\n        \"dtype\": \"number\",\n        \"std\": 49,\n        \"min\": 0,\n        \"max\": 367,\n        \"num_unique_values\": 322,\n        \"samples\": [\n          201,\n          171\n        ],\n        \"semantic_type\": \"\",\n        \"description\": \"\"\n      }\n    },\n    {\n      \"column\": \"registered\",\n      \"properties\": {\n        \"dtype\": \"number\",\n        \"std\": 151,\n        \"min\": 0,\n        \"max\": 886,\n        \"num_unique_values\": 776,\n        \"samples\": [\n          342,\n          744\n        ],\n        \"semantic_type\": \"\",\n        \"description\": \"\"\n      }\n    },\n    {\n      \"column\": \"cnt\",\n      \"properties\": {\n        \"dtype\": \"number\",\n        \"std\": 181,\n        \"min\": 1,\n        \"max\": 977,\n        \"num_unique_values\": 869,\n        \"samples\": [\n          594,\n          46\n        ],\n        \"semantic_type\": \"\",\n        \"description\": \"\"\n      }\n    }\n  ]\n}"
            }
          },
          "metadata": {},
          "execution_count": 82
        }
      ]
    },
    {
      "cell_type": "markdown",
      "source": [
        "**Insight:**\n",
        "- Dataset terdiri dari dua file, yaitu **day.csv** dan **hour.csv**. Kedua tabel memiliki isi yang hampir sama, dengan perbedaan utama pada **hour.csv**, yang memiliki kolom **hr** (jam) untuk menunjukkan data peminjaman sepeda per jam. Data harian dapat menunjukkan tren penggunaan jangka panjang, sementara data per jam mengungkap pola peminjaman dalam satu hari. Selain itu terdapat data berupa faktor-faktor yang memengaruhi peminjaman sepeda untuk menganalisis tren penggunaan, memahami pola peminjaman, serta memprediksi kebutuhan sepeda di masa depan."
      ],
      "metadata": {
        "id": "MMi6xGaDkbCi"
      }
    },
    {
      "cell_type": "markdown",
      "metadata": {
        "id": "FHSiqaZp8DC1"
      },
      "source": [
        "### Assessing Data"
      ]
    },
    {
      "cell_type": "markdown",
      "source": [
        "**Assessing day.csv**"
      ],
      "metadata": {
        "id": "MbdU-O7XaCiF"
      }
    },
    {
      "cell_type": "markdown",
      "source": [
        "Menampilkan Informasi untuk day.csv"
      ],
      "metadata": {
        "id": "vnxY1kqgZcAK"
      }
    },
    {
      "cell_type": "code",
      "source": [
        "day_df.info()"
      ],
      "metadata": {
        "id": "ax-3tEjc9Cj1",
        "colab": {
          "base_uri": "https://localhost:8080/"
        },
        "outputId": "c5239686-f361-44e9-e086-27434be303b1"
      },
      "execution_count": 83,
      "outputs": [
        {
          "output_type": "stream",
          "name": "stdout",
          "text": [
            "<class 'pandas.core.frame.DataFrame'>\n",
            "RangeIndex: 731 entries, 0 to 730\n",
            "Data columns (total 16 columns):\n",
            " #   Column      Non-Null Count  Dtype  \n",
            "---  ------      --------------  -----  \n",
            " 0   instant     731 non-null    int64  \n",
            " 1   dteday      731 non-null    object \n",
            " 2   season      731 non-null    int64  \n",
            " 3   yr          731 non-null    int64  \n",
            " 4   mnth        731 non-null    int64  \n",
            " 5   holiday     731 non-null    int64  \n",
            " 6   weekday     731 non-null    int64  \n",
            " 7   workingday  731 non-null    int64  \n",
            " 8   weathersit  731 non-null    int64  \n",
            " 9   temp        731 non-null    float64\n",
            " 10  atemp       731 non-null    float64\n",
            " 11  hum         731 non-null    float64\n",
            " 12  windspeed   731 non-null    float64\n",
            " 13  casual      731 non-null    int64  \n",
            " 14  registered  731 non-null    int64  \n",
            " 15  cnt         731 non-null    int64  \n",
            "dtypes: float64(4), int64(11), object(1)\n",
            "memory usage: 91.5+ KB\n"
          ]
        }
      ]
    },
    {
      "cell_type": "markdown",
      "source": [
        "Memeriksa apakah ada missing value dan menjumlahkannya jika ada"
      ],
      "metadata": {
        "id": "AlxJiecqZe2u"
      }
    },
    {
      "cell_type": "code",
      "source": [
        "day_df.isna().sum()"
      ],
      "metadata": {
        "colab": {
          "base_uri": "https://localhost:8080/",
          "height": 585
        },
        "id": "N7eq0xp6Ziqe",
        "outputId": "e3b55e01-7a08-4f2c-f3a2-b7d710e23015"
      },
      "execution_count": 84,
      "outputs": [
        {
          "output_type": "execute_result",
          "data": {
            "text/plain": [
              "instant       0\n",
              "dteday        0\n",
              "season        0\n",
              "yr            0\n",
              "mnth          0\n",
              "holiday       0\n",
              "weekday       0\n",
              "workingday    0\n",
              "weathersit    0\n",
              "temp          0\n",
              "atemp         0\n",
              "hum           0\n",
              "windspeed     0\n",
              "casual        0\n",
              "registered    0\n",
              "cnt           0\n",
              "dtype: int64"
            ],
            "text/html": [
              "<div>\n",
              "<style scoped>\n",
              "    .dataframe tbody tr th:only-of-type {\n",
              "        vertical-align: middle;\n",
              "    }\n",
              "\n",
              "    .dataframe tbody tr th {\n",
              "        vertical-align: top;\n",
              "    }\n",
              "\n",
              "    .dataframe thead th {\n",
              "        text-align: right;\n",
              "    }\n",
              "</style>\n",
              "<table border=\"1\" class=\"dataframe\">\n",
              "  <thead>\n",
              "    <tr style=\"text-align: right;\">\n",
              "      <th></th>\n",
              "      <th>0</th>\n",
              "    </tr>\n",
              "  </thead>\n",
              "  <tbody>\n",
              "    <tr>\n",
              "      <th>instant</th>\n",
              "      <td>0</td>\n",
              "    </tr>\n",
              "    <tr>\n",
              "      <th>dteday</th>\n",
              "      <td>0</td>\n",
              "    </tr>\n",
              "    <tr>\n",
              "      <th>season</th>\n",
              "      <td>0</td>\n",
              "    </tr>\n",
              "    <tr>\n",
              "      <th>yr</th>\n",
              "      <td>0</td>\n",
              "    </tr>\n",
              "    <tr>\n",
              "      <th>mnth</th>\n",
              "      <td>0</td>\n",
              "    </tr>\n",
              "    <tr>\n",
              "      <th>holiday</th>\n",
              "      <td>0</td>\n",
              "    </tr>\n",
              "    <tr>\n",
              "      <th>weekday</th>\n",
              "      <td>0</td>\n",
              "    </tr>\n",
              "    <tr>\n",
              "      <th>workingday</th>\n",
              "      <td>0</td>\n",
              "    </tr>\n",
              "    <tr>\n",
              "      <th>weathersit</th>\n",
              "      <td>0</td>\n",
              "    </tr>\n",
              "    <tr>\n",
              "      <th>temp</th>\n",
              "      <td>0</td>\n",
              "    </tr>\n",
              "    <tr>\n",
              "      <th>atemp</th>\n",
              "      <td>0</td>\n",
              "    </tr>\n",
              "    <tr>\n",
              "      <th>hum</th>\n",
              "      <td>0</td>\n",
              "    </tr>\n",
              "    <tr>\n",
              "      <th>windspeed</th>\n",
              "      <td>0</td>\n",
              "    </tr>\n",
              "    <tr>\n",
              "      <th>casual</th>\n",
              "      <td>0</td>\n",
              "    </tr>\n",
              "    <tr>\n",
              "      <th>registered</th>\n",
              "      <td>0</td>\n",
              "    </tr>\n",
              "    <tr>\n",
              "      <th>cnt</th>\n",
              "      <td>0</td>\n",
              "    </tr>\n",
              "  </tbody>\n",
              "</table>\n",
              "</div><br><label><b>dtype:</b> int64</label>"
            ]
          },
          "metadata": {},
          "execution_count": 84
        }
      ]
    },
    {
      "cell_type": "markdown",
      "source": [
        "Memeriksa apakah ada duplikasi data"
      ],
      "metadata": {
        "id": "qRri4nqDZlYc"
      }
    },
    {
      "cell_type": "code",
      "source": [
        "print(\"Jumlah duplikasi: \", day_df.duplicated().sum())"
      ],
      "metadata": {
        "colab": {
          "base_uri": "https://localhost:8080/"
        },
        "id": "5ofxaGivZnuu",
        "outputId": "4915f26b-aef0-4bd1-d685-b0adbb3d17e7"
      },
      "execution_count": 85,
      "outputs": [
        {
          "output_type": "stream",
          "name": "stdout",
          "text": [
            "Jumlah duplikasi:  0\n"
          ]
        }
      ]
    },
    {
      "cell_type": "markdown",
      "source": [
        "**Assessing hour.csv**"
      ],
      "metadata": {
        "id": "aQRY8IwwZ7Rg"
      }
    },
    {
      "cell_type": "markdown",
      "source": [
        "Menampilkan Informasi untuk hour.csv"
      ],
      "metadata": {
        "id": "JrUguQnmZqB4"
      }
    },
    {
      "cell_type": "code",
      "source": [
        "hour_df.info()"
      ],
      "metadata": {
        "colab": {
          "base_uri": "https://localhost:8080/"
        },
        "id": "D8fDPxJ_Zuyz",
        "outputId": "906143e1-8555-43b1-c2ff-fc80d8832954"
      },
      "execution_count": 86,
      "outputs": [
        {
          "output_type": "stream",
          "name": "stdout",
          "text": [
            "<class 'pandas.core.frame.DataFrame'>\n",
            "RangeIndex: 17379 entries, 0 to 17378\n",
            "Data columns (total 17 columns):\n",
            " #   Column      Non-Null Count  Dtype  \n",
            "---  ------      --------------  -----  \n",
            " 0   instant     17379 non-null  int64  \n",
            " 1   dteday      17379 non-null  object \n",
            " 2   season      17379 non-null  int64  \n",
            " 3   yr          17379 non-null  int64  \n",
            " 4   mnth        17379 non-null  int64  \n",
            " 5   hr          17379 non-null  int64  \n",
            " 6   holiday     17379 non-null  int64  \n",
            " 7   weekday     17379 non-null  int64  \n",
            " 8   workingday  17379 non-null  int64  \n",
            " 9   weathersit  17379 non-null  int64  \n",
            " 10  temp        17379 non-null  float64\n",
            " 11  atemp       17379 non-null  float64\n",
            " 12  hum         17379 non-null  float64\n",
            " 13  windspeed   17379 non-null  float64\n",
            " 14  casual      17379 non-null  int64  \n",
            " 15  registered  17379 non-null  int64  \n",
            " 16  cnt         17379 non-null  int64  \n",
            "dtypes: float64(4), int64(12), object(1)\n",
            "memory usage: 2.3+ MB\n"
          ]
        }
      ]
    },
    {
      "cell_type": "markdown",
      "source": [
        "Memeriksa apakah ada missing value dan menjumlahkannya jika ada"
      ],
      "metadata": {
        "id": "3LSR5CO3aF_9"
      }
    },
    {
      "cell_type": "code",
      "source": [
        "hour_df.isna().sum()"
      ],
      "metadata": {
        "colab": {
          "base_uri": "https://localhost:8080/",
          "height": 617
        },
        "id": "ei0VsYLgaMPc",
        "outputId": "8d6850c3-f38e-4e10-cbc2-d3a3d48ef30d"
      },
      "execution_count": 87,
      "outputs": [
        {
          "output_type": "execute_result",
          "data": {
            "text/plain": [
              "instant       0\n",
              "dteday        0\n",
              "season        0\n",
              "yr            0\n",
              "mnth          0\n",
              "hr            0\n",
              "holiday       0\n",
              "weekday       0\n",
              "workingday    0\n",
              "weathersit    0\n",
              "temp          0\n",
              "atemp         0\n",
              "hum           0\n",
              "windspeed     0\n",
              "casual        0\n",
              "registered    0\n",
              "cnt           0\n",
              "dtype: int64"
            ],
            "text/html": [
              "<div>\n",
              "<style scoped>\n",
              "    .dataframe tbody tr th:only-of-type {\n",
              "        vertical-align: middle;\n",
              "    }\n",
              "\n",
              "    .dataframe tbody tr th {\n",
              "        vertical-align: top;\n",
              "    }\n",
              "\n",
              "    .dataframe thead th {\n",
              "        text-align: right;\n",
              "    }\n",
              "</style>\n",
              "<table border=\"1\" class=\"dataframe\">\n",
              "  <thead>\n",
              "    <tr style=\"text-align: right;\">\n",
              "      <th></th>\n",
              "      <th>0</th>\n",
              "    </tr>\n",
              "  </thead>\n",
              "  <tbody>\n",
              "    <tr>\n",
              "      <th>instant</th>\n",
              "      <td>0</td>\n",
              "    </tr>\n",
              "    <tr>\n",
              "      <th>dteday</th>\n",
              "      <td>0</td>\n",
              "    </tr>\n",
              "    <tr>\n",
              "      <th>season</th>\n",
              "      <td>0</td>\n",
              "    </tr>\n",
              "    <tr>\n",
              "      <th>yr</th>\n",
              "      <td>0</td>\n",
              "    </tr>\n",
              "    <tr>\n",
              "      <th>mnth</th>\n",
              "      <td>0</td>\n",
              "    </tr>\n",
              "    <tr>\n",
              "      <th>hr</th>\n",
              "      <td>0</td>\n",
              "    </tr>\n",
              "    <tr>\n",
              "      <th>holiday</th>\n",
              "      <td>0</td>\n",
              "    </tr>\n",
              "    <tr>\n",
              "      <th>weekday</th>\n",
              "      <td>0</td>\n",
              "    </tr>\n",
              "    <tr>\n",
              "      <th>workingday</th>\n",
              "      <td>0</td>\n",
              "    </tr>\n",
              "    <tr>\n",
              "      <th>weathersit</th>\n",
              "      <td>0</td>\n",
              "    </tr>\n",
              "    <tr>\n",
              "      <th>temp</th>\n",
              "      <td>0</td>\n",
              "    </tr>\n",
              "    <tr>\n",
              "      <th>atemp</th>\n",
              "      <td>0</td>\n",
              "    </tr>\n",
              "    <tr>\n",
              "      <th>hum</th>\n",
              "      <td>0</td>\n",
              "    </tr>\n",
              "    <tr>\n",
              "      <th>windspeed</th>\n",
              "      <td>0</td>\n",
              "    </tr>\n",
              "    <tr>\n",
              "      <th>casual</th>\n",
              "      <td>0</td>\n",
              "    </tr>\n",
              "    <tr>\n",
              "      <th>registered</th>\n",
              "      <td>0</td>\n",
              "    </tr>\n",
              "    <tr>\n",
              "      <th>cnt</th>\n",
              "      <td>0</td>\n",
              "    </tr>\n",
              "  </tbody>\n",
              "</table>\n",
              "</div><br><label><b>dtype:</b> int64</label>"
            ]
          },
          "metadata": {},
          "execution_count": 87
        }
      ]
    },
    {
      "cell_type": "markdown",
      "source": [
        "Memeriksa apakah ada duplikasi data"
      ],
      "metadata": {
        "id": "-bI76KCraO0V"
      }
    },
    {
      "cell_type": "code",
      "source": [
        "print(\"Jumlah duplikasi: \", hour_df.duplicated().sum())"
      ],
      "metadata": {
        "colab": {
          "base_uri": "https://localhost:8080/"
        },
        "id": "wUMF9PCnaRK8",
        "outputId": "2f16c5d6-7ec5-4ba5-9424-830eb92a1970"
      },
      "execution_count": 88,
      "outputs": [
        {
          "output_type": "stream",
          "name": "stdout",
          "text": [
            "Jumlah duplikasi:  0\n"
          ]
        }
      ]
    },
    {
      "cell_type": "markdown",
      "source": [
        "**Insight:**\n",
        "- Tidak terdapat Missing value, duplikat data, ataupun inacurrate value"
      ],
      "metadata": {
        "id": "7dtxhAPrkhPL"
      }
    },
    {
      "cell_type": "markdown",
      "metadata": {
        "id": "EhN5R4hr8DC1"
      },
      "source": [
        "### Cleaning Data"
      ]
    },
    {
      "cell_type": "markdown",
      "source": [
        "Mengonversi tipe data dteday menjadi datetime pada dataset day_df"
      ],
      "metadata": {
        "id": "e2Rv8tFuab6p"
      }
    },
    {
      "cell_type": "code",
      "source": [
        "day_df[\"dteday\"] = pd.to_datetime(day_df[\"dteday\"])"
      ],
      "metadata": {
        "id": "jVnYpprE9Evz"
      },
      "execution_count": 89,
      "outputs": []
    },
    {
      "cell_type": "markdown",
      "source": [
        "Mengonversi tipe data dteday menjadi datetime pada dastaset hour_df"
      ],
      "metadata": {
        "id": "aipW1xDZg7il"
      }
    },
    {
      "cell_type": "code",
      "source": [
        "hour_df[\"dteday\"] = pd.to_datetime(day_df[\"dteday\"])"
      ],
      "metadata": {
        "id": "F3Fpaq5cg7_g"
      },
      "execution_count": 90,
      "outputs": []
    },
    {
      "cell_type": "markdown",
      "source": [
        "Memeriksa apakah berhasil mengonversi menjadi tipe data datetime pada dataset day_df"
      ],
      "metadata": {
        "id": "-ewQ304Xgx4I"
      }
    },
    {
      "cell_type": "code",
      "source": [
        "day_df.info()"
      ],
      "metadata": {
        "colab": {
          "base_uri": "https://localhost:8080/"
        },
        "id": "-KT2dU1_g3bD",
        "outputId": "6a3eeeb4-c0de-4f7f-cae4-3ed2faaf225f"
      },
      "execution_count": 91,
      "outputs": [
        {
          "output_type": "stream",
          "name": "stdout",
          "text": [
            "<class 'pandas.core.frame.DataFrame'>\n",
            "RangeIndex: 731 entries, 0 to 730\n",
            "Data columns (total 16 columns):\n",
            " #   Column      Non-Null Count  Dtype         \n",
            "---  ------      --------------  -----         \n",
            " 0   instant     731 non-null    int64         \n",
            " 1   dteday      731 non-null    datetime64[ns]\n",
            " 2   season      731 non-null    int64         \n",
            " 3   yr          731 non-null    int64         \n",
            " 4   mnth        731 non-null    int64         \n",
            " 5   holiday     731 non-null    int64         \n",
            " 6   weekday     731 non-null    int64         \n",
            " 7   workingday  731 non-null    int64         \n",
            " 8   weathersit  731 non-null    int64         \n",
            " 9   temp        731 non-null    float64       \n",
            " 10  atemp       731 non-null    float64       \n",
            " 11  hum         731 non-null    float64       \n",
            " 12  windspeed   731 non-null    float64       \n",
            " 13  casual      731 non-null    int64         \n",
            " 14  registered  731 non-null    int64         \n",
            " 15  cnt         731 non-null    int64         \n",
            "dtypes: datetime64[ns](1), float64(4), int64(11)\n",
            "memory usage: 91.5 KB\n"
          ]
        }
      ]
    },
    {
      "cell_type": "markdown",
      "source": [
        "Memeriksa apakah berhasil mengonversi menjadi tipe data datetime pada dataset hour_df"
      ],
      "metadata": {
        "id": "4f1GaSOQhDj2"
      }
    },
    {
      "cell_type": "code",
      "source": [
        "hour_df.info()"
      ],
      "metadata": {
        "colab": {
          "base_uri": "https://localhost:8080/"
        },
        "id": "Q7IcLK83hFcd",
        "outputId": "f95421bd-6654-4ffa-c832-3902df235922"
      },
      "execution_count": 92,
      "outputs": [
        {
          "output_type": "stream",
          "name": "stdout",
          "text": [
            "<class 'pandas.core.frame.DataFrame'>\n",
            "RangeIndex: 17379 entries, 0 to 17378\n",
            "Data columns (total 17 columns):\n",
            " #   Column      Non-Null Count  Dtype         \n",
            "---  ------      --------------  -----         \n",
            " 0   instant     17379 non-null  int64         \n",
            " 1   dteday      731 non-null    datetime64[ns]\n",
            " 2   season      17379 non-null  int64         \n",
            " 3   yr          17379 non-null  int64         \n",
            " 4   mnth        17379 non-null  int64         \n",
            " 5   hr          17379 non-null  int64         \n",
            " 6   holiday     17379 non-null  int64         \n",
            " 7   weekday     17379 non-null  int64         \n",
            " 8   workingday  17379 non-null  int64         \n",
            " 9   weathersit  17379 non-null  int64         \n",
            " 10  temp        17379 non-null  float64       \n",
            " 11  atemp       17379 non-null  float64       \n",
            " 12  hum         17379 non-null  float64       \n",
            " 13  windspeed   17379 non-null  float64       \n",
            " 14  casual      17379 non-null  int64         \n",
            " 15  registered  17379 non-null  int64         \n",
            " 16  cnt         17379 non-null  int64         \n",
            "dtypes: datetime64[ns](1), float64(4), int64(12)\n",
            "memory usage: 2.3 MB\n"
          ]
        }
      ]
    },
    {
      "cell_type": "markdown",
      "source": [
        "**Insight:**\n",
        "- Hanya melakukan konversi masing-masing kolom dteday pada file day.csv dan hour.csv menjadi datetime tanpa banyak melakukan pembersihan data."
      ],
      "metadata": {
        "id": "Q_5ejIqckiSP"
      }
    },
    {
      "cell_type": "markdown",
      "metadata": {
        "id": "gp-Y6wU38DC1"
      },
      "source": [
        "## Exploratory Data Analysis (EDA)"
      ]
    },
    {
      "cell_type": "markdown",
      "metadata": {
        "id": "MW7WF2kr8DC1"
      },
      "source": [
        "### Explore ..."
      ]
    },
    {
      "cell_type": "markdown",
      "source": [
        "**Explore day.csv**"
      ],
      "metadata": {
        "id": "kw1YB-zdbEtX"
      }
    },
    {
      "cell_type": "markdown",
      "source": [
        "Menampilkan ringkasan statistik dari dataset day_df"
      ],
      "metadata": {
        "id": "QuAtvJU1aodQ"
      }
    },
    {
      "cell_type": "code",
      "execution_count": 93,
      "metadata": {
        "id": "e9CQCZjk8DC2",
        "colab": {
          "base_uri": "https://localhost:8080/",
          "height": 528
        },
        "outputId": "a2ee685b-e0e3-4888-fa0c-aece533503c0"
      },
      "outputs": [
        {
          "output_type": "execute_result",
          "data": {
            "text/plain": [
              "          instant               dteday      season          yr        mnth  \\\n",
              "count  731.000000                  731  731.000000  731.000000  731.000000   \n",
              "mean   366.000000  2012-01-01 00:00:00    2.496580    0.500684    6.519836   \n",
              "min      1.000000  2011-01-01 00:00:00    1.000000    0.000000    1.000000   \n",
              "25%    183.500000  2011-07-02 12:00:00    2.000000    0.000000    4.000000   \n",
              "50%    366.000000  2012-01-01 00:00:00    3.000000    1.000000    7.000000   \n",
              "75%    548.500000  2012-07-01 12:00:00    3.000000    1.000000   10.000000   \n",
              "max    731.000000  2012-12-31 00:00:00    4.000000    1.000000   12.000000   \n",
              "std    211.165812                  NaN    1.110807    0.500342    3.451913   \n",
              "\n",
              "          holiday     weekday  workingday  weathersit        temp       atemp  \\\n",
              "count  731.000000  731.000000  731.000000  731.000000  731.000000  731.000000   \n",
              "mean     0.028728    2.997264    0.683995    1.395349    0.495385    0.474354   \n",
              "min      0.000000    0.000000    0.000000    1.000000    0.059130    0.079070   \n",
              "25%      0.000000    1.000000    0.000000    1.000000    0.337083    0.337842   \n",
              "50%      0.000000    3.000000    1.000000    1.000000    0.498333    0.486733   \n",
              "75%      0.000000    5.000000    1.000000    2.000000    0.655417    0.608602   \n",
              "max      1.000000    6.000000    1.000000    3.000000    0.861667    0.840896   \n",
              "std      0.167155    2.004787    0.465233    0.544894    0.183051    0.162961   \n",
              "\n",
              "              hum   windspeed       casual   registered          cnt  \n",
              "count  731.000000  731.000000   731.000000   731.000000   731.000000  \n",
              "mean     0.627894    0.190486   848.176471  3656.172367  4504.348837  \n",
              "min      0.000000    0.022392     2.000000    20.000000    22.000000  \n",
              "25%      0.520000    0.134950   315.500000  2497.000000  3152.000000  \n",
              "50%      0.626667    0.180975   713.000000  3662.000000  4548.000000  \n",
              "75%      0.730209    0.233214  1096.000000  4776.500000  5956.000000  \n",
              "max      0.972500    0.507463  3410.000000  6946.000000  8714.000000  \n",
              "std      0.142429    0.077498   686.622488  1560.256377  1937.211452  "
            ],
            "text/html": [
              "\n",
              "  <div id=\"df-a8f2e0ae-d822-44ff-a597-348ad9d0e493\" class=\"colab-df-container\">\n",
              "    <div>\n",
              "<style scoped>\n",
              "    .dataframe tbody tr th:only-of-type {\n",
              "        vertical-align: middle;\n",
              "    }\n",
              "\n",
              "    .dataframe tbody tr th {\n",
              "        vertical-align: top;\n",
              "    }\n",
              "\n",
              "    .dataframe thead th {\n",
              "        text-align: right;\n",
              "    }\n",
              "</style>\n",
              "<table border=\"1\" class=\"dataframe\">\n",
              "  <thead>\n",
              "    <tr style=\"text-align: right;\">\n",
              "      <th></th>\n",
              "      <th>instant</th>\n",
              "      <th>dteday</th>\n",
              "      <th>season</th>\n",
              "      <th>yr</th>\n",
              "      <th>mnth</th>\n",
              "      <th>holiday</th>\n",
              "      <th>weekday</th>\n",
              "      <th>workingday</th>\n",
              "      <th>weathersit</th>\n",
              "      <th>temp</th>\n",
              "      <th>atemp</th>\n",
              "      <th>hum</th>\n",
              "      <th>windspeed</th>\n",
              "      <th>casual</th>\n",
              "      <th>registered</th>\n",
              "      <th>cnt</th>\n",
              "    </tr>\n",
              "  </thead>\n",
              "  <tbody>\n",
              "    <tr>\n",
              "      <th>count</th>\n",
              "      <td>731.000000</td>\n",
              "      <td>731</td>\n",
              "      <td>731.000000</td>\n",
              "      <td>731.000000</td>\n",
              "      <td>731.000000</td>\n",
              "      <td>731.000000</td>\n",
              "      <td>731.000000</td>\n",
              "      <td>731.000000</td>\n",
              "      <td>731.000000</td>\n",
              "      <td>731.000000</td>\n",
              "      <td>731.000000</td>\n",
              "      <td>731.000000</td>\n",
              "      <td>731.000000</td>\n",
              "      <td>731.000000</td>\n",
              "      <td>731.000000</td>\n",
              "      <td>731.000000</td>\n",
              "    </tr>\n",
              "    <tr>\n",
              "      <th>mean</th>\n",
              "      <td>366.000000</td>\n",
              "      <td>2012-01-01 00:00:00</td>\n",
              "      <td>2.496580</td>\n",
              "      <td>0.500684</td>\n",
              "      <td>6.519836</td>\n",
              "      <td>0.028728</td>\n",
              "      <td>2.997264</td>\n",
              "      <td>0.683995</td>\n",
              "      <td>1.395349</td>\n",
              "      <td>0.495385</td>\n",
              "      <td>0.474354</td>\n",
              "      <td>0.627894</td>\n",
              "      <td>0.190486</td>\n",
              "      <td>848.176471</td>\n",
              "      <td>3656.172367</td>\n",
              "      <td>4504.348837</td>\n",
              "    </tr>\n",
              "    <tr>\n",
              "      <th>min</th>\n",
              "      <td>1.000000</td>\n",
              "      <td>2011-01-01 00:00:00</td>\n",
              "      <td>1.000000</td>\n",
              "      <td>0.000000</td>\n",
              "      <td>1.000000</td>\n",
              "      <td>0.000000</td>\n",
              "      <td>0.000000</td>\n",
              "      <td>0.000000</td>\n",
              "      <td>1.000000</td>\n",
              "      <td>0.059130</td>\n",
              "      <td>0.079070</td>\n",
              "      <td>0.000000</td>\n",
              "      <td>0.022392</td>\n",
              "      <td>2.000000</td>\n",
              "      <td>20.000000</td>\n",
              "      <td>22.000000</td>\n",
              "    </tr>\n",
              "    <tr>\n",
              "      <th>25%</th>\n",
              "      <td>183.500000</td>\n",
              "      <td>2011-07-02 12:00:00</td>\n",
              "      <td>2.000000</td>\n",
              "      <td>0.000000</td>\n",
              "      <td>4.000000</td>\n",
              "      <td>0.000000</td>\n",
              "      <td>1.000000</td>\n",
              "      <td>0.000000</td>\n",
              "      <td>1.000000</td>\n",
              "      <td>0.337083</td>\n",
              "      <td>0.337842</td>\n",
              "      <td>0.520000</td>\n",
              "      <td>0.134950</td>\n",
              "      <td>315.500000</td>\n",
              "      <td>2497.000000</td>\n",
              "      <td>3152.000000</td>\n",
              "    </tr>\n",
              "    <tr>\n",
              "      <th>50%</th>\n",
              "      <td>366.000000</td>\n",
              "      <td>2012-01-01 00:00:00</td>\n",
              "      <td>3.000000</td>\n",
              "      <td>1.000000</td>\n",
              "      <td>7.000000</td>\n",
              "      <td>0.000000</td>\n",
              "      <td>3.000000</td>\n",
              "      <td>1.000000</td>\n",
              "      <td>1.000000</td>\n",
              "      <td>0.498333</td>\n",
              "      <td>0.486733</td>\n",
              "      <td>0.626667</td>\n",
              "      <td>0.180975</td>\n",
              "      <td>713.000000</td>\n",
              "      <td>3662.000000</td>\n",
              "      <td>4548.000000</td>\n",
              "    </tr>\n",
              "    <tr>\n",
              "      <th>75%</th>\n",
              "      <td>548.500000</td>\n",
              "      <td>2012-07-01 12:00:00</td>\n",
              "      <td>3.000000</td>\n",
              "      <td>1.000000</td>\n",
              "      <td>10.000000</td>\n",
              "      <td>0.000000</td>\n",
              "      <td>5.000000</td>\n",
              "      <td>1.000000</td>\n",
              "      <td>2.000000</td>\n",
              "      <td>0.655417</td>\n",
              "      <td>0.608602</td>\n",
              "      <td>0.730209</td>\n",
              "      <td>0.233214</td>\n",
              "      <td>1096.000000</td>\n",
              "      <td>4776.500000</td>\n",
              "      <td>5956.000000</td>\n",
              "    </tr>\n",
              "    <tr>\n",
              "      <th>max</th>\n",
              "      <td>731.000000</td>\n",
              "      <td>2012-12-31 00:00:00</td>\n",
              "      <td>4.000000</td>\n",
              "      <td>1.000000</td>\n",
              "      <td>12.000000</td>\n",
              "      <td>1.000000</td>\n",
              "      <td>6.000000</td>\n",
              "      <td>1.000000</td>\n",
              "      <td>3.000000</td>\n",
              "      <td>0.861667</td>\n",
              "      <td>0.840896</td>\n",
              "      <td>0.972500</td>\n",
              "      <td>0.507463</td>\n",
              "      <td>3410.000000</td>\n",
              "      <td>6946.000000</td>\n",
              "      <td>8714.000000</td>\n",
              "    </tr>\n",
              "    <tr>\n",
              "      <th>std</th>\n",
              "      <td>211.165812</td>\n",
              "      <td>NaN</td>\n",
              "      <td>1.110807</td>\n",
              "      <td>0.500342</td>\n",
              "      <td>3.451913</td>\n",
              "      <td>0.167155</td>\n",
              "      <td>2.004787</td>\n",
              "      <td>0.465233</td>\n",
              "      <td>0.544894</td>\n",
              "      <td>0.183051</td>\n",
              "      <td>0.162961</td>\n",
              "      <td>0.142429</td>\n",
              "      <td>0.077498</td>\n",
              "      <td>686.622488</td>\n",
              "      <td>1560.256377</td>\n",
              "      <td>1937.211452</td>\n",
              "    </tr>\n",
              "  </tbody>\n",
              "</table>\n",
              "</div>\n",
              "    <div class=\"colab-df-buttons\">\n",
              "\n",
              "  <div class=\"colab-df-container\">\n",
              "    <button class=\"colab-df-convert\" onclick=\"convertToInteractive('df-a8f2e0ae-d822-44ff-a597-348ad9d0e493')\"\n",
              "            title=\"Convert this dataframe to an interactive table.\"\n",
              "            style=\"display:none;\">\n",
              "\n",
              "  <svg xmlns=\"http://www.w3.org/2000/svg\" height=\"24px\" viewBox=\"0 -960 960 960\">\n",
              "    <path d=\"M120-120v-720h720v720H120Zm60-500h600v-160H180v160Zm220 220h160v-160H400v160Zm0 220h160v-160H400v160ZM180-400h160v-160H180v160Zm440 0h160v-160H620v160ZM180-180h160v-160H180v160Zm440 0h160v-160H620v160Z\"/>\n",
              "  </svg>\n",
              "    </button>\n",
              "\n",
              "  <style>\n",
              "    .colab-df-container {\n",
              "      display:flex;\n",
              "      gap: 12px;\n",
              "    }\n",
              "\n",
              "    .colab-df-convert {\n",
              "      background-color: #E8F0FE;\n",
              "      border: none;\n",
              "      border-radius: 50%;\n",
              "      cursor: pointer;\n",
              "      display: none;\n",
              "      fill: #1967D2;\n",
              "      height: 32px;\n",
              "      padding: 0 0 0 0;\n",
              "      width: 32px;\n",
              "    }\n",
              "\n",
              "    .colab-df-convert:hover {\n",
              "      background-color: #E2EBFA;\n",
              "      box-shadow: 0px 1px 2px rgba(60, 64, 67, 0.3), 0px 1px 3px 1px rgba(60, 64, 67, 0.15);\n",
              "      fill: #174EA6;\n",
              "    }\n",
              "\n",
              "    .colab-df-buttons div {\n",
              "      margin-bottom: 4px;\n",
              "    }\n",
              "\n",
              "    [theme=dark] .colab-df-convert {\n",
              "      background-color: #3B4455;\n",
              "      fill: #D2E3FC;\n",
              "    }\n",
              "\n",
              "    [theme=dark] .colab-df-convert:hover {\n",
              "      background-color: #434B5C;\n",
              "      box-shadow: 0px 1px 3px 1px rgba(0, 0, 0, 0.15);\n",
              "      filter: drop-shadow(0px 1px 2px rgba(0, 0, 0, 0.3));\n",
              "      fill: #FFFFFF;\n",
              "    }\n",
              "  </style>\n",
              "\n",
              "    <script>\n",
              "      const buttonEl =\n",
              "        document.querySelector('#df-a8f2e0ae-d822-44ff-a597-348ad9d0e493 button.colab-df-convert');\n",
              "      buttonEl.style.display =\n",
              "        google.colab.kernel.accessAllowed ? 'block' : 'none';\n",
              "\n",
              "      async function convertToInteractive(key) {\n",
              "        const element = document.querySelector('#df-a8f2e0ae-d822-44ff-a597-348ad9d0e493');\n",
              "        const dataTable =\n",
              "          await google.colab.kernel.invokeFunction('convertToInteractive',\n",
              "                                                    [key], {});\n",
              "        if (!dataTable) return;\n",
              "\n",
              "        const docLinkHtml = 'Like what you see? Visit the ' +\n",
              "          '<a target=\"_blank\" href=https://colab.research.google.com/notebooks/data_table.ipynb>data table notebook</a>'\n",
              "          + ' to learn more about interactive tables.';\n",
              "        element.innerHTML = '';\n",
              "        dataTable['output_type'] = 'display_data';\n",
              "        await google.colab.output.renderOutput(dataTable, element);\n",
              "        const docLink = document.createElement('div');\n",
              "        docLink.innerHTML = docLinkHtml;\n",
              "        element.appendChild(docLink);\n",
              "      }\n",
              "    </script>\n",
              "  </div>\n",
              "\n",
              "\n",
              "<div id=\"df-660e02ad-30a1-462b-b74b-30786af8c590\">\n",
              "  <button class=\"colab-df-quickchart\" onclick=\"quickchart('df-660e02ad-30a1-462b-b74b-30786af8c590')\"\n",
              "            title=\"Suggest charts\"\n",
              "            style=\"display:none;\">\n",
              "\n",
              "<svg xmlns=\"http://www.w3.org/2000/svg\" height=\"24px\"viewBox=\"0 0 24 24\"\n",
              "     width=\"24px\">\n",
              "    <g>\n",
              "        <path d=\"M19 3H5c-1.1 0-2 .9-2 2v14c0 1.1.9 2 2 2h14c1.1 0 2-.9 2-2V5c0-1.1-.9-2-2-2zM9 17H7v-7h2v7zm4 0h-2V7h2v10zm4 0h-2v-4h2v4z\"/>\n",
              "    </g>\n",
              "</svg>\n",
              "  </button>\n",
              "\n",
              "<style>\n",
              "  .colab-df-quickchart {\n",
              "      --bg-color: #E8F0FE;\n",
              "      --fill-color: #1967D2;\n",
              "      --hover-bg-color: #E2EBFA;\n",
              "      --hover-fill-color: #174EA6;\n",
              "      --disabled-fill-color: #AAA;\n",
              "      --disabled-bg-color: #DDD;\n",
              "  }\n",
              "\n",
              "  [theme=dark] .colab-df-quickchart {\n",
              "      --bg-color: #3B4455;\n",
              "      --fill-color: #D2E3FC;\n",
              "      --hover-bg-color: #434B5C;\n",
              "      --hover-fill-color: #FFFFFF;\n",
              "      --disabled-bg-color: #3B4455;\n",
              "      --disabled-fill-color: #666;\n",
              "  }\n",
              "\n",
              "  .colab-df-quickchart {\n",
              "    background-color: var(--bg-color);\n",
              "    border: none;\n",
              "    border-radius: 50%;\n",
              "    cursor: pointer;\n",
              "    display: none;\n",
              "    fill: var(--fill-color);\n",
              "    height: 32px;\n",
              "    padding: 0;\n",
              "    width: 32px;\n",
              "  }\n",
              "\n",
              "  .colab-df-quickchart:hover {\n",
              "    background-color: var(--hover-bg-color);\n",
              "    box-shadow: 0 1px 2px rgba(60, 64, 67, 0.3), 0 1px 3px 1px rgba(60, 64, 67, 0.15);\n",
              "    fill: var(--button-hover-fill-color);\n",
              "  }\n",
              "\n",
              "  .colab-df-quickchart-complete:disabled,\n",
              "  .colab-df-quickchart-complete:disabled:hover {\n",
              "    background-color: var(--disabled-bg-color);\n",
              "    fill: var(--disabled-fill-color);\n",
              "    box-shadow: none;\n",
              "  }\n",
              "\n",
              "  .colab-df-spinner {\n",
              "    border: 2px solid var(--fill-color);\n",
              "    border-color: transparent;\n",
              "    border-bottom-color: var(--fill-color);\n",
              "    animation:\n",
              "      spin 1s steps(1) infinite;\n",
              "  }\n",
              "\n",
              "  @keyframes spin {\n",
              "    0% {\n",
              "      border-color: transparent;\n",
              "      border-bottom-color: var(--fill-color);\n",
              "      border-left-color: var(--fill-color);\n",
              "    }\n",
              "    20% {\n",
              "      border-color: transparent;\n",
              "      border-left-color: var(--fill-color);\n",
              "      border-top-color: var(--fill-color);\n",
              "    }\n",
              "    30% {\n",
              "      border-color: transparent;\n",
              "      border-left-color: var(--fill-color);\n",
              "      border-top-color: var(--fill-color);\n",
              "      border-right-color: var(--fill-color);\n",
              "    }\n",
              "    40% {\n",
              "      border-color: transparent;\n",
              "      border-right-color: var(--fill-color);\n",
              "      border-top-color: var(--fill-color);\n",
              "    }\n",
              "    60% {\n",
              "      border-color: transparent;\n",
              "      border-right-color: var(--fill-color);\n",
              "    }\n",
              "    80% {\n",
              "      border-color: transparent;\n",
              "      border-right-color: var(--fill-color);\n",
              "      border-bottom-color: var(--fill-color);\n",
              "    }\n",
              "    90% {\n",
              "      border-color: transparent;\n",
              "      border-bottom-color: var(--fill-color);\n",
              "    }\n",
              "  }\n",
              "</style>\n",
              "\n",
              "  <script>\n",
              "    async function quickchart(key) {\n",
              "      const quickchartButtonEl =\n",
              "        document.querySelector('#' + key + ' button');\n",
              "      quickchartButtonEl.disabled = true;  // To prevent multiple clicks.\n",
              "      quickchartButtonEl.classList.add('colab-df-spinner');\n",
              "      try {\n",
              "        const charts = await google.colab.kernel.invokeFunction(\n",
              "            'suggestCharts', [key], {});\n",
              "      } catch (error) {\n",
              "        console.error('Error during call to suggestCharts:', error);\n",
              "      }\n",
              "      quickchartButtonEl.classList.remove('colab-df-spinner');\n",
              "      quickchartButtonEl.classList.add('colab-df-quickchart-complete');\n",
              "    }\n",
              "    (() => {\n",
              "      let quickchartButtonEl =\n",
              "        document.querySelector('#df-660e02ad-30a1-462b-b74b-30786af8c590 button');\n",
              "      quickchartButtonEl.style.display =\n",
              "        google.colab.kernel.accessAllowed ? 'block' : 'none';\n",
              "    })();\n",
              "  </script>\n",
              "</div>\n",
              "\n",
              "    </div>\n",
              "  </div>\n"
            ],
            "application/vnd.google.colaboratory.intrinsic+json": {
              "type": "dataframe",
              "summary": "{\n  \"name\": \"day_df\",\n  \"rows\": 8,\n  \"fields\": [\n    {\n      \"column\": \"instant\",\n      \"properties\": {\n        \"dtype\": \"number\",\n        \"std\": 263.151210562102,\n        \"min\": 1.0,\n        \"max\": 731.0,\n        \"num_unique_values\": 6,\n        \"samples\": [\n          731.0,\n          366.0,\n          211.16581162678773\n        ],\n        \"semantic_type\": \"\",\n        \"description\": \"\"\n      }\n    },\n    {\n      \"column\": \"dteday\",\n      \"properties\": {\n        \"dtype\": \"date\",\n        \"min\": \"1970-01-01 00:00:00.000000731\",\n        \"max\": \"2012-12-31 00:00:00\",\n        \"num_unique_values\": 6,\n        \"samples\": [\n          \"731\",\n          \"2012-01-01 00:00:00\",\n          \"2012-12-31 00:00:00\"\n        ],\n        \"semantic_type\": \"\",\n        \"description\": \"\"\n      }\n    },\n    {\n      \"column\": \"season\",\n      \"properties\": {\n        \"dtype\": \"number\",\n        \"std\": 257.61068803932375,\n        \"min\": 1.0,\n        \"max\": 731.0,\n        \"num_unique_values\": 7,\n        \"samples\": [\n          731.0,\n          2.496580027359781,\n          4.0\n        ],\n        \"semantic_type\": \"\",\n        \"description\": \"\"\n      }\n    },\n    {\n      \"column\": \"yr\",\n      \"properties\": {\n        \"dtype\": \"number\",\n        \"std\": 258.2457820210964,\n        \"min\": 0.0,\n        \"max\": 731.0,\n        \"num_unique_values\": 5,\n        \"samples\": [\n          0.5006839945280438,\n          0.5003418803818294,\n          0.0\n        ],\n        \"semantic_type\": \"\",\n        \"description\": \"\"\n      }\n    },\n    {\n      \"column\": \"mnth\",\n      \"properties\": {\n        \"dtype\": \"number\",\n        \"std\": 256.251208377565,\n        \"min\": 1.0,\n        \"max\": 731.0,\n        \"num_unique_values\": 8,\n        \"samples\": [\n          6.519835841313269,\n          10.0,\n          731.0\n        ],\n        \"semantic_type\": \"\",\n        \"description\": \"\"\n      }\n    },\n    {\n      \"column\": \"holiday\",\n      \"properties\": {\n        \"dtype\": \"number\",\n        \"std\": 258.38735524952386,\n        \"min\": 0.0,\n        \"max\": 731.0,\n        \"num_unique_values\": 5,\n        \"samples\": [\n          0.028727770177838577,\n          0.16715474262247393,\n          0.0\n        ],\n        \"semantic_type\": \"\",\n        \"description\": \"\"\n      }\n    },\n    {\n      \"column\": \"weekday\",\n      \"properties\": {\n        \"dtype\": \"number\",\n        \"std\": 257.4447215833011,\n        \"min\": 0.0,\n        \"max\": 731.0,\n        \"num_unique_values\": 8,\n        \"samples\": [\n          2.997264021887825,\n          5.0,\n          731.0\n        ],\n        \"semantic_type\": \"\",\n        \"description\": \"\"\n      }\n    },\n    {\n      \"column\": \"workingday\",\n      \"properties\": {\n        \"dtype\": \"number\",\n        \"std\": 258.23829965962693,\n        \"min\": 0.0,\n        \"max\": 731.0,\n        \"num_unique_values\": 5,\n        \"samples\": [\n          0.6839945280437757,\n          0.46523338667770103,\n          0.0\n        ],\n        \"semantic_type\": \"\",\n        \"description\": \"\"\n      }\n    },\n    {\n      \"column\": \"weathersit\",\n      \"properties\": {\n        \"dtype\": \"number\",\n        \"std\": 257.94661363848155,\n        \"min\": 0.5448943419593629,\n        \"max\": 731.0,\n        \"num_unique_values\": 6,\n        \"samples\": [\n          731.0,\n          1.3953488372093024,\n          0.5448943419593629\n        ],\n        \"semantic_type\": \"\",\n        \"description\": \"\"\n      }\n    },\n    {\n      \"column\": \"temp\",\n      \"properties\": {\n        \"dtype\": \"number\",\n        \"std\": 258.2915817037473,\n        \"min\": 0.0591304,\n        \"max\": 731.0,\n        \"num_unique_values\": 8,\n        \"samples\": [\n          0.495384788508892,\n          0.6554165000000001,\n          731.0\n        ],\n        \"semantic_type\": \"\",\n        \"description\": \"\"\n      }\n    },\n    {\n      \"column\": \"atemp\",\n      \"properties\": {\n        \"dtype\": \"number\",\n        \"std\": 258.2966006263005,\n        \"min\": 0.0790696,\n        \"max\": 731.0,\n        \"num_unique_values\": 8,\n        \"samples\": [\n          0.47435398864569084,\n          0.6086020000000001,\n          731.0\n        ],\n        \"semantic_type\": \"\",\n        \"description\": \"\"\n      }\n    },\n    {\n      \"column\": \"hum\",\n      \"properties\": {\n        \"dtype\": \"number\",\n        \"std\": 258.26489554668353,\n        \"min\": 0.0,\n        \"max\": 731.0,\n        \"num_unique_values\": 8,\n        \"samples\": [\n          0.6278940629274967,\n          0.7302085,\n          731.0\n        ],\n        \"semantic_type\": \"\",\n        \"description\": \"\"\n      }\n    },\n    {\n      \"column\": \"windspeed\",\n      \"properties\": {\n        \"dtype\": \"number\",\n        \"std\": 258.37953633824185,\n        \"min\": 0.0223917,\n        \"max\": 731.0,\n        \"num_unique_values\": 8,\n        \"samples\": [\n          0.190486211627907,\n          0.2332145,\n          731.0\n        ],\n        \"semantic_type\": \"\",\n        \"description\": \"\"\n      }\n    },\n    {\n      \"column\": \"casual\",\n      \"properties\": {\n        \"dtype\": \"number\",\n        \"std\": 1038.7465238878817,\n        \"min\": 2.0,\n        \"max\": 3410.0,\n        \"num_unique_values\": 8,\n        \"samples\": [\n          848.1764705882352,\n          1096.0,\n          731.0\n        ],\n        \"semantic_type\": \"\",\n        \"description\": \"\"\n      }\n    },\n    {\n      \"column\": \"registered\",\n      \"properties\": {\n        \"dtype\": \"number\",\n        \"std\": 2266.131168472822,\n        \"min\": 20.0,\n        \"max\": 6946.0,\n        \"num_unique_values\": 8,\n        \"samples\": [\n          3656.172366621067,\n          4776.5,\n          731.0\n        ],\n        \"semantic_type\": \"\",\n        \"description\": \"\"\n      }\n    },\n    {\n      \"column\": \"cnt\",\n      \"properties\": {\n        \"dtype\": \"number\",\n        \"std\": 2862.2176347716063,\n        \"min\": 22.0,\n        \"max\": 8714.0,\n        \"num_unique_values\": 8,\n        \"samples\": [\n          4504.3488372093025,\n          5956.0,\n          731.0\n        ],\n        \"semantic_type\": \"\",\n        \"description\": \"\"\n      }\n    }\n  ]\n}"
            }
          },
          "metadata": {},
          "execution_count": 93
        }
      ],
      "source": [
        "day_df.describe()"
      ]
    },
    {
      "cell_type": "markdown",
      "source": [
        "Menampilkan ringkasan statistik dari dataset day_df kolom holiday, weekday, dan workingday"
      ],
      "metadata": {
        "id": "nt6gglRLbJRw"
      }
    },
    {
      "cell_type": "code",
      "source": [
        "day_df[[\"holiday\", \"weekday\", \"workingday\"]].describe()"
      ],
      "metadata": {
        "colab": {
          "base_uri": "https://localhost:8080/",
          "height": 300
        },
        "id": "2wW6Ln7MbKgr",
        "outputId": "7cefc1c4-dab0-4ce7-b856-d21ed349d251"
      },
      "execution_count": 94,
      "outputs": [
        {
          "output_type": "execute_result",
          "data": {
            "text/plain": [
              "          holiday     weekday  workingday\n",
              "count  731.000000  731.000000  731.000000\n",
              "mean     0.028728    2.997264    0.683995\n",
              "std      0.167155    2.004787    0.465233\n",
              "min      0.000000    0.000000    0.000000\n",
              "25%      0.000000    1.000000    0.000000\n",
              "50%      0.000000    3.000000    1.000000\n",
              "75%      0.000000    5.000000    1.000000\n",
              "max      1.000000    6.000000    1.000000"
            ],
            "text/html": [
              "\n",
              "  <div id=\"df-57d9884d-223f-435e-8f96-5ad399553405\" class=\"colab-df-container\">\n",
              "    <div>\n",
              "<style scoped>\n",
              "    .dataframe tbody tr th:only-of-type {\n",
              "        vertical-align: middle;\n",
              "    }\n",
              "\n",
              "    .dataframe tbody tr th {\n",
              "        vertical-align: top;\n",
              "    }\n",
              "\n",
              "    .dataframe thead th {\n",
              "        text-align: right;\n",
              "    }\n",
              "</style>\n",
              "<table border=\"1\" class=\"dataframe\">\n",
              "  <thead>\n",
              "    <tr style=\"text-align: right;\">\n",
              "      <th></th>\n",
              "      <th>holiday</th>\n",
              "      <th>weekday</th>\n",
              "      <th>workingday</th>\n",
              "    </tr>\n",
              "  </thead>\n",
              "  <tbody>\n",
              "    <tr>\n",
              "      <th>count</th>\n",
              "      <td>731.000000</td>\n",
              "      <td>731.000000</td>\n",
              "      <td>731.000000</td>\n",
              "    </tr>\n",
              "    <tr>\n",
              "      <th>mean</th>\n",
              "      <td>0.028728</td>\n",
              "      <td>2.997264</td>\n",
              "      <td>0.683995</td>\n",
              "    </tr>\n",
              "    <tr>\n",
              "      <th>std</th>\n",
              "      <td>0.167155</td>\n",
              "      <td>2.004787</td>\n",
              "      <td>0.465233</td>\n",
              "    </tr>\n",
              "    <tr>\n",
              "      <th>min</th>\n",
              "      <td>0.000000</td>\n",
              "      <td>0.000000</td>\n",
              "      <td>0.000000</td>\n",
              "    </tr>\n",
              "    <tr>\n",
              "      <th>25%</th>\n",
              "      <td>0.000000</td>\n",
              "      <td>1.000000</td>\n",
              "      <td>0.000000</td>\n",
              "    </tr>\n",
              "    <tr>\n",
              "      <th>50%</th>\n",
              "      <td>0.000000</td>\n",
              "      <td>3.000000</td>\n",
              "      <td>1.000000</td>\n",
              "    </tr>\n",
              "    <tr>\n",
              "      <th>75%</th>\n",
              "      <td>0.000000</td>\n",
              "      <td>5.000000</td>\n",
              "      <td>1.000000</td>\n",
              "    </tr>\n",
              "    <tr>\n",
              "      <th>max</th>\n",
              "      <td>1.000000</td>\n",
              "      <td>6.000000</td>\n",
              "      <td>1.000000</td>\n",
              "    </tr>\n",
              "  </tbody>\n",
              "</table>\n",
              "</div>\n",
              "    <div class=\"colab-df-buttons\">\n",
              "\n",
              "  <div class=\"colab-df-container\">\n",
              "    <button class=\"colab-df-convert\" onclick=\"convertToInteractive('df-57d9884d-223f-435e-8f96-5ad399553405')\"\n",
              "            title=\"Convert this dataframe to an interactive table.\"\n",
              "            style=\"display:none;\">\n",
              "\n",
              "  <svg xmlns=\"http://www.w3.org/2000/svg\" height=\"24px\" viewBox=\"0 -960 960 960\">\n",
              "    <path d=\"M120-120v-720h720v720H120Zm60-500h600v-160H180v160Zm220 220h160v-160H400v160Zm0 220h160v-160H400v160ZM180-400h160v-160H180v160Zm440 0h160v-160H620v160ZM180-180h160v-160H180v160Zm440 0h160v-160H620v160Z\"/>\n",
              "  </svg>\n",
              "    </button>\n",
              "\n",
              "  <style>\n",
              "    .colab-df-container {\n",
              "      display:flex;\n",
              "      gap: 12px;\n",
              "    }\n",
              "\n",
              "    .colab-df-convert {\n",
              "      background-color: #E8F0FE;\n",
              "      border: none;\n",
              "      border-radius: 50%;\n",
              "      cursor: pointer;\n",
              "      display: none;\n",
              "      fill: #1967D2;\n",
              "      height: 32px;\n",
              "      padding: 0 0 0 0;\n",
              "      width: 32px;\n",
              "    }\n",
              "\n",
              "    .colab-df-convert:hover {\n",
              "      background-color: #E2EBFA;\n",
              "      box-shadow: 0px 1px 2px rgba(60, 64, 67, 0.3), 0px 1px 3px 1px rgba(60, 64, 67, 0.15);\n",
              "      fill: #174EA6;\n",
              "    }\n",
              "\n",
              "    .colab-df-buttons div {\n",
              "      margin-bottom: 4px;\n",
              "    }\n",
              "\n",
              "    [theme=dark] .colab-df-convert {\n",
              "      background-color: #3B4455;\n",
              "      fill: #D2E3FC;\n",
              "    }\n",
              "\n",
              "    [theme=dark] .colab-df-convert:hover {\n",
              "      background-color: #434B5C;\n",
              "      box-shadow: 0px 1px 3px 1px rgba(0, 0, 0, 0.15);\n",
              "      filter: drop-shadow(0px 1px 2px rgba(0, 0, 0, 0.3));\n",
              "      fill: #FFFFFF;\n",
              "    }\n",
              "  </style>\n",
              "\n",
              "    <script>\n",
              "      const buttonEl =\n",
              "        document.querySelector('#df-57d9884d-223f-435e-8f96-5ad399553405 button.colab-df-convert');\n",
              "      buttonEl.style.display =\n",
              "        google.colab.kernel.accessAllowed ? 'block' : 'none';\n",
              "\n",
              "      async function convertToInteractive(key) {\n",
              "        const element = document.querySelector('#df-57d9884d-223f-435e-8f96-5ad399553405');\n",
              "        const dataTable =\n",
              "          await google.colab.kernel.invokeFunction('convertToInteractive',\n",
              "                                                    [key], {});\n",
              "        if (!dataTable) return;\n",
              "\n",
              "        const docLinkHtml = 'Like what you see? Visit the ' +\n",
              "          '<a target=\"_blank\" href=https://colab.research.google.com/notebooks/data_table.ipynb>data table notebook</a>'\n",
              "          + ' to learn more about interactive tables.';\n",
              "        element.innerHTML = '';\n",
              "        dataTable['output_type'] = 'display_data';\n",
              "        await google.colab.output.renderOutput(dataTable, element);\n",
              "        const docLink = document.createElement('div');\n",
              "        docLink.innerHTML = docLinkHtml;\n",
              "        element.appendChild(docLink);\n",
              "      }\n",
              "    </script>\n",
              "  </div>\n",
              "\n",
              "\n",
              "<div id=\"df-11bc7033-73b7-49e3-ba33-fa2da047fdb9\">\n",
              "  <button class=\"colab-df-quickchart\" onclick=\"quickchart('df-11bc7033-73b7-49e3-ba33-fa2da047fdb9')\"\n",
              "            title=\"Suggest charts\"\n",
              "            style=\"display:none;\">\n",
              "\n",
              "<svg xmlns=\"http://www.w3.org/2000/svg\" height=\"24px\"viewBox=\"0 0 24 24\"\n",
              "     width=\"24px\">\n",
              "    <g>\n",
              "        <path d=\"M19 3H5c-1.1 0-2 .9-2 2v14c0 1.1.9 2 2 2h14c1.1 0 2-.9 2-2V5c0-1.1-.9-2-2-2zM9 17H7v-7h2v7zm4 0h-2V7h2v10zm4 0h-2v-4h2v4z\"/>\n",
              "    </g>\n",
              "</svg>\n",
              "  </button>\n",
              "\n",
              "<style>\n",
              "  .colab-df-quickchart {\n",
              "      --bg-color: #E8F0FE;\n",
              "      --fill-color: #1967D2;\n",
              "      --hover-bg-color: #E2EBFA;\n",
              "      --hover-fill-color: #174EA6;\n",
              "      --disabled-fill-color: #AAA;\n",
              "      --disabled-bg-color: #DDD;\n",
              "  }\n",
              "\n",
              "  [theme=dark] .colab-df-quickchart {\n",
              "      --bg-color: #3B4455;\n",
              "      --fill-color: #D2E3FC;\n",
              "      --hover-bg-color: #434B5C;\n",
              "      --hover-fill-color: #FFFFFF;\n",
              "      --disabled-bg-color: #3B4455;\n",
              "      --disabled-fill-color: #666;\n",
              "  }\n",
              "\n",
              "  .colab-df-quickchart {\n",
              "    background-color: var(--bg-color);\n",
              "    border: none;\n",
              "    border-radius: 50%;\n",
              "    cursor: pointer;\n",
              "    display: none;\n",
              "    fill: var(--fill-color);\n",
              "    height: 32px;\n",
              "    padding: 0;\n",
              "    width: 32px;\n",
              "  }\n",
              "\n",
              "  .colab-df-quickchart:hover {\n",
              "    background-color: var(--hover-bg-color);\n",
              "    box-shadow: 0 1px 2px rgba(60, 64, 67, 0.3), 0 1px 3px 1px rgba(60, 64, 67, 0.15);\n",
              "    fill: var(--button-hover-fill-color);\n",
              "  }\n",
              "\n",
              "  .colab-df-quickchart-complete:disabled,\n",
              "  .colab-df-quickchart-complete:disabled:hover {\n",
              "    background-color: var(--disabled-bg-color);\n",
              "    fill: var(--disabled-fill-color);\n",
              "    box-shadow: none;\n",
              "  }\n",
              "\n",
              "  .colab-df-spinner {\n",
              "    border: 2px solid var(--fill-color);\n",
              "    border-color: transparent;\n",
              "    border-bottom-color: var(--fill-color);\n",
              "    animation:\n",
              "      spin 1s steps(1) infinite;\n",
              "  }\n",
              "\n",
              "  @keyframes spin {\n",
              "    0% {\n",
              "      border-color: transparent;\n",
              "      border-bottom-color: var(--fill-color);\n",
              "      border-left-color: var(--fill-color);\n",
              "    }\n",
              "    20% {\n",
              "      border-color: transparent;\n",
              "      border-left-color: var(--fill-color);\n",
              "      border-top-color: var(--fill-color);\n",
              "    }\n",
              "    30% {\n",
              "      border-color: transparent;\n",
              "      border-left-color: var(--fill-color);\n",
              "      border-top-color: var(--fill-color);\n",
              "      border-right-color: var(--fill-color);\n",
              "    }\n",
              "    40% {\n",
              "      border-color: transparent;\n",
              "      border-right-color: var(--fill-color);\n",
              "      border-top-color: var(--fill-color);\n",
              "    }\n",
              "    60% {\n",
              "      border-color: transparent;\n",
              "      border-right-color: var(--fill-color);\n",
              "    }\n",
              "    80% {\n",
              "      border-color: transparent;\n",
              "      border-right-color: var(--fill-color);\n",
              "      border-bottom-color: var(--fill-color);\n",
              "    }\n",
              "    90% {\n",
              "      border-color: transparent;\n",
              "      border-bottom-color: var(--fill-color);\n",
              "    }\n",
              "  }\n",
              "</style>\n",
              "\n",
              "  <script>\n",
              "    async function quickchart(key) {\n",
              "      const quickchartButtonEl =\n",
              "        document.querySelector('#' + key + ' button');\n",
              "      quickchartButtonEl.disabled = true;  // To prevent multiple clicks.\n",
              "      quickchartButtonEl.classList.add('colab-df-spinner');\n",
              "      try {\n",
              "        const charts = await google.colab.kernel.invokeFunction(\n",
              "            'suggestCharts', [key], {});\n",
              "      } catch (error) {\n",
              "        console.error('Error during call to suggestCharts:', error);\n",
              "      }\n",
              "      quickchartButtonEl.classList.remove('colab-df-spinner');\n",
              "      quickchartButtonEl.classList.add('colab-df-quickchart-complete');\n",
              "    }\n",
              "    (() => {\n",
              "      let quickchartButtonEl =\n",
              "        document.querySelector('#df-11bc7033-73b7-49e3-ba33-fa2da047fdb9 button');\n",
              "      quickchartButtonEl.style.display =\n",
              "        google.colab.kernel.accessAllowed ? 'block' : 'none';\n",
              "    })();\n",
              "  </script>\n",
              "</div>\n",
              "\n",
              "    </div>\n",
              "  </div>\n"
            ],
            "application/vnd.google.colaboratory.intrinsic+json": {
              "type": "dataframe",
              "summary": "{\n  \"name\": \"day_df[[\\\"holiday\\\", \\\"weekday\\\", \\\"workingday\\\"]]\",\n  \"rows\": 8,\n  \"fields\": [\n    {\n      \"column\": \"holiday\",\n      \"properties\": {\n        \"dtype\": \"number\",\n        \"std\": 258.38735524952386,\n        \"min\": 0.0,\n        \"max\": 731.0,\n        \"num_unique_values\": 5,\n        \"samples\": [\n          0.028727770177838577,\n          1.0,\n          0.16715474262247393\n        ],\n        \"semantic_type\": \"\",\n        \"description\": \"\"\n      }\n    },\n    {\n      \"column\": \"weekday\",\n      \"properties\": {\n        \"dtype\": \"number\",\n        \"std\": 257.4447215833011,\n        \"min\": 0.0,\n        \"max\": 731.0,\n        \"num_unique_values\": 8,\n        \"samples\": [\n          2.997264021887825,\n          3.0,\n          731.0\n        ],\n        \"semantic_type\": \"\",\n        \"description\": \"\"\n      }\n    },\n    {\n      \"column\": \"workingday\",\n      \"properties\": {\n        \"dtype\": \"number\",\n        \"std\": 258.23829965962693,\n        \"min\": 0.0,\n        \"max\": 731.0,\n        \"num_unique_values\": 5,\n        \"samples\": [\n          0.6839945280437757,\n          1.0,\n          0.46523338667770103\n        ],\n        \"semantic_type\": \"\",\n        \"description\": \"\"\n      }\n    }\n  ]\n}"
            }
          },
          "metadata": {},
          "execution_count": 94
        }
      ]
    },
    {
      "cell_type": "markdown",
      "source": [
        "Melihat nilai unik dari kolom holiday, weekday, dan workingday"
      ],
      "metadata": {
        "id": "vt4NKmos_eWa"
      }
    },
    {
      "cell_type": "code",
      "source": [
        "print(\"Unique values in holiday:\", day_df[\"holiday\"].unique())\n",
        "print(\"Unique values in weekday:\", (day_df[\"weekday\"].unique()))\n",
        "print(\"Unique values in workingday:\", day_df[\"workingday\"].unique())"
      ],
      "metadata": {
        "colab": {
          "base_uri": "https://localhost:8080/"
        },
        "id": "2oEUEEDO_fXz",
        "outputId": "91dd786a-7599-472c-95b1-0b4bc032c40f"
      },
      "execution_count": 95,
      "outputs": [
        {
          "output_type": "stream",
          "name": "stdout",
          "text": [
            "Unique values in holiday: [0 1]\n",
            "Unique values in weekday: [6 0 1 2 3 4 5]\n",
            "Unique values in workingday: [0 1]\n"
          ]
        }
      ]
    },
    {
      "cell_type": "markdown",
      "source": [
        "Mengklasifikasikan jenis hari dalam dataset day_df"
      ],
      "metadata": {
        "id": "1ecCJZfG2UI6"
      }
    },
    {
      "cell_type": "code",
      "source": [
        "def classify_day(row):\n",
        "    if row[\"holiday\"] == 1:\n",
        "        return \"Holiday\"\n",
        "    elif row[\"weekday\"] in [0, 6]:  # Minggu (0) dan Sabtu (6)\n",
        "        return \"Weekend\"\n",
        "    else:\n",
        "        return \"Workday\"\n",
        "\n",
        "day_df[\"day_type\"] = day_df.apply(classify_day, axis=1)"
      ],
      "metadata": {
        "id": "dIR7sQYu2Tm4"
      },
      "execution_count": 96,
      "outputs": []
    },
    {
      "cell_type": "markdown",
      "source": [
        "Melakukan agregasi statistik pada dataset day_df dengan mengelompokkan data berdasarkan day_type dan menghitung total, rata-rata, median, serta standar deviasi jumlah peminjaman (cnt)."
      ],
      "metadata": {
        "id": "ID4JZrlK2oEj"
      }
    },
    {
      "cell_type": "code",
      "source": [
        "day_df.groupby(\"day_type\").agg(\n",
        "    total_peminjaman=(\"cnt\", \"sum\"),\n",
        "    rata_rata_peminjaman=(\"cnt\", \"mean\"),\n",
        "    median_peminjaman=(\"cnt\", \"median\"),\n",
        "    std_peminjaman=(\"cnt\", \"std\")\n",
        ")"
      ],
      "metadata": {
        "colab": {
          "base_uri": "https://localhost:8080/",
          "height": 174
        },
        "id": "4ukhiuPoSdMy",
        "outputId": "67e4bf2d-7083-4021-e406-0f353321a84f"
      },
      "execution_count": 97,
      "outputs": [
        {
          "output_type": "execute_result",
          "data": {
            "text/plain": [
              "          total_peminjaman  rata_rata_peminjaman  median_peminjaman  \\\n",
              "day_type                                                              \n",
              "Holiday              78435           3735.000000             3351.0   \n",
              "Weekend             921834           4389.685714             4467.5   \n",
              "Workday            2292410           4584.820000             4582.0   \n",
              "\n",
              "          std_peminjaman  \n",
              "day_type                  \n",
              "Holiday      2103.350660  \n",
              "Weekend      2042.527458  \n",
              "Workday      1878.415583  "
            ],
            "text/html": [
              "\n",
              "  <div id=\"df-d9064e5b-e5b2-429a-9c94-7c7bcac316f3\" class=\"colab-df-container\">\n",
              "    <div>\n",
              "<style scoped>\n",
              "    .dataframe tbody tr th:only-of-type {\n",
              "        vertical-align: middle;\n",
              "    }\n",
              "\n",
              "    .dataframe tbody tr th {\n",
              "        vertical-align: top;\n",
              "    }\n",
              "\n",
              "    .dataframe thead th {\n",
              "        text-align: right;\n",
              "    }\n",
              "</style>\n",
              "<table border=\"1\" class=\"dataframe\">\n",
              "  <thead>\n",
              "    <tr style=\"text-align: right;\">\n",
              "      <th></th>\n",
              "      <th>total_peminjaman</th>\n",
              "      <th>rata_rata_peminjaman</th>\n",
              "      <th>median_peminjaman</th>\n",
              "      <th>std_peminjaman</th>\n",
              "    </tr>\n",
              "    <tr>\n",
              "      <th>day_type</th>\n",
              "      <th></th>\n",
              "      <th></th>\n",
              "      <th></th>\n",
              "      <th></th>\n",
              "    </tr>\n",
              "  </thead>\n",
              "  <tbody>\n",
              "    <tr>\n",
              "      <th>Holiday</th>\n",
              "      <td>78435</td>\n",
              "      <td>3735.000000</td>\n",
              "      <td>3351.0</td>\n",
              "      <td>2103.350660</td>\n",
              "    </tr>\n",
              "    <tr>\n",
              "      <th>Weekend</th>\n",
              "      <td>921834</td>\n",
              "      <td>4389.685714</td>\n",
              "      <td>4467.5</td>\n",
              "      <td>2042.527458</td>\n",
              "    </tr>\n",
              "    <tr>\n",
              "      <th>Workday</th>\n",
              "      <td>2292410</td>\n",
              "      <td>4584.820000</td>\n",
              "      <td>4582.0</td>\n",
              "      <td>1878.415583</td>\n",
              "    </tr>\n",
              "  </tbody>\n",
              "</table>\n",
              "</div>\n",
              "    <div class=\"colab-df-buttons\">\n",
              "\n",
              "  <div class=\"colab-df-container\">\n",
              "    <button class=\"colab-df-convert\" onclick=\"convertToInteractive('df-d9064e5b-e5b2-429a-9c94-7c7bcac316f3')\"\n",
              "            title=\"Convert this dataframe to an interactive table.\"\n",
              "            style=\"display:none;\">\n",
              "\n",
              "  <svg xmlns=\"http://www.w3.org/2000/svg\" height=\"24px\" viewBox=\"0 -960 960 960\">\n",
              "    <path d=\"M120-120v-720h720v720H120Zm60-500h600v-160H180v160Zm220 220h160v-160H400v160Zm0 220h160v-160H400v160ZM180-400h160v-160H180v160Zm440 0h160v-160H620v160ZM180-180h160v-160H180v160Zm440 0h160v-160H620v160Z\"/>\n",
              "  </svg>\n",
              "    </button>\n",
              "\n",
              "  <style>\n",
              "    .colab-df-container {\n",
              "      display:flex;\n",
              "      gap: 12px;\n",
              "    }\n",
              "\n",
              "    .colab-df-convert {\n",
              "      background-color: #E8F0FE;\n",
              "      border: none;\n",
              "      border-radius: 50%;\n",
              "      cursor: pointer;\n",
              "      display: none;\n",
              "      fill: #1967D2;\n",
              "      height: 32px;\n",
              "      padding: 0 0 0 0;\n",
              "      width: 32px;\n",
              "    }\n",
              "\n",
              "    .colab-df-convert:hover {\n",
              "      background-color: #E2EBFA;\n",
              "      box-shadow: 0px 1px 2px rgba(60, 64, 67, 0.3), 0px 1px 3px 1px rgba(60, 64, 67, 0.15);\n",
              "      fill: #174EA6;\n",
              "    }\n",
              "\n",
              "    .colab-df-buttons div {\n",
              "      margin-bottom: 4px;\n",
              "    }\n",
              "\n",
              "    [theme=dark] .colab-df-convert {\n",
              "      background-color: #3B4455;\n",
              "      fill: #D2E3FC;\n",
              "    }\n",
              "\n",
              "    [theme=dark] .colab-df-convert:hover {\n",
              "      background-color: #434B5C;\n",
              "      box-shadow: 0px 1px 3px 1px rgba(0, 0, 0, 0.15);\n",
              "      filter: drop-shadow(0px 1px 2px rgba(0, 0, 0, 0.3));\n",
              "      fill: #FFFFFF;\n",
              "    }\n",
              "  </style>\n",
              "\n",
              "    <script>\n",
              "      const buttonEl =\n",
              "        document.querySelector('#df-d9064e5b-e5b2-429a-9c94-7c7bcac316f3 button.colab-df-convert');\n",
              "      buttonEl.style.display =\n",
              "        google.colab.kernel.accessAllowed ? 'block' : 'none';\n",
              "\n",
              "      async function convertToInteractive(key) {\n",
              "        const element = document.querySelector('#df-d9064e5b-e5b2-429a-9c94-7c7bcac316f3');\n",
              "        const dataTable =\n",
              "          await google.colab.kernel.invokeFunction('convertToInteractive',\n",
              "                                                    [key], {});\n",
              "        if (!dataTable) return;\n",
              "\n",
              "        const docLinkHtml = 'Like what you see? Visit the ' +\n",
              "          '<a target=\"_blank\" href=https://colab.research.google.com/notebooks/data_table.ipynb>data table notebook</a>'\n",
              "          + ' to learn more about interactive tables.';\n",
              "        element.innerHTML = '';\n",
              "        dataTable['output_type'] = 'display_data';\n",
              "        await google.colab.output.renderOutput(dataTable, element);\n",
              "        const docLink = document.createElement('div');\n",
              "        docLink.innerHTML = docLinkHtml;\n",
              "        element.appendChild(docLink);\n",
              "      }\n",
              "    </script>\n",
              "  </div>\n",
              "\n",
              "\n",
              "<div id=\"df-a94375b9-317d-4307-bcd6-a94edfccd0f0\">\n",
              "  <button class=\"colab-df-quickchart\" onclick=\"quickchart('df-a94375b9-317d-4307-bcd6-a94edfccd0f0')\"\n",
              "            title=\"Suggest charts\"\n",
              "            style=\"display:none;\">\n",
              "\n",
              "<svg xmlns=\"http://www.w3.org/2000/svg\" height=\"24px\"viewBox=\"0 0 24 24\"\n",
              "     width=\"24px\">\n",
              "    <g>\n",
              "        <path d=\"M19 3H5c-1.1 0-2 .9-2 2v14c0 1.1.9 2 2 2h14c1.1 0 2-.9 2-2V5c0-1.1-.9-2-2-2zM9 17H7v-7h2v7zm4 0h-2V7h2v10zm4 0h-2v-4h2v4z\"/>\n",
              "    </g>\n",
              "</svg>\n",
              "  </button>\n",
              "\n",
              "<style>\n",
              "  .colab-df-quickchart {\n",
              "      --bg-color: #E8F0FE;\n",
              "      --fill-color: #1967D2;\n",
              "      --hover-bg-color: #E2EBFA;\n",
              "      --hover-fill-color: #174EA6;\n",
              "      --disabled-fill-color: #AAA;\n",
              "      --disabled-bg-color: #DDD;\n",
              "  }\n",
              "\n",
              "  [theme=dark] .colab-df-quickchart {\n",
              "      --bg-color: #3B4455;\n",
              "      --fill-color: #D2E3FC;\n",
              "      --hover-bg-color: #434B5C;\n",
              "      --hover-fill-color: #FFFFFF;\n",
              "      --disabled-bg-color: #3B4455;\n",
              "      --disabled-fill-color: #666;\n",
              "  }\n",
              "\n",
              "  .colab-df-quickchart {\n",
              "    background-color: var(--bg-color);\n",
              "    border: none;\n",
              "    border-radius: 50%;\n",
              "    cursor: pointer;\n",
              "    display: none;\n",
              "    fill: var(--fill-color);\n",
              "    height: 32px;\n",
              "    padding: 0;\n",
              "    width: 32px;\n",
              "  }\n",
              "\n",
              "  .colab-df-quickchart:hover {\n",
              "    background-color: var(--hover-bg-color);\n",
              "    box-shadow: 0 1px 2px rgba(60, 64, 67, 0.3), 0 1px 3px 1px rgba(60, 64, 67, 0.15);\n",
              "    fill: var(--button-hover-fill-color);\n",
              "  }\n",
              "\n",
              "  .colab-df-quickchart-complete:disabled,\n",
              "  .colab-df-quickchart-complete:disabled:hover {\n",
              "    background-color: var(--disabled-bg-color);\n",
              "    fill: var(--disabled-fill-color);\n",
              "    box-shadow: none;\n",
              "  }\n",
              "\n",
              "  .colab-df-spinner {\n",
              "    border: 2px solid var(--fill-color);\n",
              "    border-color: transparent;\n",
              "    border-bottom-color: var(--fill-color);\n",
              "    animation:\n",
              "      spin 1s steps(1) infinite;\n",
              "  }\n",
              "\n",
              "  @keyframes spin {\n",
              "    0% {\n",
              "      border-color: transparent;\n",
              "      border-bottom-color: var(--fill-color);\n",
              "      border-left-color: var(--fill-color);\n",
              "    }\n",
              "    20% {\n",
              "      border-color: transparent;\n",
              "      border-left-color: var(--fill-color);\n",
              "      border-top-color: var(--fill-color);\n",
              "    }\n",
              "    30% {\n",
              "      border-color: transparent;\n",
              "      border-left-color: var(--fill-color);\n",
              "      border-top-color: var(--fill-color);\n",
              "      border-right-color: var(--fill-color);\n",
              "    }\n",
              "    40% {\n",
              "      border-color: transparent;\n",
              "      border-right-color: var(--fill-color);\n",
              "      border-top-color: var(--fill-color);\n",
              "    }\n",
              "    60% {\n",
              "      border-color: transparent;\n",
              "      border-right-color: var(--fill-color);\n",
              "    }\n",
              "    80% {\n",
              "      border-color: transparent;\n",
              "      border-right-color: var(--fill-color);\n",
              "      border-bottom-color: var(--fill-color);\n",
              "    }\n",
              "    90% {\n",
              "      border-color: transparent;\n",
              "      border-bottom-color: var(--fill-color);\n",
              "    }\n",
              "  }\n",
              "</style>\n",
              "\n",
              "  <script>\n",
              "    async function quickchart(key) {\n",
              "      const quickchartButtonEl =\n",
              "        document.querySelector('#' + key + ' button');\n",
              "      quickchartButtonEl.disabled = true;  // To prevent multiple clicks.\n",
              "      quickchartButtonEl.classList.add('colab-df-spinner');\n",
              "      try {\n",
              "        const charts = await google.colab.kernel.invokeFunction(\n",
              "            'suggestCharts', [key], {});\n",
              "      } catch (error) {\n",
              "        console.error('Error during call to suggestCharts:', error);\n",
              "      }\n",
              "      quickchartButtonEl.classList.remove('colab-df-spinner');\n",
              "      quickchartButtonEl.classList.add('colab-df-quickchart-complete');\n",
              "    }\n",
              "    (() => {\n",
              "      let quickchartButtonEl =\n",
              "        document.querySelector('#df-a94375b9-317d-4307-bcd6-a94edfccd0f0 button');\n",
              "      quickchartButtonEl.style.display =\n",
              "        google.colab.kernel.accessAllowed ? 'block' : 'none';\n",
              "    })();\n",
              "  </script>\n",
              "</div>\n",
              "\n",
              "    </div>\n",
              "  </div>\n"
            ],
            "application/vnd.google.colaboratory.intrinsic+json": {
              "type": "dataframe",
              "summary": "{\n  \"name\": \")\",\n  \"rows\": 3,\n  \"fields\": [\n    {\n      \"column\": \"day_type\",\n      \"properties\": {\n        \"dtype\": \"string\",\n        \"num_unique_values\": 3,\n        \"samples\": [\n          \"Holiday\",\n          \"Weekend\",\n          \"Workday\"\n        ],\n        \"semantic_type\": \"\",\n        \"description\": \"\"\n      }\n    },\n    {\n      \"column\": \"total_peminjaman\",\n      \"properties\": {\n        \"dtype\": \"number\",\n        \"std\": 1117399,\n        \"min\": 78435,\n        \"max\": 2292410,\n        \"num_unique_values\": 3,\n        \"samples\": [\n          78435,\n          921834,\n          2292410\n        ],\n        \"semantic_type\": \"\",\n        \"description\": \"\"\n      }\n    },\n    {\n      \"column\": \"rata_rata_peminjaman\",\n      \"properties\": {\n        \"dtype\": \"number\",\n        \"std\": 445.13758291697854,\n        \"min\": 3735.0,\n        \"max\": 4584.82,\n        \"num_unique_values\": 3,\n        \"samples\": [\n          3735.0,\n          4389.685714285714,\n          4584.82\n        ],\n        \"semantic_type\": \"\",\n        \"description\": \"\"\n      }\n    },\n    {\n      \"column\": \"median_peminjaman\",\n      \"properties\": {\n        \"dtype\": \"number\",\n        \"std\": 680.0788557218934,\n        \"min\": 3351.0,\n        \"max\": 4582.0,\n        \"num_unique_values\": 3,\n        \"samples\": [\n          3351.0,\n          4467.5,\n          4582.0\n        ],\n        \"semantic_type\": \"\",\n        \"description\": \"\"\n      }\n    },\n    {\n      \"column\": \"std_peminjaman\",\n      \"properties\": {\n        \"dtype\": \"number\",\n        \"std\": 116.3528817903376,\n        \"min\": 1878.4155828260164,\n        \"max\": 2103.3506602561547,\n        \"num_unique_values\": 3,\n        \"samples\": [\n          2103.3506602561547,\n          2042.5274581993492,\n          1878.4155828260164\n        ],\n        \"semantic_type\": \"\",\n        \"description\": \"\"\n      }\n    }\n  ]\n}"
            }
          },
          "metadata": {},
          "execution_count": 97
        }
      ]
    },
    {
      "cell_type": "markdown",
      "source": [
        "Memvisualisasikan distribusi peminjaman sepeda berdasarkan jenis hari (workday, weekend, dan holiday) menggunakan boxplot."
      ],
      "metadata": {
        "id": "7B2vxVtwyMle"
      }
    },
    {
      "cell_type": "code",
      "source": [
        "plt.figure(figsize=(8, 5))\n",
        "sns.boxplot(data=day_df, x=\"day_type\", y=\"cnt\", hue=\"day_type\", palette=[\"#72BCD4\", \"#72BCD4\", \"#72BCD4\"])\n",
        "\n",
        "plt.xlabel(\"Jenis Hari (Workday, Weekend, Holiday)\")\n",
        "plt.ylabel(\"Jumlah Peminjaman Sepeda\")\n",
        "plt.title(\"Distribusi Peminjaman Sepeda Berdasarkan Jenis Hari\")\n",
        "plt.show()"
      ],
      "metadata": {
        "colab": {
          "base_uri": "https://localhost:8080/",
          "height": 487
        },
        "id": "8J0dxTH2Vwg_",
        "outputId": "dc9d2517-a2fd-4279-f9db-1366662dc434"
      },
      "execution_count": 98,
      "outputs": [
        {
          "output_type": "display_data",
          "data": {
            "text/plain": [
              "<Figure size 800x500 with 1 Axes>"
            ],
            "image/png": "[encoded data removed]"
          },
          "metadata": {}
        }
      ]
    },
    {
      "cell_type": "markdown",
      "source": [
        "**Explore hour.csv**"
      ],
      "metadata": {
        "id": "_Ae5kGhHcI_0"
      }
    },
    {
      "cell_type": "markdown",
      "source": [
        "Menampilkan ringkasan statistik dari dataset hour_df"
      ],
      "metadata": {
        "id": "vXifncyparXq"
      }
    },
    {
      "cell_type": "code",
      "source": [
        "hour_df.describe()"
      ],
      "metadata": {
        "colab": {
          "base_uri": "https://localhost:8080/",
          "height": 528
        },
        "id": "684JOYZeavcs",
        "outputId": "5f6eb1a5-e2ac-4997-e915-cbb1ad2d66a0"
      },
      "execution_count": 99,
      "outputs": [
        {
          "output_type": "execute_result",
          "data": {
            "text/plain": [
              "          instant               dteday        season            yr  \\\n",
              "count  17379.0000                  731  17379.000000  17379.000000   \n",
              "mean    8690.0000  2012-01-01 00:00:00      2.501640      0.502561   \n",
              "min        1.0000  2011-01-01 00:00:00      1.000000      0.000000   \n",
              "25%     4345.5000  2011-07-02 12:00:00      2.000000      0.000000   \n",
              "50%     8690.0000  2012-01-01 00:00:00      3.000000      1.000000   \n",
              "75%    13034.5000  2012-07-01 12:00:00      3.000000      1.000000   \n",
              "max    17379.0000  2012-12-31 00:00:00      4.000000      1.000000   \n",
              "std     5017.0295                  NaN      1.106918      0.500008   \n",
              "\n",
              "               mnth            hr       holiday       weekday    workingday  \\\n",
              "count  17379.000000  17379.000000  17379.000000  17379.000000  17379.000000   \n",
              "mean       6.537775     11.546752      0.028770      3.003683      0.682721   \n",
              "min        1.000000      0.000000      0.000000      0.000000      0.000000   \n",
              "25%        4.000000      6.000000      0.000000      1.000000      0.000000   \n",
              "50%        7.000000     12.000000      0.000000      3.000000      1.000000   \n",
              "75%       10.000000     18.000000      0.000000      5.000000      1.000000   \n",
              "max       12.000000     23.000000      1.000000      6.000000      1.000000   \n",
              "std        3.438776      6.914405      0.167165      2.005771      0.465431   \n",
              "\n",
              "         weathersit          temp         atemp           hum     windspeed  \\\n",
              "count  17379.000000  17379.000000  17379.000000  17379.000000  17379.000000   \n",
              "mean       1.425283      0.496987      0.475775      0.627229      0.190098   \n",
              "min        1.000000      0.020000      0.000000      0.000000      0.000000   \n",
              "25%        1.000000      0.340000      0.333300      0.480000      0.104500   \n",
              "50%        1.000000      0.500000      0.484800      0.630000      0.194000   \n",
              "75%        2.000000      0.660000      0.621200      0.780000      0.253700   \n",
              "max        4.000000      1.000000      1.000000      1.000000      0.850700   \n",
              "std        0.639357      0.192556      0.171850      0.192930      0.122340   \n",
              "\n",
              "             casual    registered           cnt  \n",
              "count  17379.000000  17379.000000  17379.000000  \n",
              "mean      35.676218    153.786869    189.463088  \n",
              "min        0.000000      0.000000      1.000000  \n",
              "25%        4.000000     34.000000     40.000000  \n",
              "50%       17.000000    115.000000    142.000000  \n",
              "75%       48.000000    220.000000    281.000000  \n",
              "max      367.000000    886.000000    977.000000  \n",
              "std       49.305030    151.357286    181.387599  "
            ],
            "text/html": [
              "\n",
              "  <div id=\"df-0699c2d2-7154-4bcd-a723-59059a2c4521\" class=\"colab-df-container\">\n",
              "    <div>\n",
              "<style scoped>\n",
              "    .dataframe tbody tr th:only-of-type {\n",
              "        vertical-align: middle;\n",
              "    }\n",
              "\n",
              "    .dataframe tbody tr th {\n",
              "        vertical-align: top;\n",
              "    }\n",
              "\n",
              "    .dataframe thead th {\n",
              "        text-align: right;\n",
              "    }\n",
              "</style>\n",
              "<table border=\"1\" class=\"dataframe\">\n",
              "  <thead>\n",
              "    <tr style=\"text-align: right;\">\n",
              "      <th></th>\n",
              "      <th>instant</th>\n",
              "      <th>dteday</th>\n",
              "      <th>season</th>\n",
              "      <th>yr</th>\n",
              "      <th>mnth</th>\n",
              "      <th>hr</th>\n",
              "      <th>holiday</th>\n",
              "      <th>weekday</th>\n",
              "      <th>workingday</th>\n",
              "      <th>weathersit</th>\n",
              "      <th>temp</th>\n",
              "      <th>atemp</th>\n",
              "      <th>hum</th>\n",
              "      <th>windspeed</th>\n",
              "      <th>casual</th>\n",
              "      <th>registered</th>\n",
              "      <th>cnt</th>\n",
              "    </tr>\n",
              "  </thead>\n",
              "  <tbody>\n",
              "    <tr>\n",
              "      <th>count</th>\n",
              "      <td>17379.0000</td>\n",
              "      <td>731</td>\n",
              "      <td>17379.000000</td>\n",
              "      <td>17379.000000</td>\n",
              "      <td>17379.000000</td>\n",
              "      <td>17379.000000</td>\n",
              "      <td>17379.000000</td>\n",
              "      <td>17379.000000</td>\n",
              "      <td>17379.000000</td>\n",
              "      <td>17379.000000</td>\n",
              "      <td>17379.000000</td>\n",
              "      <td>17379.000000</td>\n",
              "      <td>17379.000000</td>\n",
              "      <td>17379.000000</td>\n",
              "      <td>17379.000000</td>\n",
              "      <td>17379.000000</td>\n",
              "      <td>17379.000000</td>\n",
              "    </tr>\n",
              "    <tr>\n",
              "      <th>mean</th>\n",
              "      <td>8690.0000</td>\n",
              "      <td>2012-01-01 00:00:00</td>\n",
              "      <td>2.501640</td>\n",
              "      <td>0.502561</td>\n",
              "      <td>6.537775</td>\n",
              "      <td>11.546752</td>\n",
              "      <td>0.028770</td>\n",
              "      <td>3.003683</td>\n",
              "      <td>0.682721</td>\n",
              "      <td>1.425283</td>\n",
              "      <td>0.496987</td>\n",
              "      <td>0.475775</td>\n",
              "      <td>0.627229</td>\n",
              "      <td>0.190098</td>\n",
              "      <td>35.676218</td>\n",
              "      <td>153.786869</td>\n",
              "      <td>189.463088</td>\n",
              "    </tr>\n",
              "    <tr>\n",
              "      <th>min</th>\n",
              "      <td>1.0000</td>\n",
              "      <td>2011-01-01 00:00:00</td>\n",
              "      <td>1.000000</td>\n",
              "      <td>0.000000</td>\n",
              "      <td>1.000000</td>\n",
              "      <td>0.000000</td>\n",
              "      <td>0.000000</td>\n",
              "      <td>0.000000</td>\n",
              "      <td>0.000000</td>\n",
              "      <td>1.000000</td>\n",
              "      <td>0.020000</td>\n",
              "      <td>0.000000</td>\n",
              "      <td>0.000000</td>\n",
              "      <td>0.000000</td>\n",
              "      <td>0.000000</td>\n",
              "      <td>0.000000</td>\n",
              "      <td>1.000000</td>\n",
              "    </tr>\n",
              "    <tr>\n",
              "      <th>25%</th>\n",
              "      <td>4345.5000</td>\n",
              "      <td>2011-07-02 12:00:00</td>\n",
              "      <td>2.000000</td>\n",
              "      <td>0.000000</td>\n",
              "      <td>4.000000</td>\n",
              "      <td>6.000000</td>\n",
              "      <td>0.000000</td>\n",
              "      <td>1.000000</td>\n",
              "      <td>0.000000</td>\n",
              "      <td>1.000000</td>\n",
              "      <td>0.340000</td>\n",
              "      <td>0.333300</td>\n",
              "      <td>0.480000</td>\n",
              "      <td>0.104500</td>\n",
              "      <td>4.000000</td>\n",
              "      <td>34.000000</td>\n",
              "      <td>40.000000</td>\n",
              "    </tr>\n",
              "    <tr>\n",
              "      <th>50%</th>\n",
              "      <td>8690.0000</td>\n",
              "      <td>2012-01-01 00:00:00</td>\n",
              "      <td>3.000000</td>\n",
              "      <td>1.000000</td>\n",
              "      <td>7.000000</td>\n",
              "      <td>12.000000</td>\n",
              "      <td>0.000000</td>\n",
              "      <td>3.000000</td>\n",
              "      <td>1.000000</td>\n",
              "      <td>1.000000</td>\n",
              "      <td>0.500000</td>\n",
              "      <td>0.484800</td>\n",
              "      <td>0.630000</td>\n",
              "      <td>0.194000</td>\n",
              "      <td>17.000000</td>\n",
              "      <td>115.000000</td>\n",
              "      <td>142.000000</td>\n",
              "    </tr>\n",
              "    <tr>\n",
              "      <th>75%</th>\n",
              "      <td>13034.5000</td>\n",
              "      <td>2012-07-01 12:00:00</td>\n",
              "      <td>3.000000</td>\n",
              "      <td>1.000000</td>\n",
              "      <td>10.000000</td>\n",
              "      <td>18.000000</td>\n",
              "      <td>0.000000</td>\n",
              "      <td>5.000000</td>\n",
              "      <td>1.000000</td>\n",
              "      <td>2.000000</td>\n",
              "      <td>0.660000</td>\n",
              "      <td>0.621200</td>\n",
              "      <td>0.780000</td>\n",
              "      <td>0.253700</td>\n",
              "      <td>48.000000</td>\n",
              "      <td>220.000000</td>\n",
              "      <td>281.000000</td>\n",
              "    </tr>\n",
              "    <tr>\n",
              "      <th>max</th>\n",
              "      <td>17379.0000</td>\n",
              "      <td>2012-12-31 00:00:00</td>\n",
              "      <td>4.000000</td>\n",
              "      <td>1.000000</td>\n",
              "      <td>12.000000</td>\n",
              "      <td>23.000000</td>\n",
              "      <td>1.000000</td>\n",
              "      <td>6.000000</td>\n",
              "      <td>1.000000</td>\n",
              "      <td>4.000000</td>\n",
              "      <td>1.000000</td>\n",
              "      <td>1.000000</td>\n",
              "      <td>1.000000</td>\n",
              "      <td>0.850700</td>\n",
              "      <td>367.000000</td>\n",
              "      <td>886.000000</td>\n",
              "      <td>977.000000</td>\n",
              "    </tr>\n",
              "    <tr>\n",
              "      <th>std</th>\n",
              "      <td>5017.0295</td>\n",
              "      <td>NaN</td>\n",
              "      <td>1.106918</td>\n",
              "      <td>0.500008</td>\n",
              "      <td>3.438776</td>\n",
              "      <td>6.914405</td>\n",
              "      <td>0.167165</td>\n",
              "      <td>2.005771</td>\n",
              "      <td>0.465431</td>\n",
              "      <td>0.639357</td>\n",
              "      <td>0.192556</td>\n",
              "      <td>0.171850</td>\n",
              "      <td>0.192930</td>\n",
              "      <td>0.122340</td>\n",
              "      <td>49.305030</td>\n",
              "      <td>151.357286</td>\n",
              "      <td>181.387599</td>\n",
              "    </tr>\n",
              "  </tbody>\n",
              "</table>\n",
              "</div>\n",
              "    <div class=\"colab-df-buttons\">\n",
              "\n",
              "  <div class=\"colab-df-container\">\n",
              "    <button class=\"colab-df-convert\" onclick=\"convertToInteractive('df-0699c2d2-7154-4bcd-a723-59059a2c4521')\"\n",
              "            title=\"Convert this dataframe to an interactive table.\"\n",
              "            style=\"display:none;\">\n",
              "\n",
              "  <svg xmlns=\"http://www.w3.org/2000/svg\" height=\"24px\" viewBox=\"0 -960 960 960\">\n",
              "    <path d=\"M120-120v-720h720v720H120Zm60-500h600v-160H180v160Zm220 220h160v-160H400v160Zm0 220h160v-160H400v160ZM180-400h160v-160H180v160Zm440 0h160v-160H620v160ZM180-180h160v-160H180v160Zm440 0h160v-160H620v160Z\"/>\n",
              "  </svg>\n",
              "    </button>\n",
              "\n",
              "  <style>\n",
              "    .colab-df-container {\n",
              "      display:flex;\n",
              "      gap: 12px;\n",
              "    }\n",
              "\n",
              "    .colab-df-convert {\n",
              "      background-color: #E8F0FE;\n",
              "      border: none;\n",
              "      border-radius: 50%;\n",
              "      cursor: pointer;\n",
              "      display: none;\n",
              "      fill: #1967D2;\n",
              "      height: 32px;\n",
              "      padding: 0 0 0 0;\n",
              "      width: 32px;\n",
              "    }\n",
              "\n",
              "    .colab-df-convert:hover {\n",
              "      background-color: #E2EBFA;\n",
              "      box-shadow: 0px 1px 2px rgba(60, 64, 67, 0.3), 0px 1px 3px 1px rgba(60, 64, 67, 0.15);\n",
              "      fill: #174EA6;\n",
              "    }\n",
              "\n",
              "    .colab-df-buttons div {\n",
              "      margin-bottom: 4px;\n",
              "    }\n",
              "\n",
              "    [theme=dark] .colab-df-convert {\n",
              "      background-color: #3B4455;\n",
              "      fill: #D2E3FC;\n",
              "    }\n",
              "\n",
              "    [theme=dark] .colab-df-convert:hover {\n",
              "      background-color: #434B5C;\n",
              "      box-shadow: 0px 1px 3px 1px rgba(0, 0, 0, 0.15);\n",
              "      filter: drop-shadow(0px 1px 2px rgba(0, 0, 0, 0.3));\n",
              "      fill: #FFFFFF;\n",
              "    }\n",
              "  </style>\n",
              "\n",
              "    <script>\n",
              "      const buttonEl =\n",
              "        document.querySelector('#df-0699c2d2-7154-4bcd-a723-59059a2c4521 button.colab-df-convert');\n",
              "      buttonEl.style.display =\n",
              "        google.colab.kernel.accessAllowed ? 'block' : 'none';\n",
              "\n",
              "      async function convertToInteractive(key) {\n",
              "        const element = document.querySelector('#df-0699c2d2-7154-4bcd-a723-59059a2c4521');\n",
              "        const dataTable =\n",
              "          await google.colab.kernel.invokeFunction('convertToInteractive',\n",
              "                                                    [key], {});\n",
              "        if (!dataTable) return;\n",
              "\n",
              "        const docLinkHtml = 'Like what you see? Visit the ' +\n",
              "          '<a target=\"_blank\" href=https://colab.research.google.com/notebooks/data_table.ipynb>data table notebook</a>'\n",
              "          + ' to learn more about interactive tables.';\n",
              "        element.innerHTML = '';\n",
              "        dataTable['output_type'] = 'display_data';\n",
              "        await google.colab.output.renderOutput(dataTable, element);\n",
              "        const docLink = document.createElement('div');\n",
              "        docLink.innerHTML = docLinkHtml;\n",
              "        element.appendChild(docLink);\n",
              "      }\n",
              "    </script>\n",
              "  </div>\n",
              "\n",
              "\n",
              "<div id=\"df-f79b488b-20f9-4fc0-b7a5-a7c9ed88ffcd\">\n",
              "  <button class=\"colab-df-quickchart\" onclick=\"quickchart('df-f79b488b-20f9-4fc0-b7a5-a7c9ed88ffcd')\"\n",
              "            title=\"Suggest charts\"\n",
              "            style=\"display:none;\">\n",
              "\n",
              "<svg xmlns=\"http://www.w3.org/2000/svg\" height=\"24px\"viewBox=\"0 0 24 24\"\n",
              "     width=\"24px\">\n",
              "    <g>\n",
              "        <path d=\"M19 3H5c-1.1 0-2 .9-2 2v14c0 1.1.9 2 2 2h14c1.1 0 2-.9 2-2V5c0-1.1-.9-2-2-2zM9 17H7v-7h2v7zm4 0h-2V7h2v10zm4 0h-2v-4h2v4z\"/>\n",
              "    </g>\n",
              "</svg>\n",
              "  </button>\n",
              "\n",
              "<style>\n",
              "  .colab-df-quickchart {\n",
              "      --bg-color: #E8F0FE;\n",
              "      --fill-color: #1967D2;\n",
              "      --hover-bg-color: #E2EBFA;\n",
              "      --hover-fill-color: #174EA6;\n",
              "      --disabled-fill-color: #AAA;\n",
              "      --disabled-bg-color: #DDD;\n",
              "  }\n",
              "\n",
              "  [theme=dark] .colab-df-quickchart {\n",
              "      --bg-color: #3B4455;\n",
              "      --fill-color: #D2E3FC;\n",
              "      --hover-bg-color: #434B5C;\n",
              "      --hover-fill-color: #FFFFFF;\n",
              "      --disabled-bg-color: #3B4455;\n",
              "      --disabled-fill-color: #666;\n",
              "  }\n",
              "\n",
              "  .colab-df-quickchart {\n",
              "    background-color: var(--bg-color);\n",
              "    border: none;\n",
              "    border-radius: 50%;\n",
              "    cursor: pointer;\n",
              "    display: none;\n",
              "    fill: var(--fill-color);\n",
              "    height: 32px;\n",
              "    padding: 0;\n",
              "    width: 32px;\n",
              "  }\n",
              "\n",
              "  .colab-df-quickchart:hover {\n",
              "    background-color: var(--hover-bg-color);\n",
              "    box-shadow: 0 1px 2px rgba(60, 64, 67, 0.3), 0 1px 3px 1px rgba(60, 64, 67, 0.15);\n",
              "    fill: var(--button-hover-fill-color);\n",
              "  }\n",
              "\n",
              "  .colab-df-quickchart-complete:disabled,\n",
              "  .colab-df-quickchart-complete:disabled:hover {\n",
              "    background-color: var(--disabled-bg-color);\n",
              "    fill: var(--disabled-fill-color);\n",
              "    box-shadow: none;\n",
              "  }\n",
              "\n",
              "  .colab-df-spinner {\n",
              "    border: 2px solid var(--fill-color);\n",
              "    border-color: transparent;\n",
              "    border-bottom-color: var(--fill-color);\n",
              "    animation:\n",
              "      spin 1s steps(1) infinite;\n",
              "  }\n",
              "\n",
              "  @keyframes spin {\n",
              "    0% {\n",
              "      border-color: transparent;\n",
              "      border-bottom-color: var(--fill-color);\n",
              "      border-left-color: var(--fill-color);\n",
              "    }\n",
              "    20% {\n",
              "      border-color: transparent;\n",
              "      border-left-color: var(--fill-color);\n",
              "      border-top-color: var(--fill-color);\n",
              "    }\n",
              "    30% {\n",
              "      border-color: transparent;\n",
              "      border-left-color: var(--fill-color);\n",
              "      border-top-color: var(--fill-color);\n",
              "      border-right-color: var(--fill-color);\n",
              "    }\n",
              "    40% {\n",
              "      border-color: transparent;\n",
              "      border-right-color: var(--fill-color);\n",
              "      border-top-color: var(--fill-color);\n",
              "    }\n",
              "    60% {\n",
              "      border-color: transparent;\n",
              "      border-right-color: var(--fill-color);\n",
              "    }\n",
              "    80% {\n",
              "      border-color: transparent;\n",
              "      border-right-color: var(--fill-color);\n",
              "      border-bottom-color: var(--fill-color);\n",
              "    }\n",
              "    90% {\n",
              "      border-color: transparent;\n",
              "      border-bottom-color: var(--fill-color);\n",
              "    }\n",
              "  }\n",
              "</style>\n",
              "\n",
              "  <script>\n",
              "    async function quickchart(key) {\n",
              "      const quickchartButtonEl =\n",
              "        document.querySelector('#' + key + ' button');\n",
              "      quickchartButtonEl.disabled = true;  // To prevent multiple clicks.\n",
              "      quickchartButtonEl.classList.add('colab-df-spinner');\n",
              "      try {\n",
              "        const charts = await google.colab.kernel.invokeFunction(\n",
              "            'suggestCharts', [key], {});\n",
              "      } catch (error) {\n",
              "        console.error('Error during call to suggestCharts:', error);\n",
              "      }\n",
              "      quickchartButtonEl.classList.remove('colab-df-spinner');\n",
              "      quickchartButtonEl.classList.add('colab-df-quickchart-complete');\n",
              "    }\n",
              "    (() => {\n",
              "      let quickchartButtonEl =\n",
              "        document.querySelector('#df-f79b488b-20f9-4fc0-b7a5-a7c9ed88ffcd button');\n",
              "      quickchartButtonEl.style.display =\n",
              "        google.colab.kernel.accessAllowed ? 'block' : 'none';\n",
              "    })();\n",
              "  </script>\n",
              "</div>\n",
              "\n",
              "    </div>\n",
              "  </div>\n"
            ],
            "application/vnd.google.colaboratory.intrinsic+json": {
              "type": "dataframe",
              "summary": "{\n  \"name\": \"hour_df\",\n  \"rows\": 8,\n  \"fields\": [\n    {\n      \"column\": \"instant\",\n      \"properties\": {\n        \"dtype\": \"number\",\n        \"std\": 6263.17088569678,\n        \"min\": 1.0,\n        \"max\": 17379.0,\n        \"num_unique_values\": 6,\n        \"samples\": [\n          17379.0,\n          8690.0,\n          5017.029499614288\n        ],\n        \"semantic_type\": \"\",\n        \"description\": \"\"\n      }\n    },\n    {\n      \"column\": \"dteday\",\n      \"properties\": {\n        \"dtype\": \"date\",\n        \"min\": \"1970-01-01 00:00:00.000000731\",\n        \"max\": \"2012-12-31 00:00:00\",\n        \"num_unique_values\": 6,\n        \"samples\": [\n          \"731\",\n          \"2012-01-01 00:00:00\",\n          \"2012-12-31 00:00:00\"\n        ],\n        \"semantic_type\": \"\",\n        \"description\": \"\"\n      }\n    },\n    {\n      \"column\": \"season\",\n      \"properties\": {\n        \"dtype\": \"number\",\n        \"std\": 6143.565598544762,\n        \"min\": 1.0,\n        \"max\": 17379.0,\n        \"num_unique_values\": 7,\n        \"samples\": [\n          17379.0,\n          2.5016399102364923,\n          4.0\n        ],\n        \"semantic_type\": \"\",\n        \"description\": \"\"\n      }\n    },\n    {\n      \"column\": \"yr\",\n      \"properties\": {\n        \"dtype\": \"number\",\n        \"std\": 6144.202229000585,\n        \"min\": 0.0,\n        \"max\": 17379.0,\n        \"num_unique_values\": 5,\n        \"samples\": [\n          0.5025605615973301,\n          0.5000078290910674,\n          0.0\n        ],\n        \"semantic_type\": \"\",\n        \"description\": \"\"\n      }\n    },\n    {\n      \"column\": \"mnth\",\n      \"properties\": {\n        \"dtype\": \"number\",\n        \"std\": 6142.184250617928,\n        \"min\": 1.0,\n        \"max\": 17379.0,\n        \"num_unique_values\": 8,\n        \"samples\": [\n          6.537775476149376,\n          10.0,\n          17379.0\n        ],\n        \"semantic_type\": \"\",\n        \"description\": \"\"\n      }\n    },\n    {\n      \"column\": \"hr\",\n      \"properties\": {\n        \"dtype\": \"number\",\n        \"std\": 6140.496148184536,\n        \"min\": 0.0,\n        \"max\": 17379.0,\n        \"num_unique_values\": 8,\n        \"samples\": [\n          11.546751826917545,\n          18.0,\n          17379.0\n        ],\n        \"semantic_type\": \"\",\n        \"description\": \"\"\n      }\n    },\n    {\n      \"column\": \"holiday\",\n      \"properties\": {\n        \"dtype\": \"number\",\n        \"std\": 6144.34398083374,\n        \"min\": 0.0,\n        \"max\": 17379.0,\n        \"num_unique_values\": 5,\n        \"samples\": [\n          0.028770355026181024,\n          0.16716527638435244,\n          0.0\n        ],\n        \"semantic_type\": \"\",\n        \"description\": \"\"\n      }\n    },\n    {\n      \"column\": \"weekday\",\n      \"properties\": {\n        \"dtype\": \"number\",\n        \"std\": 6143.394057236404,\n        \"min\": 0.0,\n        \"max\": 17379.0,\n        \"num_unique_values\": 8,\n        \"samples\": [\n          3.003682605443351,\n          5.0,\n          17379.0\n        ],\n        \"semantic_type\": \"\",\n        \"description\": \"\"\n      }\n    },\n    {\n      \"column\": \"workingday\",\n      \"properties\": {\n        \"dtype\": \"number\",\n        \"std\": 6144.194876084176,\n        \"min\": 0.0,\n        \"max\": 17379.0,\n        \"num_unique_values\": 5,\n        \"samples\": [\n          0.6827205247712756,\n          0.46543063352387354,\n          0.0\n        ],\n        \"semantic_type\": \"\",\n        \"description\": \"\"\n      }\n    },\n    {\n      \"column\": \"weathersit\",\n      \"properties\": {\n        \"dtype\": \"number\",\n        \"std\": 6143.845618830189,\n        \"min\": 0.6393568777543036,\n        \"max\": 17379.0,\n        \"num_unique_values\": 6,\n        \"samples\": [\n          17379.0,\n          1.425283387997008,\n          0.6393568777543036\n        ],\n        \"semantic_type\": \"\",\n        \"description\": \"\"\n      }\n    },\n    {\n      \"column\": \"temp\",\n      \"properties\": {\n        \"dtype\": \"number\",\n        \"std\": 6144.242275843299,\n        \"min\": 0.02,\n        \"max\": 17379.0,\n        \"num_unique_values\": 8,\n        \"samples\": [\n          0.4969871684216583,\n          0.66,\n          17379.0\n        ],\n        \"semantic_type\": \"\",\n        \"description\": \"\"\n      }\n    },\n    {\n      \"column\": \"atemp\",\n      \"properties\": {\n        \"dtype\": \"number\",\n        \"std\": 6144.248469131704,\n        \"min\": 0.0,\n        \"max\": 17379.0,\n        \"num_unique_values\": 8,\n        \"samples\": [\n          0.4757751021347604,\n          0.6212,\n          17379.0\n        ],\n        \"semantic_type\": \"\",\n        \"description\": \"\"\n      }\n    },\n    {\n      \"column\": \"hum\",\n      \"properties\": {\n        \"dtype\": \"number\",\n        \"std\": 6144.216991945488,\n        \"min\": 0.0,\n        \"max\": 17379.0,\n        \"num_unique_values\": 8,\n        \"samples\": [\n          0.6272288394038783,\n          0.78,\n          17379.0\n        ],\n        \"semantic_type\": \"\",\n        \"description\": \"\"\n      }\n    },\n    {\n      \"column\": \"windspeed\",\n      \"properties\": {\n        \"dtype\": \"number\",\n        \"std\": 6144.317742909861,\n        \"min\": 0.0,\n        \"max\": 17379.0,\n        \"num_unique_values\": 8,\n        \"samples\": [\n          0.1900976063064618,\n          0.2537,\n          17379.0\n        ],\n        \"semantic_type\": \"\",\n        \"description\": \"\"\n      }\n    },\n    {\n      \"column\": \"casual\",\n      \"properties\": {\n        \"dtype\": \"number\",\n        \"std\": 6119.284233238239,\n        \"min\": 0.0,\n        \"max\": 17379.0,\n        \"num_unique_values\": 8,\n        \"samples\": [\n          35.67621842453536,\n          48.0,\n          17379.0\n        ],\n        \"semantic_type\": \"\",\n        \"description\": \"\"\n      }\n    },\n    {\n      \"column\": \"registered\",\n      \"properties\": {\n        \"dtype\": \"number\",\n        \"std\": 6072.038722856437,\n        \"min\": 0.0,\n        \"max\": 17379.0,\n        \"num_unique_values\": 8,\n        \"samples\": [\n          153.78686920996606,\n          220.0,\n          17379.0\n        ],\n        \"semantic_type\": \"\",\n        \"description\": \"\"\n      }\n    },\n    {\n      \"column\": \"cnt\",\n      \"properties\": {\n        \"dtype\": \"number\",\n        \"std\": 6060.617601280442,\n        \"min\": 1.0,\n        \"max\": 17379.0,\n        \"num_unique_values\": 8,\n        \"samples\": [\n          189.46308763450142,\n          281.0,\n          17379.0\n        ],\n        \"semantic_type\": \"\",\n        \"description\": \"\"\n      }\n    }\n  ]\n}"
            }
          },
          "metadata": {},
          "execution_count": 99
        }
      ]
    },
    {
      "cell_type": "markdown",
      "source": [
        "Menampilkan ringkasan statistik dari dataset hour_df kolom hr"
      ],
      "metadata": {
        "id": "xxJGYbAYayJT"
      }
    },
    {
      "cell_type": "code",
      "source": [
        "hour_df[[\"hr\"]].describe()"
      ],
      "metadata": {
        "colab": {
          "base_uri": "https://localhost:8080/",
          "height": 300
        },
        "id": "fHgvfBc4aynO",
        "outputId": "24ab3753-9f7f-4a65-992f-f359ea2af41c"
      },
      "execution_count": 100,
      "outputs": [
        {
          "output_type": "execute_result",
          "data": {
            "text/plain": [
              "                 hr\n",
              "count  17379.000000\n",
              "mean      11.546752\n",
              "std        6.914405\n",
              "min        0.000000\n",
              "25%        6.000000\n",
              "50%       12.000000\n",
              "75%       18.000000\n",
              "max       23.000000"
            ],
            "text/html": [
              "\n",
              "  <div id=\"df-c57c6685-206e-4611-9dc9-c18dc9f3f561\" class=\"colab-df-container\">\n",
              "    <div>\n",
              "<style scoped>\n",
              "    .dataframe tbody tr th:only-of-type {\n",
              "        vertical-align: middle;\n",
              "    }\n",
              "\n",
              "    .dataframe tbody tr th {\n",
              "        vertical-align: top;\n",
              "    }\n",
              "\n",
              "    .dataframe thead th {\n",
              "        text-align: right;\n",
              "    }\n",
              "</style>\n",
              "<table border=\"1\" class=\"dataframe\">\n",
              "  <thead>\n",
              "    <tr style=\"text-align: right;\">\n",
              "      <th></th>\n",
              "      <th>hr</th>\n",
              "    </tr>\n",
              "  </thead>\n",
              "  <tbody>\n",
              "    <tr>\n",
              "      <th>count</th>\n",
              "      <td>17379.000000</td>\n",
              "    </tr>\n",
              "    <tr>\n",
              "      <th>mean</th>\n",
              "      <td>11.546752</td>\n",
              "    </tr>\n",
              "    <tr>\n",
              "      <th>std</th>\n",
              "      <td>6.914405</td>\n",
              "    </tr>\n",
              "    <tr>\n",
              "      <th>min</th>\n",
              "      <td>0.000000</td>\n",
              "    </tr>\n",
              "    <tr>\n",
              "      <th>25%</th>\n",
              "      <td>6.000000</td>\n",
              "    </tr>\n",
              "    <tr>\n",
              "      <th>50%</th>\n",
              "      <td>12.000000</td>\n",
              "    </tr>\n",
              "    <tr>\n",
              "      <th>75%</th>\n",
              "      <td>18.000000</td>\n",
              "    </tr>\n",
              "    <tr>\n",
              "      <th>max</th>\n",
              "      <td>23.000000</td>\n",
              "    </tr>\n",
              "  </tbody>\n",
              "</table>\n",
              "</div>\n",
              "    <div class=\"colab-df-buttons\">\n",
              "\n",
              "  <div class=\"colab-df-container\">\n",
              "    <button class=\"colab-df-convert\" onclick=\"convertToInteractive('df-c57c6685-206e-4611-9dc9-c18dc9f3f561')\"\n",
              "            title=\"Convert this dataframe to an interactive table.\"\n",
              "            style=\"display:none;\">\n",
              "\n",
              "  <svg xmlns=\"http://www.w3.org/2000/svg\" height=\"24px\" viewBox=\"0 -960 960 960\">\n",
              "    <path d=\"M120-120v-720h720v720H120Zm60-500h600v-160H180v160Zm220 220h160v-160H400v160Zm0 220h160v-160H400v160ZM180-400h160v-160H180v160Zm440 0h160v-160H620v160ZM180-180h160v-160H180v160Zm440 0h160v-160H620v160Z\"/>\n",
              "  </svg>\n",
              "    </button>\n",
              "\n",
              "  <style>\n",
              "    .colab-df-container {\n",
              "      display:flex;\n",
              "      gap: 12px;\n",
              "    }\n",
              "\n",
              "    .colab-df-convert {\n",
              "      background-color: #E8F0FE;\n",
              "      border: none;\n",
              "      border-radius: 50%;\n",
              "      cursor: pointer;\n",
              "      display: none;\n",
              "      fill: #1967D2;\n",
              "      height: 32px;\n",
              "      padding: 0 0 0 0;\n",
              "      width: 32px;\n",
              "    }\n",
              "\n",
              "    .colab-df-convert:hover {\n",
              "      background-color: #E2EBFA;\n",
              "      box-shadow: 0px 1px 2px rgba(60, 64, 67, 0.3), 0px 1px 3px 1px rgba(60, 64, 67, 0.15);\n",
              "      fill: #174EA6;\n",
              "    }\n",
              "\n",
              "    .colab-df-buttons div {\n",
              "      margin-bottom: 4px;\n",
              "    }\n",
              "\n",
              "    [theme=dark] .colab-df-convert {\n",
              "      background-color: #3B4455;\n",
              "      fill: #D2E3FC;\n",
              "    }\n",
              "\n",
              "    [theme=dark] .colab-df-convert:hover {\n",
              "      background-color: #434B5C;\n",
              "      box-shadow: 0px 1px 3px 1px rgba(0, 0, 0, 0.15);\n",
              "      filter: drop-shadow(0px 1px 2px rgba(0, 0, 0, 0.3));\n",
              "      fill: #FFFFFF;\n",
              "    }\n",
              "  </style>\n",
              "\n",
              "    <script>\n",
              "      const buttonEl =\n",
              "        document.querySelector('#df-c57c6685-206e-4611-9dc9-c18dc9f3f561 button.colab-df-convert');\n",
              "      buttonEl.style.display =\n",
              "        google.colab.kernel.accessAllowed ? 'block' : 'none';\n",
              "\n",
              "      async function convertToInteractive(key) {\n",
              "        const element = document.querySelector('#df-c57c6685-206e-4611-9dc9-c18dc9f3f561');\n",
              "        const dataTable =\n",
              "          await google.colab.kernel.invokeFunction('convertToInteractive',\n",
              "                                                    [key], {});\n",
              "        if (!dataTable) return;\n",
              "\n",
              "        const docLinkHtml = 'Like what you see? Visit the ' +\n",
              "          '<a target=\"_blank\" href=https://colab.research.google.com/notebooks/data_table.ipynb>data table notebook</a>'\n",
              "          + ' to learn more about interactive tables.';\n",
              "        element.innerHTML = '';\n",
              "        dataTable['output_type'] = 'display_data';\n",
              "        await google.colab.output.renderOutput(dataTable, element);\n",
              "        const docLink = document.createElement('div');\n",
              "        docLink.innerHTML = docLinkHtml;\n",
              "        element.appendChild(docLink);\n",
              "      }\n",
              "    </script>\n",
              "  </div>\n",
              "\n",
              "\n",
              "<div id=\"df-0b2f747b-6917-4808-a5f7-5b3436e5dc42\">\n",
              "  <button class=\"colab-df-quickchart\" onclick=\"quickchart('df-0b2f747b-6917-4808-a5f7-5b3436e5dc42')\"\n",
              "            title=\"Suggest charts\"\n",
              "            style=\"display:none;\">\n",
              "\n",
              "<svg xmlns=\"http://www.w3.org/2000/svg\" height=\"24px\"viewBox=\"0 0 24 24\"\n",
              "     width=\"24px\">\n",
              "    <g>\n",
              "        <path d=\"M19 3H5c-1.1 0-2 .9-2 2v14c0 1.1.9 2 2 2h14c1.1 0 2-.9 2-2V5c0-1.1-.9-2-2-2zM9 17H7v-7h2v7zm4 0h-2V7h2v10zm4 0h-2v-4h2v4z\"/>\n",
              "    </g>\n",
              "</svg>\n",
              "  </button>\n",
              "\n",
              "<style>\n",
              "  .colab-df-quickchart {\n",
              "      --bg-color: #E8F0FE;\n",
              "      --fill-color: #1967D2;\n",
              "      --hover-bg-color: #E2EBFA;\n",
              "      --hover-fill-color: #174EA6;\n",
              "      --disabled-fill-color: #AAA;\n",
              "      --disabled-bg-color: #DDD;\n",
              "  }\n",
              "\n",
              "  [theme=dark] .colab-df-quickchart {\n",
              "      --bg-color: #3B4455;\n",
              "      --fill-color: #D2E3FC;\n",
              "      --hover-bg-color: #434B5C;\n",
              "      --hover-fill-color: #FFFFFF;\n",
              "      --disabled-bg-color: #3B4455;\n",
              "      --disabled-fill-color: #666;\n",
              "  }\n",
              "\n",
              "  .colab-df-quickchart {\n",
              "    background-color: var(--bg-color);\n",
              "    border: none;\n",
              "    border-radius: 50%;\n",
              "    cursor: pointer;\n",
              "    display: none;\n",
              "    fill: var(--fill-color);\n",
              "    height: 32px;\n",
              "    padding: 0;\n",
              "    width: 32px;\n",
              "  }\n",
              "\n",
              "  .colab-df-quickchart:hover {\n",
              "    background-color: var(--hover-bg-color);\n",
              "    box-shadow: 0 1px 2px rgba(60, 64, 67, 0.3), 0 1px 3px 1px rgba(60, 64, 67, 0.15);\n",
              "    fill: var(--button-hover-fill-color);\n",
              "  }\n",
              "\n",
              "  .colab-df-quickchart-complete:disabled,\n",
              "  .colab-df-quickchart-complete:disabled:hover {\n",
              "    background-color: var(--disabled-bg-color);\n",
              "    fill: var(--disabled-fill-color);\n",
              "    box-shadow: none;\n",
              "  }\n",
              "\n",
              "  .colab-df-spinner {\n",
              "    border: 2px solid var(--fill-color);\n",
              "    border-color: transparent;\n",
              "    border-bottom-color: var(--fill-color);\n",
              "    animation:\n",
              "      spin 1s steps(1) infinite;\n",
              "  }\n",
              "\n",
              "  @keyframes spin {\n",
              "    0% {\n",
              "      border-color: transparent;\n",
              "      border-bottom-color: var(--fill-color);\n",
              "      border-left-color: var(--fill-color);\n",
              "    }\n",
              "    20% {\n",
              "      border-color: transparent;\n",
              "      border-left-color: var(--fill-color);\n",
              "      border-top-color: var(--fill-color);\n",
              "    }\n",
              "    30% {\n",
              "      border-color: transparent;\n",
              "      border-left-color: var(--fill-color);\n",
              "      border-top-color: var(--fill-color);\n",
              "      border-right-color: var(--fill-color);\n",
              "    }\n",
              "    40% {\n",
              "      border-color: transparent;\n",
              "      border-right-color: var(--fill-color);\n",
              "      border-top-color: var(--fill-color);\n",
              "    }\n",
              "    60% {\n",
              "      border-color: transparent;\n",
              "      border-right-color: var(--fill-color);\n",
              "    }\n",
              "    80% {\n",
              "      border-color: transparent;\n",
              "      border-right-color: var(--fill-color);\n",
              "      border-bottom-color: var(--fill-color);\n",
              "    }\n",
              "    90% {\n",
              "      border-color: transparent;\n",
              "      border-bottom-color: var(--fill-color);\n",
              "    }\n",
              "  }\n",
              "</style>\n",
              "\n",
              "  <script>\n",
              "    async function quickchart(key) {\n",
              "      const quickchartButtonEl =\n",
              "        document.querySelector('#' + key + ' button');\n",
              "      quickchartButtonEl.disabled = true;  // To prevent multiple clicks.\n",
              "      quickchartButtonEl.classList.add('colab-df-spinner');\n",
              "      try {\n",
              "        const charts = await google.colab.kernel.invokeFunction(\n",
              "            'suggestCharts', [key], {});\n",
              "      } catch (error) {\n",
              "        console.error('Error during call to suggestCharts:', error);\n",
              "      }\n",
              "      quickchartButtonEl.classList.remove('colab-df-spinner');\n",
              "      quickchartButtonEl.classList.add('colab-df-quickchart-complete');\n",
              "    }\n",
              "    (() => {\n",
              "      let quickchartButtonEl =\n",
              "        document.querySelector('#df-0b2f747b-6917-4808-a5f7-5b3436e5dc42 button');\n",
              "      quickchartButtonEl.style.display =\n",
              "        google.colab.kernel.accessAllowed ? 'block' : 'none';\n",
              "    })();\n",
              "  </script>\n",
              "</div>\n",
              "\n",
              "    </div>\n",
              "  </div>\n"
            ],
            "application/vnd.google.colaboratory.intrinsic+json": {
              "type": "dataframe",
              "summary": "{\n  \"name\": \"hour_df[[\\\"hr\\\"]]\",\n  \"rows\": 8,\n  \"fields\": [\n    {\n      \"column\": \"hr\",\n      \"properties\": {\n        \"dtype\": \"number\",\n        \"std\": 6140.496148184536,\n        \"min\": 0.0,\n        \"max\": 17379.0,\n        \"num_unique_values\": 8,\n        \"samples\": [\n          11.546751826917545,\n          12.0,\n          17379.0\n        ],\n        \"semantic_type\": \"\",\n        \"description\": \"\"\n      }\n    }\n  ]\n}"
            }
          },
          "metadata": {},
          "execution_count": 100
        }
      ]
    },
    {
      "cell_type": "markdown",
      "source": [
        "Menampilkan semua nilai unik yang terdapat dalam kolom hr pada Dataset hour_df"
      ],
      "metadata": {
        "id": "vLatAKPdcoou"
      }
    },
    {
      "cell_type": "code",
      "source": [
        "print(hour_df[\"hr\"].unique())"
      ],
      "metadata": {
        "colab": {
          "base_uri": "https://localhost:8080/"
        },
        "id": "eF8nLWMycpCQ",
        "outputId": "bd80ff59-b7fa-4924-d146-3eb7be2b76d2"
      },
      "execution_count": 101,
      "outputs": [
        {
          "output_type": "stream",
          "name": "stdout",
          "text": [
            "[ 0  1  2  3  4  5  6  7  8  9 10 11 12 13 14 15 16 17 18 19 20 21 22 23]\n"
          ]
        }
      ]
    },
    {
      "cell_type": "markdown",
      "source": [
        "Mengelompokkan jam ke dalam kategori waktu tertentu (Dini Hari, Pagi, Siang, Sore, dan Malam)"
      ],
      "metadata": {
        "id": "I_G_4R7Bymow"
      }
    },
    {
      "cell_type": "code",
      "source": [
        "bins = [0, 6, 12, 16, 19, 24]\n",
        "labels = [\"Dini Hari\", \"Pagi\", \"Siang\", \"Sore\", \"Malam\"]\n",
        "\n",
        "hour_df[\"time_category\"] = pd.cut(hour_df[\"hr\"], bins=bins, labels=labels, right=False)\n",
        "\n",
        "print(hour_df[[\"hr\", \"time_category\"]].head(10))"
      ],
      "metadata": {
        "colab": {
          "base_uri": "https://localhost:8080/"
        },
        "id": "OyvTlSC4X9ks",
        "outputId": "751631b9-21b7-41ec-b5df-68e6885451bf"
      },
      "execution_count": 102,
      "outputs": [
        {
          "output_type": "stream",
          "name": "stdout",
          "text": [
            "   hr time_category\n",
            "0   0     Dini Hari\n",
            "1   1     Dini Hari\n",
            "2   2     Dini Hari\n",
            "3   3     Dini Hari\n",
            "4   4     Dini Hari\n",
            "5   5     Dini Hari\n",
            "6   6          Pagi\n",
            "7   7          Pagi\n",
            "8   8          Pagi\n",
            "9   9          Pagi\n"
          ]
        }
      ]
    },
    {
      "cell_type": "markdown",
      "source": [
        "\n",
        "Melakukan agregasi statistik pada dataset hour_df dengan mengelompokkan data berdasarkan kategori waktu dan menghitung total, rata-rata, serta frekuensi peminjaman (cnt)."
      ],
      "metadata": {
        "id": "xenanXr-y0QY"
      }
    },
    {
      "cell_type": "code",
      "source": [
        "hour_df.groupby(\"time_category\", observed=False).agg(\n",
        "    total_peminjaman=(\"cnt\", \"sum\"),\n",
        "    rata_rata_peminjaman=(\"cnt\", \"mean\"),\n",
        "    frekuensi_peminjaman=(\"cnt\", \"count\")\n",
        ")"
      ],
      "metadata": {
        "colab": {
          "base_uri": "https://localhost:8080/",
          "height": 237
        },
        "id": "Sk3UGCQoyAm_",
        "outputId": "d6e2a71b-54c9-497d-aebd-6455c6250c36"
      },
      "execution_count": 103,
      "outputs": [
        {
          "output_type": "execute_result",
          "data": {
            "text/plain": [
              "               total_peminjaman  rata_rata_peminjaman  frekuensi_peminjaman\n",
              "time_category                                                              \n",
              "Dini Hari                106509             24.908559                  4276\n",
              "Pagi                     907319            208.100688                  4360\n",
              "Siang                    728134            249.788679                  2915\n",
              "Sore                     874380            399.625229                  2188\n",
              "Malam                    676337            185.806868                  3640"
            ],
            "text/html": [
              "\n",
              "  <div id=\"df-8af7e1e4-184e-46c8-9fbb-1a54dd35b111\" class=\"colab-df-container\">\n",
              "    <div>\n",
              "<style scoped>\n",
              "    .dataframe tbody tr th:only-of-type {\n",
              "        vertical-align: middle;\n",
              "    }\n",
              "\n",
              "    .dataframe tbody tr th {\n",
              "        vertical-align: top;\n",
              "    }\n",
              "\n",
              "    .dataframe thead th {\n",
              "        text-align: right;\n",
              "    }\n",
              "</style>\n",
              "<table border=\"1\" class=\"dataframe\">\n",
              "  <thead>\n",
              "    <tr style=\"text-align: right;\">\n",
              "      <th></th>\n",
              "      <th>total_peminjaman</th>\n",
              "      <th>rata_rata_peminjaman</th>\n",
              "      <th>frekuensi_peminjaman</th>\n",
              "    </tr>\n",
              "    <tr>\n",
              "      <th>time_category</th>\n",
              "      <th></th>\n",
              "      <th></th>\n",
              "      <th></th>\n",
              "    </tr>\n",
              "  </thead>\n",
              "  <tbody>\n",
              "    <tr>\n",
              "      <th>Dini Hari</th>\n",
              "      <td>106509</td>\n",
              "      <td>24.908559</td>\n",
              "      <td>4276</td>\n",
              "    </tr>\n",
              "    <tr>\n",
              "      <th>Pagi</th>\n",
              "      <td>907319</td>\n",
              "      <td>208.100688</td>\n",
              "      <td>4360</td>\n",
              "    </tr>\n",
              "    <tr>\n",
              "      <th>Siang</th>\n",
              "      <td>728134</td>\n",
              "      <td>249.788679</td>\n",
              "      <td>2915</td>\n",
              "    </tr>\n",
              "    <tr>\n",
              "      <th>Sore</th>\n",
              "      <td>874380</td>\n",
              "      <td>399.625229</td>\n",
              "      <td>2188</td>\n",
              "    </tr>\n",
              "    <tr>\n",
              "      <th>Malam</th>\n",
              "      <td>676337</td>\n",
              "      <td>185.806868</td>\n",
              "      <td>3640</td>\n",
              "    </tr>\n",
              "  </tbody>\n",
              "</table>\n",
              "</div>\n",
              "    <div class=\"colab-df-buttons\">\n",
              "\n",
              "  <div class=\"colab-df-container\">\n",
              "    <button class=\"colab-df-convert\" onclick=\"convertToInteractive('df-8af7e1e4-184e-46c8-9fbb-1a54dd35b111')\"\n",
              "            title=\"Convert this dataframe to an interactive table.\"\n",
              "            style=\"display:none;\">\n",
              "\n",
              "  <svg xmlns=\"http://www.w3.org/2000/svg\" height=\"24px\" viewBox=\"0 -960 960 960\">\n",
              "    <path d=\"M120-120v-720h720v720H120Zm60-500h600v-160H180v160Zm220 220h160v-160H400v160Zm0 220h160v-160H400v160ZM180-400h160v-160H180v160Zm440 0h160v-160H620v160ZM180-180h160v-160H180v160Zm440 0h160v-160H620v160Z\"/>\n",
              "  </svg>\n",
              "    </button>\n",
              "\n",
              "  <style>\n",
              "    .colab-df-container {\n",
              "      display:flex;\n",
              "      gap: 12px;\n",
              "    }\n",
              "\n",
              "    .colab-df-convert {\n",
              "      background-color: #E8F0FE;\n",
              "      border: none;\n",
              "      border-radius: 50%;\n",
              "      cursor: pointer;\n",
              "      display: none;\n",
              "      fill: #1967D2;\n",
              "      height: 32px;\n",
              "      padding: 0 0 0 0;\n",
              "      width: 32px;\n",
              "    }\n",
              "\n",
              "    .colab-df-convert:hover {\n",
              "      background-color: #E2EBFA;\n",
              "      box-shadow: 0px 1px 2px rgba(60, 64, 67, 0.3), 0px 1px 3px 1px rgba(60, 64, 67, 0.15);\n",
              "      fill: #174EA6;\n",
              "    }\n",
              "\n",
              "    .colab-df-buttons div {\n",
              "      margin-bottom: 4px;\n",
              "    }\n",
              "\n",
              "    [theme=dark] .colab-df-convert {\n",
              "      background-color: #3B4455;\n",
              "      fill: #D2E3FC;\n",
              "    }\n",
              "\n",
              "    [theme=dark] .colab-df-convert:hover {\n",
              "      background-color: #434B5C;\n",
              "      box-shadow: 0px 1px 3px 1px rgba(0, 0, 0, 0.15);\n",
              "      filter: drop-shadow(0px 1px 2px rgba(0, 0, 0, 0.3));\n",
              "      fill: #FFFFFF;\n",
              "    }\n",
              "  </style>\n",
              "\n",
              "    <script>\n",
              "      const buttonEl =\n",
              "        document.querySelector('#df-8af7e1e4-184e-46c8-9fbb-1a54dd35b111 button.colab-df-convert');\n",
              "      buttonEl.style.display =\n",
              "        google.colab.kernel.accessAllowed ? 'block' : 'none';\n",
              "\n",
              "      async function convertToInteractive(key) {\n",
              "        const element = document.querySelector('#df-8af7e1e4-184e-46c8-9fbb-1a54dd35b111');\n",
              "        const dataTable =\n",
              "          await google.colab.kernel.invokeFunction('convertToInteractive',\n",
              "                                                    [key], {});\n",
              "        if (!dataTable) return;\n",
              "\n",
              "        const docLinkHtml = 'Like what you see? Visit the ' +\n",
              "          '<a target=\"_blank\" href=https://colab.research.google.com/notebooks/data_table.ipynb>data table notebook</a>'\n",
              "          + ' to learn more about interactive tables.';\n",
              "        element.innerHTML = '';\n",
              "        dataTable['output_type'] = 'display_data';\n",
              "        await google.colab.output.renderOutput(dataTable, element);\n",
              "        const docLink = document.createElement('div');\n",
              "        docLink.innerHTML = docLinkHtml;\n",
              "        element.appendChild(docLink);\n",
              "      }\n",
              "    </script>\n",
              "  </div>\n",
              "\n",
              "\n",
              "<div id=\"df-71dc8502-2eec-46f8-b097-d09fe1c85a7a\">\n",
              "  <button class=\"colab-df-quickchart\" onclick=\"quickchart('df-71dc8502-2eec-46f8-b097-d09fe1c85a7a')\"\n",
              "            title=\"Suggest charts\"\n",
              "            style=\"display:none;\">\n",
              "\n",
              "<svg xmlns=\"http://www.w3.org/2000/svg\" height=\"24px\"viewBox=\"0 0 24 24\"\n",
              "     width=\"24px\">\n",
              "    <g>\n",
              "        <path d=\"M19 3H5c-1.1 0-2 .9-2 2v14c0 1.1.9 2 2 2h14c1.1 0 2-.9 2-2V5c0-1.1-.9-2-2-2zM9 17H7v-7h2v7zm4 0h-2V7h2v10zm4 0h-2v-4h2v4z\"/>\n",
              "    </g>\n",
              "</svg>\n",
              "  </button>\n",
              "\n",
              "<style>\n",
              "  .colab-df-quickchart {\n",
              "      --bg-color: #E8F0FE;\n",
              "      --fill-color: #1967D2;\n",
              "      --hover-bg-color: #E2EBFA;\n",
              "      --hover-fill-color: #174EA6;\n",
              "      --disabled-fill-color: #AAA;\n",
              "      --disabled-bg-color: #DDD;\n",
              "  }\n",
              "\n",
              "  [theme=dark] .colab-df-quickchart {\n",
              "      --bg-color: #3B4455;\n",
              "      --fill-color: #D2E3FC;\n",
              "      --hover-bg-color: #434B5C;\n",
              "      --hover-fill-color: #FFFFFF;\n",
              "      --disabled-bg-color: #3B4455;\n",
              "      --disabled-fill-color: #666;\n",
              "  }\n",
              "\n",
              "  .colab-df-quickchart {\n",
              "    background-color: var(--bg-color);\n",
              "    border: none;\n",
              "    border-radius: 50%;\n",
              "    cursor: pointer;\n",
              "    display: none;\n",
              "    fill: var(--fill-color);\n",
              "    height: 32px;\n",
              "    padding: 0;\n",
              "    width: 32px;\n",
              "  }\n",
              "\n",
              "  .colab-df-quickchart:hover {\n",
              "    background-color: var(--hover-bg-color);\n",
              "    box-shadow: 0 1px 2px rgba(60, 64, 67, 0.3), 0 1px 3px 1px rgba(60, 64, 67, 0.15);\n",
              "    fill: var(--button-hover-fill-color);\n",
              "  }\n",
              "\n",
              "  .colab-df-quickchart-complete:disabled,\n",
              "  .colab-df-quickchart-complete:disabled:hover {\n",
              "    background-color: var(--disabled-bg-color);\n",
              "    fill: var(--disabled-fill-color);\n",
              "    box-shadow: none;\n",
              "  }\n",
              "\n",
              "  .colab-df-spinner {\n",
              "    border: 2px solid var(--fill-color);\n",
              "    border-color: transparent;\n",
              "    border-bottom-color: var(--fill-color);\n",
              "    animation:\n",
              "      spin 1s steps(1) infinite;\n",
              "  }\n",
              "\n",
              "  @keyframes spin {\n",
              "    0% {\n",
              "      border-color: transparent;\n",
              "      border-bottom-color: var(--fill-color);\n",
              "      border-left-color: var(--fill-color);\n",
              "    }\n",
              "    20% {\n",
              "      border-color: transparent;\n",
              "      border-left-color: var(--fill-color);\n",
              "      border-top-color: var(--fill-color);\n",
              "    }\n",
              "    30% {\n",
              "      border-color: transparent;\n",
              "      border-left-color: var(--fill-color);\n",
              "      border-top-color: var(--fill-color);\n",
              "      border-right-color: var(--fill-color);\n",
              "    }\n",
              "    40% {\n",
              "      border-color: transparent;\n",
              "      border-right-color: var(--fill-color);\n",
              "      border-top-color: var(--fill-color);\n",
              "    }\n",
              "    60% {\n",
              "      border-color: transparent;\n",
              "      border-right-color: var(--fill-color);\n",
              "    }\n",
              "    80% {\n",
              "      border-color: transparent;\n",
              "      border-right-color: var(--fill-color);\n",
              "      border-bottom-color: var(--fill-color);\n",
              "    }\n",
              "    90% {\n",
              "      border-color: transparent;\n",
              "      border-bottom-color: var(--fill-color);\n",
              "    }\n",
              "  }\n",
              "</style>\n",
              "\n",
              "  <script>\n",
              "    async function quickchart(key) {\n",
              "      const quickchartButtonEl =\n",
              "        document.querySelector('#' + key + ' button');\n",
              "      quickchartButtonEl.disabled = true;  // To prevent multiple clicks.\n",
              "      quickchartButtonEl.classList.add('colab-df-spinner');\n",
              "      try {\n",
              "        const charts = await google.colab.kernel.invokeFunction(\n",
              "            'suggestCharts', [key], {});\n",
              "      } catch (error) {\n",
              "        console.error('Error during call to suggestCharts:', error);\n",
              "      }\n",
              "      quickchartButtonEl.classList.remove('colab-df-spinner');\n",
              "      quickchartButtonEl.classList.add('colab-df-quickchart-complete');\n",
              "    }\n",
              "    (() => {\n",
              "      let quickchartButtonEl =\n",
              "        document.querySelector('#df-71dc8502-2eec-46f8-b097-d09fe1c85a7a button');\n",
              "      quickchartButtonEl.style.display =\n",
              "        google.colab.kernel.accessAllowed ? 'block' : 'none';\n",
              "    })();\n",
              "  </script>\n",
              "</div>\n",
              "\n",
              "    </div>\n",
              "  </div>\n"
            ],
            "application/vnd.google.colaboratory.intrinsic+json": {
              "type": "dataframe",
              "summary": "{\n  \"name\": \")\",\n  \"rows\": 5,\n  \"fields\": [\n    {\n      \"column\": \"time_category\",\n      \"properties\": {\n        \"dtype\": \"category\",\n        \"num_unique_values\": 5,\n        \"samples\": [\n          \"Pagi\",\n          \"Malam\",\n          \"Siang\"\n        ],\n        \"semantic_type\": \"\",\n        \"description\": \"\"\n      }\n    },\n    {\n      \"column\": \"total_peminjaman\",\n      \"properties\": {\n        \"dtype\": \"number\",\n        \"std\": 323410,\n        \"min\": 106509,\n        \"max\": 907319,\n        \"num_unique_values\": 5,\n        \"samples\": [\n          907319,\n          676337,\n          728134\n        ],\n        \"semantic_type\": \"\",\n        \"description\": \"\"\n      }\n    },\n    {\n      \"column\": \"rata_rata_peminjaman\",\n      \"properties\": {\n        \"dtype\": \"number\",\n        \"std\": 134.46389472168843,\n        \"min\": 24.908559401309635,\n        \"max\": 399.6252285191956,\n        \"num_unique_values\": 5,\n        \"samples\": [\n          208.1006880733945,\n          185.80686813186813,\n          249.78867924528302\n        ],\n        \"semantic_type\": \"\",\n        \"description\": \"\"\n      }\n    },\n    {\n      \"column\": \"frekuensi_peminjaman\",\n      \"properties\": {\n        \"dtype\": \"number\",\n        \"std\": 924,\n        \"min\": 2188,\n        \"max\": 4360,\n        \"num_unique_values\": 5,\n        \"samples\": [\n          4360,\n          3640,\n          2915\n        ],\n        \"semantic_type\": \"\",\n        \"description\": \"\"\n      }\n    }\n  ]\n}"
            }
          },
          "metadata": {},
          "execution_count": 103
        }
      ]
    },
    {
      "cell_type": "markdown",
      "source": [
        "Membuat visualisasi distribusi peminjaman sepeda berdasarkan kategori waktu dengan box plot."
      ],
      "metadata": {
        "id": "rzXmOGc5y7wb"
      }
    },
    {
      "cell_type": "code",
      "source": [
        "plt.figure(figsize=(10, 5))\n",
        "sns.boxplot(data=hour_df, x=\"time_category\", y=\"cnt\", hue=\"time_category\", palette=[\"#72BCD4\", \"#72BCD4\", \"#72BCD4\", \"#72BCD4\", \"#72BCD4\"], legend=False)\n",
        "plt.xlabel(\"Kategori Waktu\")\n",
        "plt.ylabel(\"Jumlah Peminjaman Sepeda\")\n",
        "plt.title(\"Distribusi Peminjaman Sepeda Berdasarkan Kategori Waktu\")\n",
        "plt.show()"
      ],
      "metadata": {
        "colab": {
          "base_uri": "https://localhost:8080/",
          "height": 487
        },
        "id": "xZmiJ9XbYN3P",
        "outputId": "fd5eadd7-8607-442d-ae9c-b266d18b7118"
      },
      "execution_count": 104,
      "outputs": [
        {
          "output_type": "display_data",
          "data": {
            "text/plain": [
              "<Figure size 1000x500 with 1 Axes>"
            ],
            "image/png": "[encoded data removed]"
          },
          "metadata": {}
        }
      ]
    },
    {
      "cell_type": "code",
      "source": [
        "hourly_category_stats = hour_df.groupby(\"time_category\", observed=False).agg(\n",
        "    total_peminjaman=(\"cnt\", \"sum\"),\n",
        "    frekuensi_peminjaman=(\"cnt\", \"count\")\n",
        ").reset_index()\n",
        "\n",
        "fig, ax = plt.subplots(figsize=(10, 5))\n",
        "\n",
        "sns.barplot(data=hourly_category_stats, x=\"time_category\", y=\"total_peminjaman\", color=\"#72BCD4\", label=\"Total Peminjaman\", alpha=0.7)\n",
        "\n",
        "ax2 = ax.twinx()\n",
        "sns.lineplot(data=hourly_category_stats, x=\"time_category\", y=\"frekuensi_peminjaman\", marker=\"o\", color=\"blue\", label=\"Frekuensi Peminjaman\", ax=ax2)\n",
        "\n",
        "ax.set_ylabel(\"Total Peminjaman\")\n",
        "ax2.set_ylabel(\"Frekuensi Peminjaman\")\n",
        "plt.title(\"Perbandingan Frekuensi vs Total Peminjaman Berdasarkan Kategori Waktu\")\n",
        "plt.show()"
      ],
      "metadata": {
        "colab": {
          "base_uri": "https://localhost:8080/",
          "height": 487
        },
        "id": "Jx6qEvQdaU-g",
        "outputId": "313a4ca7-cf1d-474b-c293-dd635f4ae819"
      },
      "execution_count": 105,
      "outputs": [
        {
          "output_type": "display_data",
          "data": {
            "text/plain": [
              "<Figure size 1000x500 with 2 Axes>"
            ],
            "image/png": "[encoded data removed]"
          },
          "metadata": {}
        }
      ]
    },
    {
      "cell_type": "markdown",
      "source": [
        "**Insight:**\n",
        "- **Berdasarkan Boxplot Distribusi Peminjaman Sepeda Berdasarkan Jenis Har**i\n",
        "1. Distribusi peminjaman sepeda pada Workday, Weekend, dan Holiday tidak memiliki perbedaan yang terlalu mencolok, dimana semua jenis hari memiliki rentang data yang hampir sama.\n",
        "2. Median Workday dan Weekend lebih tinggi dibandingkan Holiday yang menunjukkan bahwa pada hari kerja dan akhir pekan, peminjaman sepeda lebih sering digunakan.\n",
        "3. Interquartile range (IQR) yang lebar menunjukkan variasi peminjaman yang besar. Rentang data lebih luas pada Weekend dan Workday, menandakan perbedaan signifikan dalam jumlah peminjaman antar hari.\n",
        "4. Median Holiday lebih rendah dibandingkan Workday dan Weekend, dimana ini bisa menunjukkan bahwa pada hari libur, penggunaan sepeda lebih rendah, mungkin karena lebih sedikit orang yang bepergian ke kantor/sekolah.\n",
        "\n",
        "- **Berdasarkan Boxplot Distribusi Peminjaman Sepeda Berdasarkan Kategori Waktu**\n",
        "1. Peminjaman sepeda meningkat seiring waktu, dimana dini hari memiliki jumlah peminjaman paling rendah dengan rentang interquartile (IQR) yang kecil Kemudian peminjaman mulai meningkat di Pagi dan Siang, dengan distribusi data yang lebih lebar. Untuk puncak peminjaman terjadi pada Sore, terlihat dari median tertinggi dan IQR paling besar.  \n",
        "2. Median peminjaman tertinggi ada di Sore, menunjukkan bahwa lebih banyak orang menggunakan sepeda pada waktu ini.  Dan Variasi peminjaman (IQR) lebih luas, menandakan perbedaan jumlah peminjaman yang cukup signifikan antar waktunya.  \n",
        "3. Jumlah peminjaman sepeda pada dini hari paling rendah dengan median kecil dan rentang data sempit, menunjukkan penggunaan yang jarang dan stabil. Namun, banyaknya pencilan mengindikasikan lonjakan peminjaman pada momen tertentu.\n",
        "4. Peminjaman sepeda relatif tinggi pada pagi, siang, dan malam, dengan distribusi yang cukup mirip antara pagi dan siang serta median yang lebih tinggi dibanding dini hari. Meskipun lebih rendah dibanding sore, jumlah peminjaman pada malam tetap signifikan. Selain itu, banyaknya outlier di semua kategori waktu menunjukkan adanya fluktuasi peminjaman yang cukup ekstrem pada beberapa waktu tertentu.\n",
        "\n",
        "- **Berdasarkan Dual-Axis Chart Perbandingan Frekuensi vs Total Peminjaman Berdasarkan Kategori Waktu**\n",
        "1. Pagi dan Sore memiliki total peminjaman tertinggi, yang menunjukkan bahwa waktu ini paling banyak digunakan untuk menyewa sepeda.  \n",
        "2. Siang dan Malam memiliki total peminjaman yang lebih rendah dibanding Pagi dan Sore, namun tetap cukup signifikan.  \n",
        "3. Dini Hari memiliki total peminjaman paling sedikit, menunjukkan penggunaan sepeda sangat rendah pada waktu ini.  \n",
        "4. Frekuensi peminjaman menunjukkan pola yang berbeda dengan total peminjaman, dengan puncak pada Pagi dan Malam serta penurunan drastis pada Sore.  \n",
        "5. Frekuensi peminjaman terendah terjadi pada Sore, meskipun total peminjaman cukup tinggi, menunjukkan bahwa peminjaman pada Sore mungkin dilakukan dalam jumlah besar tetapi lebih jarang terjadi."
      ],
      "metadata": {
        "id": "th_Lzl2Fkj9O"
      }
    },
    {
      "cell_type": "markdown",
      "metadata": {
        "id": "zsyZjqak8DC2"
      },
      "source": [
        "## Visualization & Explanatory Analysis"
      ]
    },
    {
      "cell_type": "markdown",
      "metadata": {
        "id": "HZxOiQ6n8DC2"
      },
      "source": [
        "### Pertanyaan 1: Bagaimana distribusi jumlah peminjaman sepeda pada hari kerja, akhir pekan, dan hari libur?"
      ]
    },
    {
      "cell_type": "markdown",
      "source": [
        "Mengambil sampel acak dari DataFrame day"
      ],
      "metadata": {
        "id": "-7BWCzXQeeKR"
      }
    },
    {
      "cell_type": "code",
      "execution_count": 106,
      "metadata": {
        "id": "1swJUdAD8DC2",
        "colab": {
          "base_uri": "https://localhost:8080/",
          "height": 556
        },
        "outputId": "8fecb3b8-7cda-4976-f561-22c50a85eb0a"
      },
      "outputs": [
        {
          "output_type": "execute_result",
          "data": {
            "text/plain": [
              "     instant     dteday  season  yr  mnth  holiday  weekday  workingday  \\\n",
              "461      462 2012-04-06       2   1     4        0        5           1   \n",
              "175      176 2011-06-25       3   0     6        0        6           0   \n",
              "410      411 2012-02-15       1   1     2        0        3           1   \n",
              "267      268 2011-09-25       4   0     9        0        0           0   \n",
              "550      551 2012-07-04       3   1     7        1        3           0   \n",
              "623      624 2012-09-15       3   1     9        0        6           0   \n",
              "129      130 2011-05-10       2   0     5        0        2           1   \n",
              "722      723 2012-12-23       1   1    12        0        0           0   \n",
              "92        93 2011-04-03       2   0     4        0        0           0   \n",
              "281      282 2011-10-09       4   0    10        0        0           0   \n",
              "\n",
              "     weathersit      temp     atemp       hum  windspeed  casual  registered  \\\n",
              "461           1  0.403333  0.390767  0.377083   0.300388    1807        4653   \n",
              "175           1  0.695000  0.643313  0.483333   0.209571    1782        3420   \n",
              "410           1  0.348333  0.351629  0.531250   0.181600     141        4028   \n",
              "267           2  0.634167  0.572637  0.845000   0.050379    1544        3466   \n",
              "550           1  0.789167  0.732337  0.538750   0.134950    2562        4841   \n",
              "623           1  0.608333  0.585867  0.501667   0.247521    3160        5554   \n",
              "129           1  0.532500  0.522721  0.489167   0.115671     694        4109   \n",
              "722           1  0.245833  0.259471  0.515417   0.133083     408        1379   \n",
              "92            1  0.378333  0.378767  0.480000   0.182213    1651        1598   \n",
              "281           1  0.540833  0.523983  0.727500   0.063450    2397        3114   \n",
              "\n",
              "      cnt day_type  \n",
              "461  6460  Workday  \n",
              "175  5202  Weekend  \n",
              "410  4169  Workday  \n",
              "267  5010  Weekend  \n",
              "550  7403  Holiday  \n",
              "623  8714  Weekend  \n",
              "129  4803  Workday  \n",
              "722  1787  Weekend  \n",
              "92   3249  Weekend  \n",
              "281  5511  Weekend  "
            ],
            "text/html": [
              "\n",
              "  <div id=\"df-a7d5ac5f-c940-42ba-b4bf-31b5b2dcc390\" class=\"colab-df-container\">\n",
              "    <div>\n",
              "<style scoped>\n",
              "    .dataframe tbody tr th:only-of-type {\n",
              "        vertical-align: middle;\n",
              "    }\n",
              "\n",
              "    .dataframe tbody tr th {\n",
              "        vertical-align: top;\n",
              "    }\n",
              "\n",
              "    .dataframe thead th {\n",
              "        text-align: right;\n",
              "    }\n",
              "</style>\n",
              "<table border=\"1\" class=\"dataframe\">\n",
              "  <thead>\n",
              "    <tr style=\"text-align: right;\">\n",
              "      <th></th>\n",
              "      <th>instant</th>\n",
              "      <th>dteday</th>\n",
              "      <th>season</th>\n",
              "      <th>yr</th>\n",
              "      <th>mnth</th>\n",
              "      <th>holiday</th>\n",
              "      <th>weekday</th>\n",
              "      <th>workingday</th>\n",
              "      <th>weathersit</th>\n",
              "      <th>temp</th>\n",
              "      <th>atemp</th>\n",
              "      <th>hum</th>\n",
              "      <th>windspeed</th>\n",
              "      <th>casual</th>\n",
              "      <th>registered</th>\n",
              "      <th>cnt</th>\n",
              "      <th>day_type</th>\n",
              "    </tr>\n",
              "  </thead>\n",
              "  <tbody>\n",
              "    <tr>\n",
              "      <th>461</th>\n",
              "      <td>462</td>\n",
              "      <td>2012-04-06</td>\n",
              "      <td>2</td>\n",
              "      <td>1</td>\n",
              "      <td>4</td>\n",
              "      <td>0</td>\n",
              "      <td>5</td>\n",
              "      <td>1</td>\n",
              "      <td>1</td>\n",
              "      <td>0.403333</td>\n",
              "      <td>0.390767</td>\n",
              "      <td>0.377083</td>\n",
              "      <td>0.300388</td>\n",
              "      <td>1807</td>\n",
              "      <td>4653</td>\n",
              "      <td>6460</td>\n",
              "      <td>Workday</td>\n",
              "    </tr>\n",
              "    <tr>\n",
              "      <th>175</th>\n",
              "      <td>176</td>\n",
              "      <td>2011-06-25</td>\n",
              "      <td>3</td>\n",
              "      <td>0</td>\n",
              "      <td>6</td>\n",
              "      <td>0</td>\n",
              "      <td>6</td>\n",
              "      <td>0</td>\n",
              "      <td>1</td>\n",
              "      <td>0.695000</td>\n",
              "      <td>0.643313</td>\n",
              "      <td>0.483333</td>\n",
              "      <td>0.209571</td>\n",
              "      <td>1782</td>\n",
              "      <td>3420</td>\n",
              "      <td>5202</td>\n",
              "      <td>Weekend</td>\n",
              "    </tr>\n",
              "    <tr>\n",
              "      <th>410</th>\n",
              "      <td>411</td>\n",
              "      <td>2012-02-15</td>\n",
              "      <td>1</td>\n",
              "      <td>1</td>\n",
              "      <td>2</td>\n",
              "      <td>0</td>\n",
              "      <td>3</td>\n",
              "      <td>1</td>\n",
              "      <td>1</td>\n",
              "      <td>0.348333</td>\n",
              "      <td>0.351629</td>\n",
              "      <td>0.531250</td>\n",
              "      <td>0.181600</td>\n",
              "      <td>141</td>\n",
              "      <td>4028</td>\n",
              "      <td>4169</td>\n",
              "      <td>Workday</td>\n",
              "    </tr>\n",
              "    <tr>\n",
              "      <th>267</th>\n",
              "      <td>268</td>\n",
              "      <td>2011-09-25</td>\n",
              "      <td>4</td>\n",
              "      <td>0</td>\n",
              "      <td>9</td>\n",
              "      <td>0</td>\n",
              "      <td>0</td>\n",
              "      <td>0</td>\n",
              "      <td>2</td>\n",
              "      <td>0.634167</td>\n",
              "      <td>0.572637</td>\n",
              "      <td>0.845000</td>\n",
              "      <td>0.050379</td>\n",
              "      <td>1544</td>\n",
              "      <td>3466</td>\n",
              "      <td>5010</td>\n",
              "      <td>Weekend</td>\n",
              "    </tr>\n",
              "    <tr>\n",
              "      <th>550</th>\n",
              "      <td>551</td>\n",
              "      <td>2012-07-04</td>\n",
              "      <td>3</td>\n",
              "      <td>1</td>\n",
              "      <td>7</td>\n",
              "      <td>1</td>\n",
              "      <td>3</td>\n",
              "      <td>0</td>\n",
              "      <td>1</td>\n",
              "      <td>0.789167</td>\n",
              "      <td>0.732337</td>\n",
              "      <td>0.538750</td>\n",
              "      <td>0.134950</td>\n",
              "      <td>2562</td>\n",
              "      <td>4841</td>\n",
              "      <td>7403</td>\n",
              "      <td>Holiday</td>\n",
              "    </tr>\n",
              "    <tr>\n",
              "      <th>623</th>\n",
              "      <td>624</td>\n",
              "      <td>2012-09-15</td>\n",
              "      <td>3</td>\n",
              "      <td>1</td>\n",
              "      <td>9</td>\n",
              "      <td>0</td>\n",
              "      <td>6</td>\n",
              "      <td>0</td>\n",
              "      <td>1</td>\n",
              "      <td>0.608333</td>\n",
              "      <td>0.585867</td>\n",
              "      <td>0.501667</td>\n",
              "      <td>0.247521</td>\n",
              "      <td>3160</td>\n",
              "      <td>5554</td>\n",
              "      <td>8714</td>\n",
              "      <td>Weekend</td>\n",
              "    </tr>\n",
              "    <tr>\n",
              "      <th>129</th>\n",
              "      <td>130</td>\n",
              "      <td>2011-05-10</td>\n",
              "      <td>2</td>\n",
              "      <td>0</td>\n",
              "      <td>5</td>\n",
              "      <td>0</td>\n",
              "      <td>2</td>\n",
              "      <td>1</td>\n",
              "      <td>1</td>\n",
              "      <td>0.532500</td>\n",
              "      <td>0.522721</td>\n",
              "      <td>0.489167</td>\n",
              "      <td>0.115671</td>\n",
              "      <td>694</td>\n",
              "      <td>4109</td>\n",
              "      <td>4803</td>\n",
              "      <td>Workday</td>\n",
              "    </tr>\n",
              "    <tr>\n",
              "      <th>722</th>\n",
              "      <td>723</td>\n",
              "      <td>2012-12-23</td>\n",
              "      <td>1</td>\n",
              "      <td>1</td>\n",
              "      <td>12</td>\n",
              "      <td>0</td>\n",
              "      <td>0</td>\n",
              "      <td>0</td>\n",
              "      <td>1</td>\n",
              "      <td>0.245833</td>\n",
              "      <td>0.259471</td>\n",
              "      <td>0.515417</td>\n",
              "      <td>0.133083</td>\n",
              "      <td>408</td>\n",
              "      <td>1379</td>\n",
              "      <td>1787</td>\n",
              "      <td>Weekend</td>\n",
              "    </tr>\n",
              "    <tr>\n",
              "      <th>92</th>\n",
              "      <td>93</td>\n",
              "      <td>2011-04-03</td>\n",
              "      <td>2</td>\n",
              "      <td>0</td>\n",
              "      <td>4</td>\n",
              "      <td>0</td>\n",
              "      <td>0</td>\n",
              "      <td>0</td>\n",
              "      <td>1</td>\n",
              "      <td>0.378333</td>\n",
              "      <td>0.378767</td>\n",
              "      <td>0.480000</td>\n",
              "      <td>0.182213</td>\n",
              "      <td>1651</td>\n",
              "      <td>1598</td>\n",
              "      <td>3249</td>\n",
              "      <td>Weekend</td>\n",
              "    </tr>\n",
              "    <tr>\n",
              "      <th>281</th>\n",
              "      <td>282</td>\n",
              "      <td>2011-10-09</td>\n",
              "      <td>4</td>\n",
              "      <td>0</td>\n",
              "      <td>10</td>\n",
              "      <td>0</td>\n",
              "      <td>0</td>\n",
              "      <td>0</td>\n",
              "      <td>1</td>\n",
              "      <td>0.540833</td>\n",
              "      <td>0.523983</td>\n",
              "      <td>0.727500</td>\n",
              "      <td>0.063450</td>\n",
              "      <td>2397</td>\n",
              "      <td>3114</td>\n",
              "      <td>5511</td>\n",
              "      <td>Weekend</td>\n",
              "    </tr>\n",
              "  </tbody>\n",
              "</table>\n",
              "</div>\n",
              "    <div class=\"colab-df-buttons\">\n",
              "\n",
              "  <div class=\"colab-df-container\">\n",
              "    <button class=\"colab-df-convert\" onclick=\"convertToInteractive('df-a7d5ac5f-c940-42ba-b4bf-31b5b2dcc390')\"\n",
              "            title=\"Convert this dataframe to an interactive table.\"\n",
              "            style=\"display:none;\">\n",
              "\n",
              "  <svg xmlns=\"http://www.w3.org/2000/svg\" height=\"24px\" viewBox=\"0 -960 960 960\">\n",
              "    <path d=\"M120-120v-720h720v720H120Zm60-500h600v-160H180v160Zm220 220h160v-160H400v160Zm0 220h160v-160H400v160ZM180-400h160v-160H180v160Zm440 0h160v-160H620v160ZM180-180h160v-160H180v160Zm440 0h160v-160H620v160Z\"/>\n",
              "  </svg>\n",
              "    </button>\n",
              "\n",
              "  <style>\n",
              "    .colab-df-container {\n",
              "      display:flex;\n",
              "      gap: 12px;\n",
              "    }\n",
              "\n",
              "    .colab-df-convert {\n",
              "      background-color: #E8F0FE;\n",
              "      border: none;\n",
              "      border-radius: 50%;\n",
              "      cursor: pointer;\n",
              "      display: none;\n",
              "      fill: #1967D2;\n",
              "      height: 32px;\n",
              "      padding: 0 0 0 0;\n",
              "      width: 32px;\n",
              "    }\n",
              "\n",
              "    .colab-df-convert:hover {\n",
              "      background-color: #E2EBFA;\n",
              "      box-shadow: 0px 1px 2px rgba(60, 64, 67, 0.3), 0px 1px 3px 1px rgba(60, 64, 67, 0.15);\n",
              "      fill: #174EA6;\n",
              "    }\n",
              "\n",
              "    .colab-df-buttons div {\n",
              "      margin-bottom: 4px;\n",
              "    }\n",
              "\n",
              "    [theme=dark] .colab-df-convert {\n",
              "      background-color: #3B4455;\n",
              "      fill: #D2E3FC;\n",
              "    }\n",
              "\n",
              "    [theme=dark] .colab-df-convert:hover {\n",
              "      background-color: #434B5C;\n",
              "      box-shadow: 0px 1px 3px 1px rgba(0, 0, 0, 0.15);\n",
              "      filter: drop-shadow(0px 1px 2px rgba(0, 0, 0, 0.3));\n",
              "      fill: #FFFFFF;\n",
              "    }\n",
              "  </style>\n",
              "\n",
              "    <script>\n",
              "      const buttonEl =\n",
              "        document.querySelector('#df-a7d5ac5f-c940-42ba-b4bf-31b5b2dcc390 button.colab-df-convert');\n",
              "      buttonEl.style.display =\n",
              "        google.colab.kernel.accessAllowed ? 'block' : 'none';\n",
              "\n",
              "      async function convertToInteractive(key) {\n",
              "        const element = document.querySelector('#df-a7d5ac5f-c940-42ba-b4bf-31b5b2dcc390');\n",
              "        const dataTable =\n",
              "          await google.colab.kernel.invokeFunction('convertToInteractive',\n",
              "                                                    [key], {});\n",
              "        if (!dataTable) return;\n",
              "\n",
              "        const docLinkHtml = 'Like what you see? Visit the ' +\n",
              "          '<a target=\"_blank\" href=https://colab.research.google.com/notebooks/data_table.ipynb>data table notebook</a>'\n",
              "          + ' to learn more about interactive tables.';\n",
              "        element.innerHTML = '';\n",
              "        dataTable['output_type'] = 'display_data';\n",
              "        await google.colab.output.renderOutput(dataTable, element);\n",
              "        const docLink = document.createElement('div');\n",
              "        docLink.innerHTML = docLinkHtml;\n",
              "        element.appendChild(docLink);\n",
              "      }\n",
              "    </script>\n",
              "  </div>\n",
              "\n",
              "\n",
              "<div id=\"df-1fec602e-b32e-40f9-8f97-1c0509adb9f0\">\n",
              "  <button class=\"colab-df-quickchart\" onclick=\"quickchart('df-1fec602e-b32e-40f9-8f97-1c0509adb9f0')\"\n",
              "            title=\"Suggest charts\"\n",
              "            style=\"display:none;\">\n",
              "\n",
              "<svg xmlns=\"http://www.w3.org/2000/svg\" height=\"24px\"viewBox=\"0 0 24 24\"\n",
              "     width=\"24px\">\n",
              "    <g>\n",
              "        <path d=\"M19 3H5c-1.1 0-2 .9-2 2v14c0 1.1.9 2 2 2h14c1.1 0 2-.9 2-2V5c0-1.1-.9-2-2-2zM9 17H7v-7h2v7zm4 0h-2V7h2v10zm4 0h-2v-4h2v4z\"/>\n",
              "    </g>\n",
              "</svg>\n",
              "  </button>\n",
              "\n",
              "<style>\n",
              "  .colab-df-quickchart {\n",
              "      --bg-color: #E8F0FE;\n",
              "      --fill-color: #1967D2;\n",
              "      --hover-bg-color: #E2EBFA;\n",
              "      --hover-fill-color: #174EA6;\n",
              "      --disabled-fill-color: #AAA;\n",
              "      --disabled-bg-color: #DDD;\n",
              "  }\n",
              "\n",
              "  [theme=dark] .colab-df-quickchart {\n",
              "      --bg-color: #3B4455;\n",
              "      --fill-color: #D2E3FC;\n",
              "      --hover-bg-color: #434B5C;\n",
              "      --hover-fill-color: #FFFFFF;\n",
              "      --disabled-bg-color: #3B4455;\n",
              "      --disabled-fill-color: #666;\n",
              "  }\n",
              "\n",
              "  .colab-df-quickchart {\n",
              "    background-color: var(--bg-color);\n",
              "    border: none;\n",
              "    border-radius: 50%;\n",
              "    cursor: pointer;\n",
              "    display: none;\n",
              "    fill: var(--fill-color);\n",
              "    height: 32px;\n",
              "    padding: 0;\n",
              "    width: 32px;\n",
              "  }\n",
              "\n",
              "  .colab-df-quickchart:hover {\n",
              "    background-color: var(--hover-bg-color);\n",
              "    box-shadow: 0 1px 2px rgba(60, 64, 67, 0.3), 0 1px 3px 1px rgba(60, 64, 67, 0.15);\n",
              "    fill: var(--button-hover-fill-color);\n",
              "  }\n",
              "\n",
              "  .colab-df-quickchart-complete:disabled,\n",
              "  .colab-df-quickchart-complete:disabled:hover {\n",
              "    background-color: var(--disabled-bg-color);\n",
              "    fill: var(--disabled-fill-color);\n",
              "    box-shadow: none;\n",
              "  }\n",
              "\n",
              "  .colab-df-spinner {\n",
              "    border: 2px solid var(--fill-color);\n",
              "    border-color: transparent;\n",
              "    border-bottom-color: var(--fill-color);\n",
              "    animation:\n",
              "      spin 1s steps(1) infinite;\n",
              "  }\n",
              "\n",
              "  @keyframes spin {\n",
              "    0% {\n",
              "      border-color: transparent;\n",
              "      border-bottom-color: var(--fill-color);\n",
              "      border-left-color: var(--fill-color);\n",
              "    }\n",
              "    20% {\n",
              "      border-color: transparent;\n",
              "      border-left-color: var(--fill-color);\n",
              "      border-top-color: var(--fill-color);\n",
              "    }\n",
              "    30% {\n",
              "      border-color: transparent;\n",
              "      border-left-color: var(--fill-color);\n",
              "      border-top-color: var(--fill-color);\n",
              "      border-right-color: var(--fill-color);\n",
              "    }\n",
              "    40% {\n",
              "      border-color: transparent;\n",
              "      border-right-color: var(--fill-color);\n",
              "      border-top-color: var(--fill-color);\n",
              "    }\n",
              "    60% {\n",
              "      border-color: transparent;\n",
              "      border-right-color: var(--fill-color);\n",
              "    }\n",
              "    80% {\n",
              "      border-color: transparent;\n",
              "      border-right-color: var(--fill-color);\n",
              "      border-bottom-color: var(--fill-color);\n",
              "    }\n",
              "    90% {\n",
              "      border-color: transparent;\n",
              "      border-bottom-color: var(--fill-color);\n",
              "    }\n",
              "  }\n",
              "</style>\n",
              "\n",
              "  <script>\n",
              "    async function quickchart(key) {\n",
              "      const quickchartButtonEl =\n",
              "        document.querySelector('#' + key + ' button');\n",
              "      quickchartButtonEl.disabled = true;  // To prevent multiple clicks.\n",
              "      quickchartButtonEl.classList.add('colab-df-spinner');\n",
              "      try {\n",
              "        const charts = await google.colab.kernel.invokeFunction(\n",
              "            'suggestCharts', [key], {});\n",
              "      } catch (error) {\n",
              "        console.error('Error during call to suggestCharts:', error);\n",
              "      }\n",
              "      quickchartButtonEl.classList.remove('colab-df-spinner');\n",
              "      quickchartButtonEl.classList.add('colab-df-quickchart-complete');\n",
              "    }\n",
              "    (() => {\n",
              "      let quickchartButtonEl =\n",
              "        document.querySelector('#df-1fec602e-b32e-40f9-8f97-1c0509adb9f0 button');\n",
              "      quickchartButtonEl.style.display =\n",
              "        google.colab.kernel.accessAllowed ? 'block' : 'none';\n",
              "    })();\n",
              "  </script>\n",
              "</div>\n",
              "\n",
              "    </div>\n",
              "  </div>\n"
            ],
            "application/vnd.google.colaboratory.intrinsic+json": {
              "type": "dataframe",
              "summary": "{\n  \"name\": \"day_df\",\n  \"rows\": 10,\n  \"fields\": [\n    {\n      \"column\": \"instant\",\n      \"properties\": {\n        \"dtype\": \"number\",\n        \"std\": 216,\n        \"min\": 93,\n        \"max\": 723,\n        \"num_unique_values\": 10,\n        \"samples\": [\n          93,\n          176,\n          624\n        ],\n        \"semantic_type\": \"\",\n        \"description\": \"\"\n      }\n    },\n    {\n      \"column\": \"dteday\",\n      \"properties\": {\n        \"dtype\": \"date\",\n        \"min\": \"2011-04-03 00:00:00\",\n        \"max\": \"2012-12-23 00:00:00\",\n        \"num_unique_values\": 10,\n        \"samples\": [\n          \"2011-04-03 00:00:00\",\n          \"2011-06-25 00:00:00\",\n          \"2012-09-15 00:00:00\"\n        ],\n        \"semantic_type\": \"\",\n        \"description\": \"\"\n      }\n    },\n    {\n      \"column\": \"season\",\n      \"properties\": {\n        \"dtype\": \"number\",\n        \"std\": 1,\n        \"min\": 1,\n        \"max\": 4,\n        \"num_unique_values\": 4,\n        \"samples\": [\n          3,\n          4,\n          2\n        ],\n        \"semantic_type\": \"\",\n        \"description\": \"\"\n      }\n    },\n    {\n      \"column\": \"yr\",\n      \"properties\": {\n        \"dtype\": \"number\",\n        \"std\": 0,\n        \"min\": 0,\n        \"max\": 1,\n        \"num_unique_values\": 2,\n        \"samples\": [\n          0,\n          1\n        ],\n        \"semantic_type\": \"\",\n        \"description\": \"\"\n      }\n    },\n    {\n      \"column\": \"mnth\",\n      \"properties\": {\n        \"dtype\": \"number\",\n        \"std\": 3,\n        \"min\": 2,\n        \"max\": 12,\n        \"num_unique_values\": 8,\n        \"samples\": [\n          6,\n          5\n        ],\n        \"semantic_type\": \"\",\n        \"description\": \"\"\n      }\n    },\n    {\n      \"column\": \"holiday\",\n      \"properties\": {\n        \"dtype\": \"number\",\n        \"std\": 0,\n        \"min\": 0,\n        \"max\": 1,\n        \"num_unique_values\": 2,\n        \"samples\": [\n          1,\n          0\n        ],\n        \"semantic_type\": \"\",\n        \"description\": \"\"\n      }\n    },\n    {\n      \"column\": \"weekday\",\n      \"properties\": {\n        \"dtype\": \"number\",\n        \"std\": 2,\n        \"min\": 0,\n        \"max\": 6,\n        \"num_unique_values\": 5,\n        \"samples\": [\n          6,\n          2\n        ],\n        \"semantic_type\": \"\",\n        \"description\": \"\"\n      }\n    },\n    {\n      \"column\": \"workingday\",\n      \"properties\": {\n        \"dtype\": \"number\",\n        \"std\": 0,\n        \"min\": 0,\n        \"max\": 1,\n        \"num_unique_values\": 2,\n        \"samples\": [\n          0,\n          1\n        ],\n        \"semantic_type\": \"\",\n        \"description\": \"\"\n      }\n    },\n    {\n      \"column\": \"weathersit\",\n      \"properties\": {\n        \"dtype\": \"number\",\n        \"std\": 0,\n        \"min\": 1,\n        \"max\": 2,\n        \"num_unique_values\": 2,\n        \"samples\": [\n          2,\n          1\n        ],\n        \"semantic_type\": \"\",\n        \"description\": \"\"\n      }\n    },\n    {\n      \"column\": \"temp\",\n      \"properties\": {\n        \"dtype\": \"number\",\n        \"std\": 0.1708678442831054,\n        \"min\": 0.245833,\n        \"max\": 0.789167,\n        \"num_unique_values\": 10,\n        \"samples\": [\n          0.378333,\n          0.695\n        ],\n        \"semantic_type\": \"\",\n        \"description\": \"\"\n      }\n    },\n    {\n      \"column\": \"atemp\",\n      \"properties\": {\n        \"dtype\": \"number\",\n        \"std\": 0.14704835054407558,\n        \"min\": 0.259471,\n        \"max\": 0.732337,\n        \"num_unique_values\": 10,\n        \"samples\": [\n          0.378767,\n          0.643313\n        ],\n        \"semantic_type\": \"\",\n        \"description\": \"\"\n      }\n    },\n    {\n      \"column\": \"hum\",\n      \"properties\": {\n        \"dtype\": \"number\",\n        \"std\": 0.13559544979914825,\n        \"min\": 0.377083,\n        \"max\": 0.845,\n        \"num_unique_values\": 10,\n        \"samples\": [\n          0.48,\n          0.483333\n        ],\n        \"semantic_type\": \"\",\n        \"description\": \"\"\n      }\n    },\n    {\n      \"column\": \"windspeed\",\n      \"properties\": {\n        \"dtype\": \"number\",\n        \"std\": 0.07846177040585929,\n        \"min\": 0.0503792,\n        \"max\": 0.300388,\n        \"num_unique_values\": 10,\n        \"samples\": [\n          0.182213,\n          0.209571\n        ],\n        \"semantic_type\": \"\",\n        \"description\": \"\"\n      }\n    },\n    {\n      \"column\": \"casual\",\n      \"properties\": {\n        \"dtype\": \"number\",\n        \"std\": 968,\n        \"min\": 141,\n        \"max\": 3160,\n        \"num_unique_values\": 10,\n        \"samples\": [\n          1651,\n          1782\n        ],\n        \"semantic_type\": \"\",\n        \"description\": \"\"\n      }\n    },\n    {\n      \"column\": \"registered\",\n      \"properties\": {\n        \"dtype\": \"number\",\n        \"std\": 1338,\n        \"min\": 1379,\n        \"max\": 5554,\n        \"num_unique_values\": 10,\n        \"samples\": [\n          1598,\n          3420\n        ],\n        \"semantic_type\": \"\",\n        \"description\": \"\"\n      }\n    },\n    {\n      \"column\": \"cnt\",\n      \"properties\": {\n        \"dtype\": \"number\",\n        \"std\": 1988,\n        \"min\": 1787,\n        \"max\": 8714,\n        \"num_unique_values\": 10,\n        \"samples\": [\n          3249,\n          5202\n        ],\n        \"semantic_type\": \"\",\n        \"description\": \"\"\n      }\n    },\n    {\n      \"column\": \"day_type\",\n      \"properties\": {\n        \"dtype\": \"category\",\n        \"num_unique_values\": 3,\n        \"samples\": [\n          \"Workday\",\n          \"Weekend\"\n        ],\n        \"semantic_type\": \"\",\n        \"description\": \"\"\n      }\n    }\n  ]\n}"
            }
          },
          "metadata": {},
          "execution_count": 106
        }
      ],
      "source": [
        "day_df.sample(10)"
      ]
    },
    {
      "cell_type": "markdown",
      "source": [
        "Mengklasifikasikan jenis hari dalam dataset day_df"
      ],
      "metadata": {
        "id": "vCoD00s1eoEV"
      }
    },
    {
      "cell_type": "code",
      "source": [
        "def classify_day(row):\n",
        "    if row[\"holiday\"] == 1:\n",
        "        return \"Holiday\"\n",
        "    elif row[\"weekday\"] in [0, 6]:  # Minggu (0) dan Sabtu (6)\n",
        "        return \"Weekend\"\n",
        "    else:\n",
        "        return \"Workday\"\n",
        "\n",
        "day_df[\"day_type\"] = day_df.apply(classify_day, axis=1)"
      ],
      "metadata": {
        "id": "gO4xLJLJeotO"
      },
      "execution_count": 107,
      "outputs": []
    },
    {
      "cell_type": "markdown",
      "source": [
        "Menghitung total jumlah peminjaman sepeda (cnt) berdasarkan jenis hari (day_type) dalam DataFrame day_df"
      ],
      "metadata": {
        "id": "s5IFxufyerpj"
      }
    },
    {
      "cell_type": "code",
      "source": [
        "day_df.groupby(\"day_type\")[\"cnt\"].sum()"
      ],
      "metadata": {
        "colab": {
          "base_uri": "https://localhost:8080/",
          "height": 209
        },
        "id": "tfG2QTg2e15D",
        "outputId": "8020baa4-3adb-4b39-dc0e-aa6c5819fd51"
      },
      "execution_count": 108,
      "outputs": [
        {
          "output_type": "execute_result",
          "data": {
            "text/plain": [
              "day_type\n",
              "Holiday      78435\n",
              "Weekend     921834\n",
              "Workday    2292410\n",
              "Name: cnt, dtype: int64"
            ],
            "text/html": [
              "<div>\n",
              "<style scoped>\n",
              "    .dataframe tbody tr th:only-of-type {\n",
              "        vertical-align: middle;\n",
              "    }\n",
              "\n",
              "    .dataframe tbody tr th {\n",
              "        vertical-align: top;\n",
              "    }\n",
              "\n",
              "    .dataframe thead th {\n",
              "        text-align: right;\n",
              "    }\n",
              "</style>\n",
              "<table border=\"1\" class=\"dataframe\">\n",
              "  <thead>\n",
              "    <tr style=\"text-align: right;\">\n",
              "      <th></th>\n",
              "      <th>cnt</th>\n",
              "    </tr>\n",
              "    <tr>\n",
              "      <th>day_type</th>\n",
              "      <th></th>\n",
              "    </tr>\n",
              "  </thead>\n",
              "  <tbody>\n",
              "    <tr>\n",
              "      <th>Holiday</th>\n",
              "      <td>78435</td>\n",
              "    </tr>\n",
              "    <tr>\n",
              "      <th>Weekend</th>\n",
              "      <td>921834</td>\n",
              "    </tr>\n",
              "    <tr>\n",
              "      <th>Workday</th>\n",
              "      <td>2292410</td>\n",
              "    </tr>\n",
              "  </tbody>\n",
              "</table>\n",
              "</div><br><label><b>dtype:</b> int64</label>"
            ]
          },
          "metadata": {},
          "execution_count": 108
        }
      ]
    },
    {
      "cell_type": "markdown",
      "source": [
        "Visualisasi distribusi jumlah peminjaman sepeda (cnt) berdasarkan jenis hari (day_type)"
      ],
      "metadata": {
        "id": "fZxsZEDxe4Pm"
      }
    },
    {
      "cell_type": "code",
      "source": [
        "category_count = day_df.groupby(\"day_type\")[\"cnt\"].sum().reset_index()\n",
        "\n",
        "plt.figure(figsize=(8, 5))\n",
        "sns.barplot(x=\"day_type\", y=\"cnt\", data=category_count, hue=\"day_type\", palette=[\"#D3D3D3\", \"#D3D3D3\", \"#72BCD4\"], legend=False)\n",
        "\n",
        "plt.title(\"Total Peminjaman Sepeda Berdasarkan Kategori Hari\")\n",
        "plt.xlabel(\"Kategori Hari\")\n",
        "plt.ylabel(\"Total Peminjaman\")\n",
        "plt.show()"
      ],
      "metadata": {
        "colab": {
          "base_uri": "https://localhost:8080/",
          "height": 487
        },
        "id": "e8SxSxO_fFTj",
        "outputId": "fbb96b3f-08fa-4d0c-e9df-9df0c0290a76"
      },
      "execution_count": 109,
      "outputs": [
        {
          "output_type": "display_data",
          "data": {
            "text/plain": [
              "<Figure size 800x500 with 1 Axes>"
            ],
            "image/png": "[encoded data removed]"
          },
          "metadata": {}
        }
      ]
    },
    {
      "cell_type": "markdown",
      "source": [
        "Menghitung rata-rata peminjaman sepeda (cnt) berdasarkan jenis hari (day_type) dalam DataFrame day_df"
      ],
      "metadata": {
        "id": "8dFwslFHjTLc"
      }
    },
    {
      "cell_type": "code",
      "source": [
        "day_df.groupby(\"day_type\")[\"cnt\"].mean()"
      ],
      "metadata": {
        "colab": {
          "base_uri": "https://localhost:8080/",
          "height": 209
        },
        "id": "VuqaNh0CjWL5",
        "outputId": "767e547e-4575-459d-91e2-b55f8d63b8b4"
      },
      "execution_count": 110,
      "outputs": [
        {
          "output_type": "execute_result",
          "data": {
            "text/plain": [
              "day_type\n",
              "Holiday    3735.000000\n",
              "Weekend    4389.685714\n",
              "Workday    4584.820000\n",
              "Name: cnt, dtype: float64"
            ],
            "text/html": [
              "<div>\n",
              "<style scoped>\n",
              "    .dataframe tbody tr th:only-of-type {\n",
              "        vertical-align: middle;\n",
              "    }\n",
              "\n",
              "    .dataframe tbody tr th {\n",
              "        vertical-align: top;\n",
              "    }\n",
              "\n",
              "    .dataframe thead th {\n",
              "        text-align: right;\n",
              "    }\n",
              "</style>\n",
              "<table border=\"1\" class=\"dataframe\">\n",
              "  <thead>\n",
              "    <tr style=\"text-align: right;\">\n",
              "      <th></th>\n",
              "      <th>cnt</th>\n",
              "    </tr>\n",
              "    <tr>\n",
              "      <th>day_type</th>\n",
              "      <th></th>\n",
              "    </tr>\n",
              "  </thead>\n",
              "  <tbody>\n",
              "    <tr>\n",
              "      <th>Holiday</th>\n",
              "      <td>3735.000000</td>\n",
              "    </tr>\n",
              "    <tr>\n",
              "      <th>Weekend</th>\n",
              "      <td>4389.685714</td>\n",
              "    </tr>\n",
              "    <tr>\n",
              "      <th>Workday</th>\n",
              "      <td>4584.820000</td>\n",
              "    </tr>\n",
              "  </tbody>\n",
              "</table>\n",
              "</div><br><label><b>dtype:</b> float64</label>"
            ]
          },
          "metadata": {},
          "execution_count": 110
        }
      ]
    },
    {
      "cell_type": "markdown",
      "source": [
        "Visualisasi distribusi rata-rata peminjaman sepeda (cnt) berdasarkan jenis hari (day_type)"
      ],
      "metadata": {
        "id": "X72tjh66jcpL"
      }
    },
    {
      "cell_type": "code",
      "source": [
        "category_avg = day_df.groupby(\"day_type\")[\"cnt\"].mean().reset_index()\n",
        "\n",
        "plt.figure(figsize=(8, 5))\n",
        "sns.barplot(x=\"day_type\", y=\"cnt\", data=category_avg, hue=\"day_type\", palette=[\"#D3D3D3\", \"#D3D3D3\", \"#72BCD4\"], legend=False)\n",
        "\n",
        "plt.title(\"Rata-rata Peminjaman Sepeda Berdasarkan Kategori Hari\")\n",
        "plt.xlabel(\"Kategori Hari\")\n",
        "plt.ylabel(\"Rata-rata Peminjaman\")\n",
        "plt.show()"
      ],
      "metadata": {
        "colab": {
          "base_uri": "https://localhost:8080/",
          "height": 487
        },
        "id": "x2uM_rRDje5N",
        "outputId": "08e34548-627c-42cc-d782-4b47e729ebeb"
      },
      "execution_count": 111,
      "outputs": [
        {
          "output_type": "display_data",
          "data": {
            "text/plain": [
              "<Figure size 800x500 with 1 Axes>"
            ],
            "image/png": "[encoded data removed]"
          },
          "metadata": {}
        }
      ]
    },
    {
      "cell_type": "code",
      "source": [
        "category_count = day_df.groupby(\"day_type\")[\"cnt\"].sum().reset_index()\n",
        "category_avg = day_df.groupby(\"day_type\")[\"cnt\"].mean().reset_index()\n",
        "\n",
        "fig, axes = plt.subplots(1, 2, figsize=(14, 5))\n",
        "\n",
        "sns.barplot(ax=axes[0], x=\"day_type\", y=\"cnt\", data=category_count, hue=\"day_type\", palette=[\"#D3D3D3\", \"#D3D3D3\", \"#72BCD4\"], legend=False)\n",
        "axes[0].set_title(\"Total Peminjaman Sepeda Berdasarkan Kategori Hari\")\n",
        "axes[0].set_xlabel(\"Kategori Hari\")\n",
        "axes[0].set_ylabel(\"Total Peminjaman\")\n",
        "\n",
        "sns.barplot(ax=axes[1], x=\"day_type\", y=\"cnt\", data=category_avg, hue=\"day_type\", palette=[\"#D3D3D3\", \"#D3D3D3\", \"#72BCD4\"], legend=False)\n",
        "axes[1].set_title(\"Rata-rata Peminjaman Sepeda Berdasarkan Kategori Hari\")\n",
        "axes[1].set_xlabel(\"Kategori Hari\")\n",
        "axes[1].set_ylabel(\"Rata-rata Peminjaman\")\n",
        "\n",
        "plt.tight_layout()\n",
        "plt.show()"
      ],
      "metadata": {
        "colab": {
          "base_uri": "https://localhost:8080/",
          "height": 414
        },
        "id": "r8Ul8Cxk6Pwl",
        "outputId": "2d5356e1-5ee6-4384-a45f-6cbcb16ada27"
      },
      "execution_count": 112,
      "outputs": [
        {
          "output_type": "display_data",
          "data": {
            "text/plain": [
              "<Figure size 1400x500 with 2 Axes>"
            ],
            "image/png": "[encoded data removed]"
          },
          "metadata": {}
        }
      ]
    },
    {
      "cell_type": "markdown",
      "metadata": {
        "id": "DgHI7CiU8DC2"
      },
      "source": [
        "### Pertanyaan 2: Bagaimana pola peminjaman berdasarkan kategori waktu (jam), dan apakah frekuensi peminjaman selalu berbanding lurus dengan total jumlah peminjaman di setiap kategori waktu?"
      ]
    },
    {
      "cell_type": "markdown",
      "source": [
        "Mengelompokkan jam (hr) ke dalam kategori waktu tertentu menggunakan teknik binning."
      ],
      "metadata": {
        "id": "BpUvgEA_fXiQ"
      }
    },
    {
      "cell_type": "code",
      "execution_count": 113,
      "metadata": {
        "id": "Go0lCsvO8DC2",
        "colab": {
          "base_uri": "https://localhost:8080/"
        },
        "outputId": "6ee865fc-1377-41f7-8ede-cc03c71ed4ea"
      },
      "outputs": [
        {
          "output_type": "stream",
          "name": "stdout",
          "text": [
            "   hr time_category\n",
            "0   0     Dini Hari\n",
            "1   1     Dini Hari\n",
            "2   2     Dini Hari\n",
            "3   3     Dini Hari\n",
            "4   4     Dini Hari\n",
            "5   5     Dini Hari\n",
            "6   6          Pagi\n",
            "7   7          Pagi\n",
            "8   8          Pagi\n",
            "9   9          Pagi\n"
          ]
        }
      ],
      "source": [
        "bins = [0, 6, 12, 16, 19, 24]\n",
        "labels = [\"Dini Hari\", \"Pagi\", \"Siang\", \"Sore\", \"Malam\"]\n",
        "\n",
        "hour_df[\"time_category\"] = pd.cut(hour_df[\"hr\"], bins=bins, labels=labels, right=False)\n",
        "\n",
        "print(hour_df[[\"hr\", \"time_category\"]].head(10))"
      ]
    },
    {
      "cell_type": "markdown",
      "source": [
        "Mengelompokkan jumlah peminjaman sepeda berdasarkan kategori waktu dalam sehari"
      ],
      "metadata": {
        "id": "m5KeQjQNfYau"
      }
    },
    {
      "cell_type": "code",
      "source": [
        "time_distribution = hour_df.groupby(\"time_category\", observed=True)[\"cnt\"].sum().reset_index()\n",
        "print(time_distribution)"
      ],
      "metadata": {
        "colab": {
          "base_uri": "https://localhost:8080/"
        },
        "id": "AHB7ZmtOfcG9",
        "outputId": "2440a601-7837-4b4e-a891-579791169769"
      },
      "execution_count": 114,
      "outputs": [
        {
          "output_type": "stream",
          "name": "stdout",
          "text": [
            "  time_category     cnt\n",
            "0     Dini Hari  106509\n",
            "1          Pagi  907319\n",
            "2         Siang  728134\n",
            "3          Sore  874380\n",
            "4         Malam  676337\n"
          ]
        }
      ]
    },
    {
      "cell_type": "markdown",
      "source": [
        "Visualisasi jumlah total peminjaman sepeda berdasarkan kategori waktu dalam sehari"
      ],
      "metadata": {
        "id": "kZMJiIoOf95q"
      }
    },
    {
      "cell_type": "code",
      "source": [
        "plt.figure(figsize=(8, 5))\n",
        "sns.barplot(x=\"time_category\", y=\"cnt\", data=time_distribution, order=labels, color=\"#72BCD4\")\n",
        "\n",
        "plt.title(\"Distribusi Peminjaman Berdasarkan Kategori Waktu\")\n",
        "plt.xlabel(\"Kategori Waktu\")\n",
        "plt.ylabel(\"Total Peminjaman\")\n",
        "\n",
        "plt.show()"
      ],
      "metadata": {
        "colab": {
          "base_uri": "https://localhost:8080/",
          "height": 487
        },
        "id": "PBg5GAltf-Pm",
        "outputId": "825b88f6-d06f-4942-9adc-b60923df1023"
      },
      "execution_count": 115,
      "outputs": [
        {
          "output_type": "display_data",
          "data": {
            "text/plain": [
              "<Figure size 800x500 with 1 Axes>"
            ],
            "image/png": "[encoded data removed]"
          },
          "metadata": {}
        }
      ]
    },
    {
      "cell_type": "markdown",
      "source": [
        "Mengelompokkan frekuensi peminjaman sepeda berdasarkan kategori waktu dalam sehari"
      ],
      "metadata": {
        "id": "dLKG31pklHhb"
      }
    },
    {
      "cell_type": "code",
      "source": [
        "print(hour_df[\"time_category\"].value_counts())"
      ],
      "metadata": {
        "colab": {
          "base_uri": "https://localhost:8080/"
        },
        "id": "t8HUoR27lVF9",
        "outputId": "51a20b60-13b5-4665-afa9-d86453776f1e"
      },
      "execution_count": 116,
      "outputs": [
        {
          "output_type": "stream",
          "name": "stdout",
          "text": [
            "time_category\n",
            "Pagi         4360\n",
            "Dini Hari    4276\n",
            "Malam        3640\n",
            "Siang        2915\n",
            "Sore         2188\n",
            "Name: count, dtype: int64\n"
          ]
        }
      ]
    },
    {
      "cell_type": "markdown",
      "source": [
        "Visualisasi frekuensi peminjaman sepeda berdasarkan kategori waktu dalam sehari"
      ],
      "metadata": {
        "id": "SKnltganljVY"
      }
    },
    {
      "cell_type": "code",
      "source": [
        "plt.figure(figsize=(8, 5))\n",
        "sns.countplot(x=\"time_category\", data=hour_df, order=labels, color=\"#72BCD4\")\n",
        "plt.title(\"Frekuensi Peminjaman Berdasarkan Kategori Waktu\")\n",
        "plt.xlabel(\"Kategori Waktu\")\n",
        "plt.ylabel(\"Frekuensi\")\n",
        "plt.show()"
      ],
      "metadata": {
        "colab": {
          "base_uri": "https://localhost:8080/",
          "height": 487
        },
        "id": "4HvJIclNlmKt",
        "outputId": "754a6db0-23bc-4b28-ceec-cb9a3b7a7ca0"
      },
      "execution_count": 117,
      "outputs": [
        {
          "output_type": "display_data",
          "data": {
            "text/plain": [
              "<Figure size 800x500 with 1 Axes>"
            ],
            "image/png": "[encoded data removed]"
          },
          "metadata": {}
        }
      ]
    },
    {
      "cell_type": "code",
      "source": [
        "plt.figure(figsize=(14, 5))\n",
        "\n",
        "# Distribusi Peminjaman (Frekuensi) Berdasarkan Kategori Waktu\n",
        "plt.subplot(1, 2, 1)\n",
        "sns.countplot(x=\"time_category\", data=hour_df, order=labels, color=\"#72BCD4\")\n",
        "plt.title(\"Frekuensi Peminjaman Berdasarkan Kategori Waktu\")\n",
        "plt.xlabel(\"Kategori Waktu\")\n",
        "plt.ylabel(\"Frekuensi\")\n",
        "\n",
        "# Total Peminjaman Berdasarkan Kategori Waktu\n",
        "plt.subplot(1, 2, 2)\n",
        "sns.barplot(x=\"time_category\", y=\"cnt\", data=time_distribution, order=labels, color=\"#72BCD4\")\n",
        "plt.title(\"Distribusi Peminjaman Berdasarkan Kategori Waktu\")\n",
        "plt.xlabel(\"Kategori Waktu\")\n",
        "plt.ylabel(\"Total Peminjaman\")\n",
        "\n",
        "plt.tight_layout()\n",
        "plt.show()"
      ],
      "metadata": {
        "colab": {
          "base_uri": "https://localhost:8080/",
          "height": 414
        },
        "id": "vE5AxppvyfDP",
        "outputId": "ab4e582a-03d2-4618-e212-59f00ebe2f44"
      },
      "execution_count": 118,
      "outputs": [
        {
          "output_type": "display_data",
          "data": {
            "text/plain": [
              "<Figure size 1400x500 with 2 Axes>"
            ],
            "image/png": "[encoded data removed]"
          },
          "metadata": {}
        }
      ]
    },
    {
      "cell_type": "markdown",
      "source": [
        "**Insight:**\n",
        "- Pertanyaan 1\n",
        "\n",
        "Berdasarkan visualisasi data, jumlah total peminjaman sepeda tertinggi terjadi pada **hari kerja (workday)** dibandingkan dengan akhir pekan (weekend) dan hari libur (holiday). Hal ini menunjukkan bahwa sepeda lebih banyak digunakan sebagai sarana transportasi pada hari kerja, kemungkinan untuk keperluan seperti bekerja atau sekolah. Sementara itu, total peminjaman pada akhir pekan dan hari libur lebih rendah, mengindikasikan bahwa penggunaan sepeda pada hari-hari tersebut mungkin lebih bersifat rekreasi daripada kebutuhan harian.\n",
        "\n",
        "Untuk rata-rata peminjaman sepeda per hari menunjukkan bahwa setiap harinya, peminjaman pada hari kerja masih lebih tinggi dibandingkan akhir pekan dan hari libur, meskipun perbedaannya tidak terlalu signifikan. Rata-rata peminjaman pada akhir pekan dan hari libur relatif mirip, yang bisa jadi disebabkan oleh pola penggunaan sepeda yang lebih fleksibel di kedua kategori hari tersebut. Dengan demikian, layanan peminjaman sepeda dapat dioptimalkan dengan menyesuaikan jumlah sepeda yang tersedia dan jam operasional agar sesuai dengan lonjakan permintaan pada hari kerja.\n",
        "\n",
        "- Pertanyaan 2\n",
        "\n",
        "Grafik pertama menunjukkan distribusi **frekuensi peminjaman** berdasarkan kategori waktu. Peminjaman paling sering terjadi pada dini hari dan pagi, dengan jumlah yang hampir sama. Sementara itu, frekuensi peminjaman menurun pada siang dan mencapai titik terendah di sore hari, sebelum kembali meningkat pada malam hari. Pola ini menunjukkan bahwa pengguna lebih aktif melakukan peminjaman pada awal hari dan menjelang malam, sementara pada siang dan sore hari aktivitas peminjaman cenderung berkurang.\n",
        "\n",
        "Grafik kedua menggambarkan **total peminjaman** berdasarkan kategori waktu. Meskipun frekuensi peminjaman di sore hari tergolong rendah, total peminjaman justru tinggi, mendekati angka peminjaman pada pagi hari. Sebaliknya, dini hari memiliki frekuensi peminjaman yang tinggi, tetapi total peminjamannya jauh lebih rendah dibandingkan pagi dan sore. Hal ini menunjukkan bahwa meskipun jumlah transaksi peminjaman lebih banyak pada dini hari, frekuensi peminjaman lebih besar terjadi pada pagi dan sore. Insight ini mengindikasikan bahwa frekuensi peminjaman tidak selalu berkorelasi dengan total peminjaman."
      ],
      "metadata": {
        "id": "_0-36BDLklRg"
      }
    },
    {
      "cell_type": "markdown",
      "source": [
        "## Analisis Lanjutan (Opsional)"
      ],
      "metadata": {
        "id": "9y4VUsmcYNZ5"
      }
    },
    {
      "cell_type": "markdown",
      "source": [
        "Memeriksa apakah terdapat perbedaan signifikan antara **frekuensi peminjaman** dan **total peminjaman**"
      ],
      "metadata": {
        "id": "hmCWXcC1ccaF"
      }
    },
    {
      "cell_type": "markdown",
      "source": [
        "**Menganalisis hubungan antara frekuensi peminjaman dan total peminjaman berdasarkan kategori waktu.**"
      ],
      "metadata": {
        "id": "RknUYJER-AIJ"
      }
    },
    {
      "cell_type": "markdown",
      "source": [
        "Menghitung total peminjaman berdasarkan kategori waktu."
      ],
      "metadata": {
        "id": "1g7rZZQDhlrI"
      }
    },
    {
      "cell_type": "code",
      "source": [
        "total_peminjaman = hour_df.groupby('time_category', observed=True)['cnt'].sum().reset_index()"
      ],
      "metadata": {
        "id": "KZA9QVnqdMV3"
      },
      "execution_count": 119,
      "outputs": []
    },
    {
      "cell_type": "markdown",
      "source": [
        "Menghitung jumlah transaksi peminjaman (frekuensi peminjaman) berdasarkan kategori waktu."
      ],
      "metadata": {
        "id": "brIop9KqhnE8"
      }
    },
    {
      "cell_type": "code",
      "source": [
        "frekuensi_peminjaman = hour_df['time_category'].value_counts().reset_index()\n",
        "frekuensi_peminjaman.columns = ['time_category', 'frekuensi_peminjaman']"
      ],
      "metadata": {
        "id": "tTTEzYTDdnF5"
      },
      "execution_count": 120,
      "outputs": []
    },
    {
      "cell_type": "markdown",
      "source": [
        "Menggabungkan dua dataframe, yaitu total_peminjaman dan frekuensi_peminjaman, berdasarkan kolom 'time_category' menggunakan metode inner join."
      ],
      "metadata": {
        "id": "K3yP6SNwhy4M"
      }
    },
    {
      "cell_type": "code",
      "source": [
        "merged_df = pd.merge(total_peminjaman, frekuensi_peminjaman, on='time_category', how='inner')"
      ],
      "metadata": {
        "id": "PbXXF19bdsRc"
      },
      "execution_count": 121,
      "outputs": []
    },
    {
      "cell_type": "markdown",
      "source": [
        "Menghitung korelasi antara frekuensi peminjaman dan total peminjaman menggunakan dua metode korelasi yang berbeda: Pearson dan Spearman."
      ],
      "metadata": {
        "id": "reOi2lDDiF8n"
      }
    },
    {
      "cell_type": "code",
      "source": [
        "pearson_corr = merged_df[['frekuensi_peminjaman', 'cnt']].corr(method='pearson')\n",
        "spearman_corr = merged_df[['frekuensi_peminjaman', 'cnt']].corr(method='spearman')\n",
        "\n",
        "print(\"Korelasi Pearson:\\n\", pearson_corr)\n",
        "print(\"Korelasi Spearman:\\n\", spearman_corr)"
      ],
      "metadata": {
        "colab": {
          "base_uri": "https://localhost:8080/"
        },
        "id": "JS6TrrSwcml5",
        "outputId": "4b611af0-cc4a-4e43-eb3b-e19f6ad02e58"
      },
      "execution_count": 122,
      "outputs": [
        {
          "output_type": "stream",
          "name": "stdout",
          "text": [
            "Korelasi Pearson:\n",
            "                       frekuensi_peminjaman       cnt\n",
            "frekuensi_peminjaman              1.000000 -0.447819\n",
            "cnt                              -0.447819  1.000000\n",
            "Korelasi Spearman:\n",
            "                       frekuensi_peminjaman  cnt\n",
            "frekuensi_peminjaman                   1.0  0.0\n",
            "cnt                                    0.0  1.0\n"
          ]
        }
      ]
    },
    {
      "cell_type": "code",
      "source": [
        "plt.figure(figsize=(8, 5))\n",
        "sns.scatterplot(data=hourly_category_stats, x=\"frekuensi_peminjaman\", y=\"total_peminjaman\", color=\"#72BCD4\", alpha=0.7)\n",
        "\n",
        "sns.regplot(data=hourly_category_stats, x=\"frekuensi_peminjaman\", y=\"total_peminjaman\", scatter=False, color=\"blue\")\n",
        "\n",
        "plt.xlabel(\"Frekuensi Peminjaman\")\n",
        "plt.ylabel(\"Total Peminjaman\")\n",
        "plt.title(\"Hubungan antara Frekuensi dan Total Peminjaman\")\n",
        "\n",
        "plt.show()"
      ],
      "metadata": {
        "colab": {
          "base_uri": "https://localhost:8080/",
          "height": 487
        },
        "id": "J-ThKBrhoE1P",
        "outputId": "2e82fb03-e0e6-4418-8764-6a97987ed017"
      },
      "execution_count": 123,
      "outputs": [
        {
          "output_type": "display_data",
          "data": {
            "text/plain": [
              "<Figure size 800x500 with 1 Axes>"
            ],
            "image/png": "[encoded data removed]"
          },
          "metadata": {}
        }
      ]
    },
    {
      "cell_type": "markdown",
      "source": [
        "**Menganalisis hubungan antara frekuensi peminjaman dan total peminjaman sepeda berdasarkan jam (hr).**"
      ],
      "metadata": {
        "id": "mZg4LMMB-fZt"
      }
    },
    {
      "cell_type": "markdown",
      "source": [
        "Menghitung frekuensi peminjaman sepeda berdasarkan jam (hr) dan menambahkannya ke dataset utama (hour_df)."
      ],
      "metadata": {
        "id": "mnp-GggOiP8e"
      }
    },
    {
      "cell_type": "code",
      "source": [
        "hourly_freq = hour_df.groupby(\"hr\")[\"cnt\"].count().reset_index()\n",
        "hourly_freq.rename(columns={\"cnt\": \"frekuensi_peminjaman\"}, inplace=True)\n",
        "\n",
        "# Gabungkan dengan dataset utama\n",
        "hour_df = hour_df.merge(hourly_freq, on=\"hr\", how=\"left\")"
      ],
      "metadata": {
        "id": "N98noGk1fgjI"
      },
      "execution_count": 124,
      "outputs": []
    },
    {
      "cell_type": "markdown",
      "source": [
        "Membuat scatter plot (diagram pencar) yang menunjukkan hubungan antara frekuensi peminjaman dan total peminjaman sepeda."
      ],
      "metadata": {
        "id": "ccwxWplviXrJ"
      }
    },
    {
      "cell_type": "code",
      "source": [
        "plt.figure(figsize=(8,5))\n",
        "sns.scatterplot(data=hour_df, x='frekuensi_peminjaman', y='cnt')\n",
        "plt.title(\"Hubungan Frekuensi vs Total Peminjaman\")\n",
        "plt.xlabel(\"Frekuensi Peminjaman\")\n",
        "plt.ylabel(\"Total Peminjaman\")\n",
        "plt.grid(True)\n",
        "plt.show()"
      ],
      "metadata": {
        "colab": {
          "base_uri": "https://localhost:8080/",
          "height": 487
        },
        "id": "9gOBzB4fefT0",
        "outputId": "97081351-9bc3-4fb6-842c-52e91cc1ee3e"
      },
      "execution_count": 125,
      "outputs": [
        {
          "output_type": "display_data",
          "data": {
            "text/plain": [
              "<Figure size 800x500 with 1 Axes>"
            ],
            "image/png": "[encoded data removed]"
          },
          "metadata": {}
        }
      ]
    },
    {
      "cell_type": "markdown",
      "source": [
        "**Menganalisis rata-rata peminjaman sepeda berdasarkan kategori waktu**"
      ],
      "metadata": {
        "id": "8WE4Ivd29csJ"
      }
    },
    {
      "cell_type": "markdown",
      "source": [
        "Menggabungkan total peminjaman dan jumlah baris untuk setiap kategori waktu"
      ],
      "metadata": {
        "id": "7DKBukk4mvH9"
      }
    },
    {
      "cell_type": "code",
      "source": [
        "time_counts = hour_df[\"time_category\"].value_counts().reset_index()\n",
        "time_counts.columns = [\"time_category\", \"count\"]"
      ],
      "metadata": {
        "id": "5eG3l1X2mt2P"
      },
      "execution_count": 126,
      "outputs": []
    },
    {
      "cell_type": "markdown",
      "source": [
        "Menggabungkan dengan total peminjaman"
      ],
      "metadata": {
        "id": "qplupxtbmzrt"
      }
    },
    {
      "cell_type": "code",
      "source": [
        "time_analysis = time_distribution.merge(time_counts, on=\"time_category\")"
      ],
      "metadata": {
        "id": "9LQzDB3cmzZK"
      },
      "execution_count": 127,
      "outputs": []
    },
    {
      "cell_type": "markdown",
      "source": [
        "Menghitung rata-rata peminjaman per kategori waktu"
      ],
      "metadata": {
        "id": "JqYNnkpnm58t"
      }
    },
    {
      "cell_type": "code",
      "source": [
        "time_analysis[\"avg_peminjaman\"] = time_analysis[\"cnt\"] / time_analysis[\"count\"]\n",
        "print(time_analysis)"
      ],
      "metadata": {
        "colab": {
          "base_uri": "https://localhost:8080/"
        },
        "id": "rfrdSIgum6YW",
        "outputId": "86ee06f9-091c-48e3-c035-86a69ec03afe"
      },
      "execution_count": 128,
      "outputs": [
        {
          "output_type": "stream",
          "name": "stdout",
          "text": [
            "  time_category     cnt  count  avg_peminjaman\n",
            "0     Dini Hari  106509   4276       24.908559\n",
            "1          Pagi  907319   4360      208.100688\n",
            "2         Siang  728134   2915      249.788679\n",
            "3          Sore  874380   2188      399.625229\n",
            "4         Malam  676337   3640      185.806868\n"
          ]
        }
      ]
    },
    {
      "cell_type": "markdown",
      "source": [
        "Visualisasi rata-rata peminjaman per kategori waktu"
      ],
      "metadata": {
        "id": "UNh_r0Ty_Zzk"
      }
    },
    {
      "cell_type": "code",
      "source": [
        "plt.figure(figsize=(10,5))\n",
        "sns.barplot(x=\"time_category\", y=\"avg_peminjaman\", data=time_analysis, order=[\"Dini Hari\", \"Pagi\", \"Siang\", \"Sore\", \"Malam\"], color=\"#72BCD4\")\n",
        "plt.title(\"Rata-rata Peminjaman Sepeda Berdasarkan Kategori Waktu\")\n",
        "plt.xlabel(\"Kategori Waktu\")\n",
        "plt.ylabel(\"Rata-rata Peminjaman\")\n",
        "plt.show()"
      ],
      "metadata": {
        "colab": {
          "base_uri": "https://localhost:8080/",
          "height": 487
        },
        "id": "zWBoAKkTnqjf",
        "outputId": "60ea73fa-fa14-4179-abaa-a82fdbdbe8cf"
      },
      "execution_count": 129,
      "outputs": [
        {
          "output_type": "display_data",
          "data": {
            "text/plain": [
              "<Figure size 1000x500 with 1 Axes>"
            ],
            "image/png": "[encoded data removed]"
          },
          "metadata": {}
        }
      ]
    },
    {
      "cell_type": "markdown",
      "source": [
        "- Insight Analisis Lanjutan\n",
        "\n",
        "Dari hasil **menganalisis hubungan antara frekuensi peminjaman dan total peminjaman berdasarkan kategori waktu**, menunjukkan Korelasi Pearson Korelasi antara frekuensi_peminjaman dan cnt (total peminjaman) adalah -0.4478, yang berarti ada korelasi negatif sedang. Artinya, semakin tinggi frekuensi peminjaman, total peminjaman cenderung berkurang, atau sebaliknya. Ini menunjukkan bahwa **jumlah peminjaman tidak selalu berbanding lurus dengan banyaknya transaksi peminjaman**. Untuk Korelasi Spearman Hasilnya 0.0, yang berarti tidak ada korelasi monotonic (hubungan yang tetap meningkat atau menurun). Ini bisa terjadi jika data memiliki banyak nilai yang sama (ties), atau distribusi datanya tidak mengikuti pola tertentu. Sejalan dengan visualisasi scatter plot yang ditampilkan:  \n",
        "\n",
        "- **Hubungan Negatif** → Garis regresi merah menunjukkan adanya **korelasi negatif** antara frekuensi peminjaman dan total peminjaman. Artinya, ketika frekuensi peminjaman meningkat, total peminjaman cenderung menurun, dan sebaliknya.  \n",
        "- **Sebaran Data** → Titik-titik biru menunjukkan adanya variasi dalam hubungan ini. Beberapa titik yang jauh dari garis tren mengindikasikan bahwa hubungan antara kedua variabel tidak sepenuhnya linear.  \n",
        "- **Interval Kepercayaan** → Area merah di sekitar garis tren merepresentasikan **interval kepercayaan**. Semakin lebar area merah, semakin besar tingkat ketidakpastian dalam hubungan antara frekuensi peminjaman dan total peminjaman.\n",
        "\n",
        "Adapun dari hasil **Menganalisis hubungan antara frekuensi peminjaman dan total peminjaman sepeda berdasarkan jam (hr)**, menunjukkan **Hubungan Antara Frekuensi Peminjaman dan Total Peminjaman Tidak Linear**, dimana Data menunjukkan pola clustering pada nilai tertentu, dengan sebagian besar peminjaman terkonsentrasi di frekuensi 725–730, serta kelompok kecil di sekitar 698 dan 715. Distribusi total peminjaman tidak merata, di mana frekuensi tinggi tidak selalu berbanding lurus dengan jumlah peminjaman, menunjukkan variasi antar kategori waktu.\n",
        "\n",
        "Terakhir, untuk hasil **Menganalisis rata-rata peminjaman sepeda berdasarkan kategori waktu**, menunjukkan Peminjaman sepeda tertinggi terjadi pada sore hari, kemungkinan karena aktivitas pulang kerja, olahraga, atau rekreasi. Siang dan pagi juga menunjukkan angka peminjaman tinggi, terutama untuk keperluan kerja atau kuliah. Malam hari memiliki peminjaman lebih rendah, sementara dini hari menjadi waktu dengan peminjaman paling sedikit karena faktor keamanan dan minimnya aktivitas. Secara keseluruhan, sore hari adalah puncak peminjaman, sedangkan dini hari yang terendah."
      ],
      "metadata": {
        "id": "fLfbnOxdlrBD"
      }
    },
    {
      "cell_type": "markdown",
      "source": [
        "# Conclusion\n",
        "\n",
        "- Pertanyaan 1 : **Bagaimana distribusi jumlah peminjaman sepeda pada hari kerja, akhir pekan, dan hari libur?**\n",
        "\n",
        "1. Jumlah total peminjaman sepeda tertinggi terjadi pada **hari kerja (workday)** dibandingkan dengan akhir pekan (weekend) dan hari libur (holiday). Hal ini menunjukkan bahwa sepeda lebih banyak digunakan sebagai sarana transportasi pada hari kerja, kemungkinan untuk keperluan seperti bekerja atau sekolah.\n",
        "2. Total peminjaman pada akhir pekan dan hari libur lebih rendah, mengindikasikan bahwa penggunaan sepeda pada hari-hari tersebut mungkin lebih bersifat rekreasi daripada kebutuhan harian.\n",
        "3. Untuk rata-rata peminjaman sepeda per hari menunjukkan linear dengan Jumlah total peminjaman, dimana setiap harinya peminjaman pada hari kerja masih lebih tinggi dibandingkan akhir pekan dan hari libur, meskipun perbedaannya tidak terlalu signifikan.\n",
        "4. Rata-rata peminjaman pada akhir pekan dan hari libur relatif mirip, yang bisa jadi disebabkan oleh pola penggunaan sepeda yang lebih fleksibel di kedua kategori hari tersebut.\n",
        "\n",
        "   Dengan demikian, layanan peminjaman sepeda dapat dioptimalkan dengan menyesuaikan jumlah sepeda yang tersedia dan jam operasional agar sesuai dengan lonjakan permintaan pada hari kerja.\n",
        "\n",
        "- Pertanyaan 2 : **Bagaimana pola peminjaman berdasarkan kategori waktu (jam), dan apakah frekuensi peminjaman selalu berbanding lurus dengan total jumlah peminjaman di setiap kategori waktu?**\n",
        "\n",
        "  **Bagaimana pola peminjaman berdasarkan kategori waktu (jam)?**\n",
        "\n",
        "1. Peminjaman paling sering terjadi pada pagi hari, dengan jumlah yang tinggi, diikuti oleh sore hari yang mendekati angka peminjaman pada pagi hari.  \n",
        "2. Selanjutnya, peminjaman terjadi dalam jumlah lebih sedikit pada siang dan malam hari.  \n",
        "3. Total peminjaman pada dini hari tercatat sebagai yang paling rendah dibandingkan dengan pagi dan sore hari.\n",
        "\n",
        "  **Apakah frekuensi peminjaman selalu berbanding lurus dengan total jumlah peminjaman di setiap kategori waktu?**\n",
        "\n",
        "  Berdasarkan visualisasi data, meskipun frekuensi peminjaman tinggi pada dini hari, total peminjaman justru lebih rendah dibandingkan pagi dan sore, yang menunjukkan bahwa transaksi peminjaman di dini hari cenderung lebih kecil dalam jumlah per transaksi. Untuk melihat apakah terdapat perbedaan signifikan antara frekuensi peminjaman dengan total jumlah peminjaman di setiap kategori waktu akan dianalisis di analisis lanjutan.\n",
        "\n"
      ],
      "metadata": {
        "id": "P3ulOnPdfx9-"
      }
    },
    {
      "cell_type": "markdown",
      "metadata": {
        "id": "_WeHlCeX8DC2"
      },
      "source": [
        "## Conclusion Analisis Lanjutan"
      ]
    },
    {
      "cell_type": "markdown",
      "metadata": {
        "id": "ZTcyR48Y8DC2"
      },
      "source": [
        "1. Frekuensi peminjaman tidak selalu mencerminkan total peminjaman, karena terdapat faktor lain yang memengaruhinya. Artinya, frekuensi peminjaman selalu berbanding lurus dengan total jumlah peminjaman di setiap kategori waktu.\n",
        "2. Ada korelasi negatif sedang, artinya ketika frekuensi peminjaman tinggi, total peminjaman cenderung lebih rendah, atau sebaliknya.Faktor lain seperti durasi penggunaan sepeda, preferensi waktu tertentu, atau pola aktivitas pengguna bisa memengaruhi hubungan ini.\n",
        "3. Selain itu, berdasarkan rata-rata peminjaman yang menggabungkan frekuensi dan total peminjaman, terlihat bahwa sore hari memiliki angka yang cukup tinggi."
      ]
    },
    {
      "cell_type": "code",
      "source": [
        "day_df.to_csv(\"day_data.csv\", index=False)"
      ],
      "metadata": {
        "id": "Q3AMi6QZRJn6"
      },
      "execution_count": 130,
      "outputs": []
    },
    {
      "cell_type": "code",
      "source": [
        "hour_df.to_csv(\"hour_data.csv\", index=False)"
      ],
      "metadata": {
        "id": "CAhV5MtOAiuV"
      },
      "execution_count": 131,
      "outputs": []
    }
  ],
  "metadata": {
    "kernelspec": {
      "display_name": "Python 3",
      "language": "python",
      "name": "python3"
    },
    "language_info": {
      "name": "python",
      "version": "3.8.0 (tags/v3.8.0:fa919fd, Oct 14 2019, 19:21:23) [MSC v.1916 32 bit (Intel)]"
    },
    "orig_nbformat": 4,
    "vscode": {
      "interpreter": {
        "hash": "972b3bf27e332e87b5379f2791f6ef9dfc79c71018c370b0d7423235e20fe4d7"
      }
    },
    "colab": {
      "provenance": []
    }
  },
  "nbformat": 4,
  "nbformat_minor": 0
}